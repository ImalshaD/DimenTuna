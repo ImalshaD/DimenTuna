{
 "cells": [
  {
   "cell_type": "code",
   "execution_count": 1,
   "metadata": {
    "execution": {
     "iopub.execute_input": "2024-12-29T15:32:27.631303Z",
     "iopub.status.busy": "2024-12-29T15:32:27.630946Z",
     "iopub.status.idle": "2024-12-29T15:32:36.770768Z",
     "shell.execute_reply": "2024-12-29T15:32:36.769952Z",
     "shell.execute_reply.started": "2024-12-29T15:32:27.631258Z"
    },
    "trusted": true
   },
   "outputs": [
    {
     "name": "stdout",
     "output_type": "stream",
     "text": [
      "Collecting git+https://github.com/ImalshaD/DimenTuna.git\n",
      "  Cloning https://github.com/ImalshaD/DimenTuna.git to /tmp/pip-req-build-ci4a65hd\n",
      "  Running command git clone --filter=blob:none --quiet https://github.com/ImalshaD/DimenTuna.git /tmp/pip-req-build-ci4a65hd\n",
      "  Resolved https://github.com/ImalshaD/DimenTuna.git to commit ea7b5024e300e76941aa3d0e3c89e06ec22f0c2d\n",
      "  Installing build dependencies ... \u001b[?25l\u001b[?25hdone\n",
      "  Getting requirements to build wheel ... \u001b[?25l\u001b[?25hdone\n",
      "  Preparing metadata (pyproject.toml) ... \u001b[?25l\u001b[?25hdone\n",
      "Requirement already satisfied: torch<3.0.0,>=2.4.1 in /usr/local/lib/python3.10/dist-packages (from dimentuna==0.1.0) (2.4.1+cu121)\n",
      "Requirement already satisfied: tqdm<5.0.0,>=4.66.5 in /usr/local/lib/python3.10/dist-packages (from dimentuna==0.1.0) (4.66.5)\n",
      "Requirement already satisfied: transformers<5.0.0,>=4.44.2 in /usr/local/lib/python3.10/dist-packages (from dimentuna==0.1.0) (4.44.2)\n",
      "Requirement already satisfied: filelock in /usr/local/lib/python3.10/dist-packages (from torch<3.0.0,>=2.4.1->dimentuna==0.1.0) (3.16.1)\n",
      "Requirement already satisfied: typing-extensions>=4.8.0 in /usr/local/lib/python3.10/dist-packages (from torch<3.0.0,>=2.4.1->dimentuna==0.1.0) (4.12.2)\n",
      "Requirement already satisfied: sympy in /usr/local/lib/python3.10/dist-packages (from torch<3.0.0,>=2.4.1->dimentuna==0.1.0) (1.13.3)\n",
      "Requirement already satisfied: networkx in /usr/local/lib/python3.10/dist-packages (from torch<3.0.0,>=2.4.1->dimentuna==0.1.0) (3.3)\n",
      "Requirement already satisfied: jinja2 in /usr/local/lib/python3.10/dist-packages (from torch<3.0.0,>=2.4.1->dimentuna==0.1.0) (3.1.4)\n",
      "Requirement already satisfied: fsspec in /usr/local/lib/python3.10/dist-packages (from torch<3.0.0,>=2.4.1->dimentuna==0.1.0) (2024.6.1)\n",
      "Requirement already satisfied: huggingface-hub<1.0,>=0.23.2 in /usr/local/lib/python3.10/dist-packages (from transformers<5.0.0,>=4.44.2->dimentuna==0.1.0) (0.24.7)\n",
      "Requirement already satisfied: numpy>=1.17 in /usr/local/lib/python3.10/dist-packages (from transformers<5.0.0,>=4.44.2->dimentuna==0.1.0) (1.26.4)\n",
      "Requirement already satisfied: packaging>=20.0 in /usr/local/lib/python3.10/dist-packages (from transformers<5.0.0,>=4.44.2->dimentuna==0.1.0) (24.1)\n",
      "Requirement already satisfied: pyyaml>=5.1 in /usr/local/lib/python3.10/dist-packages (from transformers<5.0.0,>=4.44.2->dimentuna==0.1.0) (6.0.2)\n",
      "Requirement already satisfied: regex!=2019.12.17 in /usr/local/lib/python3.10/dist-packages (from transformers<5.0.0,>=4.44.2->dimentuna==0.1.0) (2024.9.11)\n",
      "Requirement already satisfied: requests in /usr/local/lib/python3.10/dist-packages (from transformers<5.0.0,>=4.44.2->dimentuna==0.1.0) (2.32.3)\n",
      "Requirement already satisfied: safetensors>=0.4.1 in /usr/local/lib/python3.10/dist-packages (from transformers<5.0.0,>=4.44.2->dimentuna==0.1.0) (0.4.5)\n",
      "Requirement already satisfied: tokenizers<0.20,>=0.19 in /usr/local/lib/python3.10/dist-packages (from transformers<5.0.0,>=4.44.2->dimentuna==0.1.0) (0.19.1)\n",
      "Requirement already satisfied: MarkupSafe>=2.0 in /usr/local/lib/python3.10/dist-packages (from jinja2->torch<3.0.0,>=2.4.1->dimentuna==0.1.0) (2.1.5)\n",
      "Requirement already satisfied: charset-normalizer<4,>=2 in /usr/local/lib/python3.10/dist-packages (from requests->transformers<5.0.0,>=4.44.2->dimentuna==0.1.0) (3.3.2)\n",
      "Requirement already satisfied: idna<4,>=2.5 in /usr/local/lib/python3.10/dist-packages (from requests->transformers<5.0.0,>=4.44.2->dimentuna==0.1.0) (3.10)\n",
      "Requirement already satisfied: urllib3<3,>=1.21.1 in /usr/local/lib/python3.10/dist-packages (from requests->transformers<5.0.0,>=4.44.2->dimentuna==0.1.0) (2.2.3)\n",
      "Requirement already satisfied: certifi>=2017.4.17 in /usr/local/lib/python3.10/dist-packages (from requests->transformers<5.0.0,>=4.44.2->dimentuna==0.1.0) (2024.8.30)\n",
      "Requirement already satisfied: mpmath<1.4,>=1.1.0 in /usr/local/lib/python3.10/dist-packages (from sympy->torch<3.0.0,>=2.4.1->dimentuna==0.1.0) (1.3.0)\n",
      "Building wheels for collected packages: dimentuna\n",
      "  Building wheel for dimentuna (pyproject.toml) ... \u001b[?25l\u001b[?25hdone\n",
      "  Created wheel for dimentuna: filename=dimentuna-0.1.0-py3-none-any.whl size=12211 sha256=c417f5acf62bb3d6134c96bcfde8bbf71465d2d6d5c098e9f6fb2295ddc970df\n",
      "  Stored in directory: /tmp/pip-ephem-wheel-cache-t6rzhvda/wheels/89/ad/9e/afdd2aa93b530235733e958fe3b5e1af3fe0f6530eca3957fb\n",
      "Successfully built dimentuna\n",
      "Installing collected packages: dimentuna\n",
      "Successfully installed dimentuna-0.1.0\n"
     ]
    }
   ],
   "source": [
    "# !pip install git+https://github.com/ImalshaD/DimenTuna.git"
   ]
  },
  {
   "cell_type": "code",
   "execution_count": 2,
   "metadata": {
    "execution": {
     "iopub.execute_input": "2024-12-29T15:32:36.772344Z",
     "iopub.status.busy": "2024-12-29T15:32:36.772083Z",
     "iopub.status.idle": "2024-12-29T15:32:39.754360Z",
     "shell.execute_reply": "2024-12-29T15:32:39.753565Z",
     "shell.execute_reply.started": "2024-12-29T15:32:36.772324Z"
    },
    "trusted": true
   },
   "outputs": [],
   "source": [
    "import torch"
   ]
  },
  {
   "cell_type": "code",
   "execution_count": null,
   "metadata": {},
   "outputs": [],
   "source": [
    "# torch.set_float32_matmul_precision('high')"
   ]
  },
  {
   "cell_type": "code",
   "execution_count": 3,
   "metadata": {
    "execution": {
     "iopub.execute_input": "2024-12-29T15:32:39.756524Z",
     "iopub.status.busy": "2024-12-29T15:32:39.756165Z",
     "iopub.status.idle": "2024-12-29T15:32:40.738044Z",
     "shell.execute_reply": "2024-12-29T15:32:40.737181Z",
     "shell.execute_reply.started": "2024-12-29T15:32:39.756500Z"
    },
    "trusted": true
   },
   "outputs": [],
   "source": [
    "from dimentuna import DTHfEncoder, LayerWrappebleDTHfLLM, LayerWrappebleQwen, DTConfig"
   ]
  },
  {
   "cell_type": "code",
   "execution_count": 4,
   "metadata": {
    "execution": {
     "iopub.execute_input": "2024-12-29T15:32:40.739533Z",
     "iopub.status.busy": "2024-12-29T15:32:40.739248Z",
     "iopub.status.idle": "2024-12-29T15:32:40.743092Z",
     "shell.execute_reply": "2024-12-29T15:32:40.742371Z",
     "shell.execute_reply.started": "2024-12-29T15:32:40.739510Z"
    },
    "trusted": true
   },
   "outputs": [],
   "source": [
    "from dimentuna import LinearMapper, DTLayerWrapper, LinearWrapper, FeedForwardProjector, LSTMProjector"
   ]
  },
  {
   "cell_type": "code",
   "execution_count": 5,
   "metadata": {
    "execution": {
     "iopub.execute_input": "2024-12-29T15:32:40.744131Z",
     "iopub.status.busy": "2024-12-29T15:32:40.743830Z",
     "iopub.status.idle": "2024-12-29T15:32:40.760212Z",
     "shell.execute_reply": "2024-12-29T15:32:40.759550Z",
     "shell.execute_reply.started": "2024-12-29T15:32:40.744080Z"
    },
    "trusted": true
   },
   "outputs": [],
   "source": [
    "from dimentuna import TwoPhasedTS, TwoPhasedSeq2SeqTS"
   ]
  },
  {
   "cell_type": "code",
   "execution_count": null,
   "metadata": {},
   "outputs": [],
   "source": [
    "from dimentuna import DTMsgm"
   ]
  },
  {
   "cell_type": "code",
   "execution_count": 6,
   "metadata": {
    "execution": {
     "iopub.execute_input": "2024-12-29T15:32:40.761323Z",
     "iopub.status.busy": "2024-12-29T15:32:40.761022Z",
     "iopub.status.idle": "2024-12-29T15:32:41.727195Z",
     "shell.execute_reply": "2024-12-29T15:32:41.726517Z",
     "shell.execute_reply.started": "2024-12-29T15:32:40.761295Z"
    },
    "trusted": true
   },
   "outputs": [],
   "source": [
    "from datasets import load_dataset"
   ]
  },
  {
   "cell_type": "code",
   "execution_count": 7,
   "metadata": {
    "execution": {
     "iopub.execute_input": "2024-12-29T15:32:41.728466Z",
     "iopub.status.busy": "2024-12-29T15:32:41.727943Z",
     "iopub.status.idle": "2024-12-29T15:32:41.732111Z",
     "shell.execute_reply": "2024-12-29T15:32:41.731181Z",
     "shell.execute_reply.started": "2024-12-29T15:32:41.728430Z"
    },
    "trusted": true
   },
   "outputs": [],
   "source": [
    "from torch.utils.data import Dataset, DataLoader"
   ]
  },
  {
   "cell_type": "markdown",
   "metadata": {},
   "source": [
    "# Parameters"
   ]
  },
  {
   "cell_type": "code",
   "execution_count": 8,
   "metadata": {
    "execution": {
     "iopub.execute_input": "2024-12-29T15:32:41.734916Z",
     "iopub.status.busy": "2024-12-29T15:32:41.734631Z",
     "iopub.status.idle": "2024-12-29T15:32:41.751502Z",
     "shell.execute_reply": "2024-12-29T15:32:41.750871Z",
     "shell.execute_reply.started": "2024-12-29T15:32:41.734890Z"
    },
    "trusted": true
   },
   "outputs": [],
   "source": [
    "batch_size = 4\n",
    "epochs = 10"
   ]
  },
  {
   "cell_type": "code",
   "execution_count": 9,
   "metadata": {
    "execution": {
     "iopub.execute_input": "2024-12-29T15:32:41.753194Z",
     "iopub.status.busy": "2024-12-29T15:32:41.752897Z",
     "iopub.status.idle": "2024-12-29T15:32:41.765734Z",
     "shell.execute_reply": "2024-12-29T15:32:41.764974Z",
     "shell.execute_reply.started": "2024-12-29T15:32:41.753161Z"
    },
    "trusted": true
   },
   "outputs": [],
   "source": [
    "data_cache = '\\data_cache'"
   ]
  },
  {
   "cell_type": "code",
   "execution_count": 10,
   "metadata": {
    "execution": {
     "iopub.execute_input": "2024-12-29T15:32:41.766779Z",
     "iopub.status.busy": "2024-12-29T15:32:41.766503Z",
     "iopub.status.idle": "2024-12-29T15:32:41.780402Z",
     "shell.execute_reply": "2024-12-29T15:32:41.779686Z",
     "shell.execute_reply.started": "2024-12-29T15:32:41.766751Z"
    },
    "trusted": true
   },
   "outputs": [],
   "source": [
    "model_cache = \".\\model_cache\""
   ]
  },
  {
   "cell_type": "code",
   "execution_count": 11,
   "metadata": {
    "execution": {
     "iopub.execute_input": "2024-12-29T15:32:41.781461Z",
     "iopub.status.busy": "2024-12-29T15:32:41.781229Z",
     "iopub.status.idle": "2024-12-29T15:32:41.836178Z",
     "shell.execute_reply": "2024-12-29T15:32:41.835359Z",
     "shell.execute_reply.started": "2024-12-29T15:32:41.781442Z"
    },
    "trusted": true
   },
   "outputs": [],
   "source": [
    "device = torch.device(\"cuda\" if torch.cuda.is_available() else \"cpu\")"
   ]
  },
  {
   "cell_type": "markdown",
   "metadata": {},
   "source": [
    "# Datasets and Preprocessing"
   ]
  },
  {
   "cell_type": "code",
   "execution_count": null,
   "metadata": {},
   "outputs": [],
   "source": [
    "mgsm = DTMsgm()"
   ]
  },
  {
   "cell_type": "code",
   "execution_count": 12,
   "metadata": {
    "execution": {
     "iopub.execute_input": "2024-12-29T15:32:41.837313Z",
     "iopub.status.busy": "2024-12-29T15:32:41.837014Z",
     "iopub.status.idle": "2024-12-29T15:32:45.818979Z",
     "shell.execute_reply": "2024-12-29T15:32:45.818161Z",
     "shell.execute_reply.started": "2024-12-29T15:32:41.837285Z"
    },
    "trusted": true
   },
   "outputs": [
    {
     "data": {
      "application/vnd.jupyter.widget-view+json": {
       "model_id": "5568e4b35023452e8c208d877783ef54",
       "version_major": 2,
       "version_minor": 0
      },
      "text/plain": [
       "README.md:   0%|          | 0.00/838 [00:00<?, ?B/s]"
      ]
     },
     "metadata": {},
     "output_type": "display_data"
    },
    {
     "data": {
      "application/vnd.jupyter.widget-view+json": {
       "model_id": "ef383a02e96c42ef8afae0c714b3c83b",
       "version_major": 2,
       "version_minor": 0
      },
      "text/plain": [
       "(…)-00000-of-00001-d40eb5f467f27c86.parquet:   0%|          | 0.00/57.9M [00:00<?, ?B/s]"
      ]
     },
     "metadata": {},
     "output_type": "display_data"
    },
    {
     "data": {
      "application/vnd.jupyter.widget-view+json": {
       "model_id": "31927e3e84bd41d2911efa78d88e8ae6",
       "version_major": 2,
       "version_minor": 0
      },
      "text/plain": [
       "(…)-00000-of-00001-9ddeb1798398c38c.parquet:   0%|          | 0.00/3.06M [00:00<?, ?B/s]"
      ]
     },
     "metadata": {},
     "output_type": "display_data"
    },
    {
     "data": {
      "application/vnd.jupyter.widget-view+json": {
       "model_id": "74684f9343b34612b64f7999bbbacf5c",
       "version_major": 2,
       "version_minor": 0
      },
      "text/plain": [
       "Generating train split:   0%|          | 0/69875 [00:00<?, ? examples/s]"
      ]
     },
     "metadata": {},
     "output_type": "display_data"
    },
    {
     "data": {
      "application/vnd.jupyter.widget-view+json": {
       "model_id": "f89c70aac6ae4623bfd6d9e1d2ce4a07",
       "version_major": 2,
       "version_minor": 0
      },
      "text/plain": [
       "Generating test split:   0%|          | 0/3683 [00:00<?, ? examples/s]"
      ]
     },
     "metadata": {},
     "output_type": "display_data"
    }
   ],
   "source": [
    "ds = load_dataset(\"nthakur/GSM8KInstruct-Parallel-instruct\")"
   ]
  },
  {
   "cell_type": "code",
   "execution_count": 13,
   "metadata": {
    "execution": {
     "iopub.execute_input": "2024-12-29T15:32:45.820052Z",
     "iopub.status.busy": "2024-12-29T15:32:45.819727Z",
     "iopub.status.idle": "2024-12-29T15:32:45.823465Z",
     "shell.execute_reply": "2024-12-29T15:32:45.822724Z",
     "shell.execute_reply.started": "2024-12-29T15:32:45.820031Z"
    },
    "trusted": true
   },
   "outputs": [],
   "source": [
    "train_ds = ds['train']\n",
    "test_ds = ds['test']"
   ]
  },
  {
   "cell_type": "code",
   "execution_count": 14,
   "metadata": {
    "execution": {
     "iopub.execute_input": "2024-12-29T15:32:45.824572Z",
     "iopub.status.busy": "2024-12-29T15:32:45.824294Z",
     "iopub.status.idle": "2024-12-29T15:32:46.478442Z",
     "shell.execute_reply": "2024-12-29T15:32:46.477792Z",
     "shell.execute_reply.started": "2024-12-29T15:32:45.824520Z"
    },
    "trusted": true
   },
   "outputs": [],
   "source": [
    "train_df = train_ds.to_pandas()[[\"prompt\", \"code\"]]\n",
    "test_df = test_ds.to_pandas()[[\"prompt\", \"code\"]]"
   ]
  },
  {
   "cell_type": "code",
   "execution_count": 15,
   "metadata": {
    "execution": {
     "iopub.execute_input": "2024-12-29T15:32:46.479380Z",
     "iopub.status.busy": "2024-12-29T15:32:46.479140Z",
     "iopub.status.idle": "2024-12-29T15:32:46.741011Z",
     "shell.execute_reply": "2024-12-29T15:32:46.740165Z",
     "shell.execute_reply.started": "2024-12-29T15:32:46.479355Z"
    },
    "trusted": true
   },
   "outputs": [],
   "source": [
    "train_df[[\"System_prompt\", \"Instruction\"]] = train_df['prompt'].str.split('### Instruction:', expand=True)\n",
    "test_df[[\"System_prompt\", \"Instruction\"]] = test_df['prompt'].str.split('### Instruction:', expand=True)"
   ]
  },
  {
   "cell_type": "code",
   "execution_count": 16,
   "metadata": {
    "execution": {
     "iopub.execute_input": "2024-12-29T15:32:46.742180Z",
     "iopub.status.busy": "2024-12-29T15:32:46.741908Z",
     "iopub.status.idle": "2024-12-29T15:32:46.750220Z",
     "shell.execute_reply": "2024-12-29T15:32:46.749441Z",
     "shell.execute_reply.started": "2024-12-29T15:32:46.742158Z"
    },
    "trusted": true
   },
   "outputs": [],
   "source": [
    "train_df = train_df[[\"Instruction\", \"code\"]]\n",
    "test_df = test_df[[\"Instruction\", \"code\"]]"
   ]
  },
  {
   "cell_type": "code",
   "execution_count": 17,
   "metadata": {
    "execution": {
     "iopub.execute_input": "2024-12-29T15:32:46.751301Z",
     "iopub.status.busy": "2024-12-29T15:32:46.751048Z",
     "iopub.status.idle": "2024-12-29T15:32:46.810750Z",
     "shell.execute_reply": "2024-12-29T15:32:46.809795Z",
     "shell.execute_reply.started": "2024-12-29T15:32:46.751282Z"
    },
    "trusted": true
   },
   "outputs": [],
   "source": [
    "train_df[\"Instruction\"] = train_df[\"Instruction\"].str.strip()\n",
    "test_df[\"Instruction\"] = test_df[\"Instruction\"].str.strip()"
   ]
  },
  {
   "cell_type": "code",
   "execution_count": 18,
   "metadata": {
    "execution": {
     "iopub.execute_input": "2024-12-29T15:32:46.811929Z",
     "iopub.status.busy": "2024-12-29T15:32:46.811693Z",
     "iopub.status.idle": "2024-12-29T15:32:47.039849Z",
     "shell.execute_reply": "2024-12-29T15:32:47.039172Z",
     "shell.execute_reply.started": "2024-12-29T15:32:46.811906Z"
    },
    "trusted": true
   },
   "outputs": [],
   "source": [
    "train_df['Instruction'] = train_df['Instruction'].str.rsplit('?', n=1).str[0] + '?'\n",
    "test_df[\"Instruction\"] = test_df[\"Instruction\"].str.rsplit('?', n=1).str[0] + '?'"
   ]
  },
  {
   "cell_type": "code",
   "execution_count": null,
   "metadata": {},
   "outputs": [],
   "source": [
    "# Step 1: Add a column with the length of each \"Instruction\"\n",
    "train_df[\"Instruction_Length\"] = train_df[\"Instruction\"].apply(len)\n",
    "test_df[\"Instruction_Length\"] = test_df[\"Instruction\"].apply(len)\n",
    "\n",
    "# Step 2: Determine a threshold (e.g., 95th percentile of length)\n",
    "train_threshold = train_df[\"Instruction_Length\"].quantile(0.95)\n",
    "test_threshold = test_df[\"Instruction_Length\"].quantile(0.95)\n",
    "\n",
    "# Step 3: Filter out unusually large rows\n",
    "train_df = train_df[train_df[\"Instruction_Length\"] <= train_threshold]\n",
    "test_df = test_df[test_df[\"Instruction_Length\"] <= test_threshold]\n",
    "\n",
    "# Step 4: Drop the temporary \"Instruction_Length\" column\n",
    "train_df = train_df.drop(columns=[\"Instruction_Length\"])\n",
    "test_df = test_df.drop(columns=[\"Instruction_Length\"])"
   ]
  },
  {
   "cell_type": "code",
   "execution_count": 19,
   "metadata": {
    "execution": {
     "iopub.execute_input": "2024-12-29T15:32:47.040719Z",
     "iopub.status.busy": "2024-12-29T15:32:47.040512Z",
     "iopub.status.idle": "2024-12-29T15:32:47.054773Z",
     "shell.execute_reply": "2024-12-29T15:32:47.053849Z",
     "shell.execute_reply.started": "2024-12-29T15:32:47.040701Z"
    },
    "trusted": true
   },
   "outputs": [],
   "source": [
    "train_df_english = train_df[train_df['code']=='en'].reset_index(drop=True)\n",
    "test_df_english = test_df[test_df['code']=='en'].reset_index(drop=True)"
   ]
  },
  {
   "cell_type": "code",
   "execution_count": 20,
   "metadata": {
    "execution": {
     "iopub.execute_input": "2024-12-29T15:32:47.055864Z",
     "iopub.status.busy": "2024-12-29T15:32:47.055599Z",
     "iopub.status.idle": "2024-12-29T15:32:47.070867Z",
     "shell.execute_reply": "2024-12-29T15:32:47.070255Z",
     "shell.execute_reply.started": "2024-12-29T15:32:47.055831Z"
    },
    "trusted": true
   },
   "outputs": [],
   "source": [
    "train_df_thai = train_df[train_df['code']=='th'].reset_index(drop=True)\n",
    "test_df_thai = test_df[test_df['code']=='th'].reset_index(drop=True)"
   ]
  },
  {
   "cell_type": "code",
   "execution_count": 21,
   "metadata": {
    "execution": {
     "iopub.execute_input": "2024-12-29T15:32:47.071923Z",
     "iopub.status.busy": "2024-12-29T15:32:47.071641Z",
     "iopub.status.idle": "2024-12-29T15:32:47.091959Z",
     "shell.execute_reply": "2024-12-29T15:32:47.091184Z",
     "shell.execute_reply.started": "2024-12-29T15:32:47.071895Z"
    },
    "trusted": true
   },
   "outputs": [
    {
     "data": {
      "text/html": [
       "<div>\n",
       "<style scoped>\n",
       "    .dataframe tbody tr th:only-of-type {\n",
       "        vertical-align: middle;\n",
       "    }\n",
       "\n",
       "    .dataframe tbody tr th {\n",
       "        vertical-align: top;\n",
       "    }\n",
       "\n",
       "    .dataframe thead th {\n",
       "        text-align: right;\n",
       "    }\n",
       "</style>\n",
       "<table border=\"1\" class=\"dataframe\">\n",
       "  <thead>\n",
       "    <tr style=\"text-align: right;\">\n",
       "      <th></th>\n",
       "      <th>Instruction</th>\n",
       "      <th>code</th>\n",
       "    </tr>\n",
       "  </thead>\n",
       "  <tbody>\n",
       "    <tr>\n",
       "      <th>0</th>\n",
       "      <td>John has 2 umbrellas in his house and 1 in the...</td>\n",
       "      <td>en</td>\n",
       "    </tr>\n",
       "    <tr>\n",
       "      <th>1</th>\n",
       "      <td>Brad wanted to set up a lemonade stand to earn...</td>\n",
       "      <td>en</td>\n",
       "    </tr>\n",
       "    <tr>\n",
       "      <th>2</th>\n",
       "      <td>Angus, Patrick, and Ollie went fishing for tro...</td>\n",
       "      <td>en</td>\n",
       "    </tr>\n",
       "    <tr>\n",
       "      <th>3</th>\n",
       "      <td>Mary has a mystery book library. She started w...</td>\n",
       "      <td>en</td>\n",
       "    </tr>\n",
       "    <tr>\n",
       "      <th>4</th>\n",
       "      <td>Frank has an apple tree in his backyard. 5 app...</td>\n",
       "      <td>en</td>\n",
       "    </tr>\n",
       "    <tr>\n",
       "      <th>...</th>\n",
       "      <td>...</td>\n",
       "      <td>...</td>\n",
       "    </tr>\n",
       "    <tr>\n",
       "      <th>7094</th>\n",
       "      <td>If Jade earns $1600 per month and spent 75% of...</td>\n",
       "      <td>en</td>\n",
       "    </tr>\n",
       "    <tr>\n",
       "      <th>7095</th>\n",
       "      <td>John builds a toy bridge to support various we...</td>\n",
       "      <td>en</td>\n",
       "    </tr>\n",
       "    <tr>\n",
       "      <th>7096</th>\n",
       "      <td>Coral reads 30 pages of a book on night 1, and...</td>\n",
       "      <td>en</td>\n",
       "    </tr>\n",
       "    <tr>\n",
       "      <th>7097</th>\n",
       "      <td>Janet has 24 dresses.  Half of them have pocke...</td>\n",
       "      <td>en</td>\n",
       "    </tr>\n",
       "    <tr>\n",
       "      <th>7098</th>\n",
       "      <td>Elsa and her sister watch an opera show every ...</td>\n",
       "      <td>en</td>\n",
       "    </tr>\n",
       "  </tbody>\n",
       "</table>\n",
       "<p>7099 rows × 2 columns</p>\n",
       "</div>"
      ],
      "text/plain": [
       "                                            Instruction code\n",
       "0     John has 2 umbrellas in his house and 1 in the...   en\n",
       "1     Brad wanted to set up a lemonade stand to earn...   en\n",
       "2     Angus, Patrick, and Ollie went fishing for tro...   en\n",
       "3     Mary has a mystery book library. She started w...   en\n",
       "4     Frank has an apple tree in his backyard. 5 app...   en\n",
       "...                                                 ...  ...\n",
       "7094  If Jade earns $1600 per month and spent 75% of...   en\n",
       "7095  John builds a toy bridge to support various we...   en\n",
       "7096  Coral reads 30 pages of a book on night 1, and...   en\n",
       "7097  Janet has 24 dresses.  Half of them have pocke...   en\n",
       "7098  Elsa and her sister watch an opera show every ...   en\n",
       "\n",
       "[7099 rows x 2 columns]"
      ]
     },
     "execution_count": 21,
     "metadata": {},
     "output_type": "execute_result"
    }
   ],
   "source": [
    "train_df_english"
   ]
  },
  {
   "cell_type": "code",
   "execution_count": 22,
   "metadata": {
    "execution": {
     "iopub.execute_input": "2024-12-29T15:32:47.092955Z",
     "iopub.status.busy": "2024-12-29T15:32:47.092697Z",
     "iopub.status.idle": "2024-12-29T15:32:47.101261Z",
     "shell.execute_reply": "2024-12-29T15:32:47.100597Z",
     "shell.execute_reply.started": "2024-12-29T15:32:47.092934Z"
    },
    "trusted": true
   },
   "outputs": [
    {
     "data": {
      "text/html": [
       "<div>\n",
       "<style scoped>\n",
       "    .dataframe tbody tr th:only-of-type {\n",
       "        vertical-align: middle;\n",
       "    }\n",
       "\n",
       "    .dataframe tbody tr th {\n",
       "        vertical-align: top;\n",
       "    }\n",
       "\n",
       "    .dataframe thead th {\n",
       "        text-align: right;\n",
       "    }\n",
       "</style>\n",
       "<table border=\"1\" class=\"dataframe\">\n",
       "  <thead>\n",
       "    <tr style=\"text-align: right;\">\n",
       "      <th></th>\n",
       "      <th>Instruction</th>\n",
       "      <th>code</th>\n",
       "    </tr>\n",
       "  </thead>\n",
       "  <tbody>\n",
       "    <tr>\n",
       "      <th>0</th>\n",
       "      <td>Julian has 400 legos and wants to make lego mo...</td>\n",
       "      <td>en</td>\n",
       "    </tr>\n",
       "    <tr>\n",
       "      <th>1</th>\n",
       "      <td>Mark has 30 candies, Peter has 25 candies, and...</td>\n",
       "      <td>en</td>\n",
       "    </tr>\n",
       "    <tr>\n",
       "      <th>2</th>\n",
       "      <td>Marj has two $20 bills, three $5 bills, and $4...</td>\n",
       "      <td>en</td>\n",
       "    </tr>\n",
       "    <tr>\n",
       "      <th>3</th>\n",
       "      <td>Hunter saw 5 frogs sitting on top lily pads in...</td>\n",
       "      <td>en</td>\n",
       "    </tr>\n",
       "    <tr>\n",
       "      <th>4</th>\n",
       "      <td>A portable computer drive has enough kilobytes...</td>\n",
       "      <td>en</td>\n",
       "    </tr>\n",
       "    <tr>\n",
       "      <th>...</th>\n",
       "      <td>...</td>\n",
       "      <td>...</td>\n",
       "    </tr>\n",
       "    <tr>\n",
       "      <th>369</th>\n",
       "      <td>Cappuccinos cost $2, iced teas cost $3, cafe l...</td>\n",
       "      <td>en</td>\n",
       "    </tr>\n",
       "    <tr>\n",
       "      <th>370</th>\n",
       "      <td>Jamal works at a library shelving books. He ha...</td>\n",
       "      <td>en</td>\n",
       "    </tr>\n",
       "    <tr>\n",
       "      <th>371</th>\n",
       "      <td>Out of the 200 students in a class, thirty per...</td>\n",
       "      <td>en</td>\n",
       "    </tr>\n",
       "    <tr>\n",
       "      <th>372</th>\n",
       "      <td>Albert has to run 99 meters in gym class. The ...</td>\n",
       "      <td>en</td>\n",
       "    </tr>\n",
       "    <tr>\n",
       "      <th>373</th>\n",
       "      <td>A building has four floors with ten rooms each...</td>\n",
       "      <td>en</td>\n",
       "    </tr>\n",
       "  </tbody>\n",
       "</table>\n",
       "<p>374 rows × 2 columns</p>\n",
       "</div>"
      ],
      "text/plain": [
       "                                           Instruction code\n",
       "0    Julian has 400 legos and wants to make lego mo...   en\n",
       "1    Mark has 30 candies, Peter has 25 candies, and...   en\n",
       "2    Marj has two $20 bills, three $5 bills, and $4...   en\n",
       "3    Hunter saw 5 frogs sitting on top lily pads in...   en\n",
       "4    A portable computer drive has enough kilobytes...   en\n",
       "..                                                 ...  ...\n",
       "369  Cappuccinos cost $2, iced teas cost $3, cafe l...   en\n",
       "370  Jamal works at a library shelving books. He ha...   en\n",
       "371  Out of the 200 students in a class, thirty per...   en\n",
       "372  Albert has to run 99 meters in gym class. The ...   en\n",
       "373  A building has four floors with ten rooms each...   en\n",
       "\n",
       "[374 rows x 2 columns]"
      ]
     },
     "execution_count": 22,
     "metadata": {},
     "output_type": "execute_result"
    }
   ],
   "source": [
    "test_df_english"
   ]
  },
  {
   "cell_type": "code",
   "execution_count": 23,
   "metadata": {
    "execution": {
     "iopub.execute_input": "2024-12-29T15:32:47.106419Z",
     "iopub.status.busy": "2024-12-29T15:32:47.106202Z",
     "iopub.status.idle": "2024-12-29T15:32:47.119316Z",
     "shell.execute_reply": "2024-12-29T15:32:47.118665Z",
     "shell.execute_reply.started": "2024-12-29T15:32:47.106399Z"
    },
    "trusted": true
   },
   "outputs": [
    {
     "data": {
      "text/plain": [
       "'Julian has 400 legos and wants to make lego models of two identical airplanes. If each airplane model requires 240 legos, how many more legos does Julian need?'"
      ]
     },
     "execution_count": 23,
     "metadata": {},
     "output_type": "execute_result"
    }
   ],
   "source": [
    "test_df_english['Instruction'][0]"
   ]
  },
  {
   "cell_type": "code",
   "execution_count": 24,
   "metadata": {
    "execution": {
     "iopub.execute_input": "2024-12-29T15:32:47.120834Z",
     "iopub.status.busy": "2024-12-29T15:32:47.120647Z",
     "iopub.status.idle": "2024-12-29T15:32:47.137801Z",
     "shell.execute_reply": "2024-12-29T15:32:47.137179Z",
     "shell.execute_reply.started": "2024-12-29T15:32:47.120817Z"
    },
    "trusted": true
   },
   "outputs": [
    {
     "data": {
      "text/html": [
       "<div>\n",
       "<style scoped>\n",
       "    .dataframe tbody tr th:only-of-type {\n",
       "        vertical-align: middle;\n",
       "    }\n",
       "\n",
       "    .dataframe tbody tr th {\n",
       "        vertical-align: top;\n",
       "    }\n",
       "\n",
       "    .dataframe thead th {\n",
       "        text-align: right;\n",
       "    }\n",
       "</style>\n",
       "<table border=\"1\" class=\"dataframe\">\n",
       "  <thead>\n",
       "    <tr style=\"text-align: right;\">\n",
       "      <th></th>\n",
       "      <th>Instruction</th>\n",
       "      <th>code</th>\n",
       "    </tr>\n",
       "  </thead>\n",
       "  <tbody>\n",
       "    <tr>\n",
       "      <th>0</th>\n",
       "      <td>ควินซีเพิ่งซื้อรถยนต์โดยใช้สินเชื่อ 5 ปีโดยไม่...</td>\n",
       "      <td>th</td>\n",
       "    </tr>\n",
       "    <tr>\n",
       "      <th>1</th>\n",
       "      <td>พีเตอร์กำลังเก็บใบไม้ร่วง ใช้เวลา 15 นาทีในการ...</td>\n",
       "      <td>th</td>\n",
       "    </tr>\n",
       "    <tr>\n",
       "      <th>2</th>\n",
       "      <td>บิลได้รับทีวีจอแบนที่มีขนาด 48 นิ้ว x 100 นิ้ว...</td>\n",
       "      <td>th</td>\n",
       "    </tr>\n",
       "    <tr>\n",
       "      <th>3</th>\n",
       "      <td>พอลได้รับเงิน 12.50 ดอลลาร์ต่อชั่วโมงที่เขาทำง...</td>\n",
       "      <td>th</td>\n",
       "    </tr>\n",
       "    <tr>\n",
       "      <th>4</th>\n",
       "      <td>เจมส์ซื้อเนื้อสเต็กแบบซื้อ 1 แถม 1 ราคาคือ 15 ...</td>\n",
       "      <td>th</td>\n",
       "    </tr>\n",
       "    <tr>\n",
       "      <th>...</th>\n",
       "      <td>...</td>\n",
       "      <td>...</td>\n",
       "    </tr>\n",
       "    <tr>\n",
       "      <th>7094</th>\n",
       "      <td>Jeanette กำลังฝึกการโยนลูกบอล ในแต่ละสัปดาห์เธ...</td>\n",
       "      <td>th</td>\n",
       "    </tr>\n",
       "    <tr>\n",
       "      <th>7095</th>\n",
       "      <td>ลอร่าต้องซื้อวัสดุประดับหน้าต่างสำหรับหน้าต่าง...</td>\n",
       "      <td>th</td>\n",
       "    </tr>\n",
       "    <tr>\n",
       "      <th>7096</th>\n",
       "      <td>โทมัสกำลังหวังที่จะวิ่งมาราธอนในปีหน้า ซึ่งมีร...</td>\n",
       "      <td>th</td>\n",
       "    </tr>\n",
       "    <tr>\n",
       "      <th>7097</th>\n",
       "      <td>เพจซื้อสติกเกอร์ใหม่และต้องการแบ่งปันกับเพื่อน...</td>\n",
       "      <td>th</td>\n",
       "    </tr>\n",
       "    <tr>\n",
       "      <th>7098</th>\n",
       "      <td>จีนเป็นพนักงานบริการลูกค้าและตอบโทรศัพท์ 35 คร...</td>\n",
       "      <td>th</td>\n",
       "    </tr>\n",
       "  </tbody>\n",
       "</table>\n",
       "<p>7099 rows × 2 columns</p>\n",
       "</div>"
      ],
      "text/plain": [
       "                                            Instruction code\n",
       "0     ควินซีเพิ่งซื้อรถยนต์โดยใช้สินเชื่อ 5 ปีโดยไม่...   th\n",
       "1     พีเตอร์กำลังเก็บใบไม้ร่วง ใช้เวลา 15 นาทีในการ...   th\n",
       "2     บิลได้รับทีวีจอแบนที่มีขนาด 48 นิ้ว x 100 นิ้ว...   th\n",
       "3     พอลได้รับเงิน 12.50 ดอลลาร์ต่อชั่วโมงที่เขาทำง...   th\n",
       "4     เจมส์ซื้อเนื้อสเต็กแบบซื้อ 1 แถม 1 ราคาคือ 15 ...   th\n",
       "...                                                 ...  ...\n",
       "7094  Jeanette กำลังฝึกการโยนลูกบอล ในแต่ละสัปดาห์เธ...   th\n",
       "7095  ลอร่าต้องซื้อวัสดุประดับหน้าต่างสำหรับหน้าต่าง...   th\n",
       "7096  โทมัสกำลังหวังที่จะวิ่งมาราธอนในปีหน้า ซึ่งมีร...   th\n",
       "7097  เพจซื้อสติกเกอร์ใหม่และต้องการแบ่งปันกับเพื่อน...   th\n",
       "7098  จีนเป็นพนักงานบริการลูกค้าและตอบโทรศัพท์ 35 คร...   th\n",
       "\n",
       "[7099 rows x 2 columns]"
      ]
     },
     "execution_count": 24,
     "metadata": {},
     "output_type": "execute_result"
    }
   ],
   "source": [
    "train_df_thai"
   ]
  },
  {
   "cell_type": "code",
   "execution_count": 25,
   "metadata": {
    "execution": {
     "iopub.execute_input": "2024-12-29T15:32:47.139017Z",
     "iopub.status.busy": "2024-12-29T15:32:47.138737Z",
     "iopub.status.idle": "2024-12-29T15:32:47.154237Z",
     "shell.execute_reply": "2024-12-29T15:32:47.153469Z",
     "shell.execute_reply.started": "2024-12-29T15:32:47.138987Z"
    },
    "trusted": true
   },
   "outputs": [
    {
     "data": {
      "text/plain": [
       "'โครงการคอนโดใหม่นี้มีชั้นทั้งหมด 23 ชั้น ชั้นปกติมีหน่วยที่อยู่ 12 หน่วย ในขณะที่ชั้นพานเพนท์เฮาส์มีหน่วยเพียง 2 หน่วย เมื่อมีการจัดสรรชั้นบนสุด 2 ชั้นสำหรับหน่วยพานท์เฮาส์ จำนวนหน่วยทั้งหมดในคอนโดนี้เป็นเท่าใด?'"
      ]
     },
     "execution_count": 25,
     "metadata": {},
     "output_type": "execute_result"
    }
   ],
   "source": [
    "test_df_thai['Instruction'][0]"
   ]
  },
  {
   "cell_type": "markdown",
   "metadata": {},
   "source": [
    "**DataLoaders**"
   ]
  },
  {
   "cell_type": "code",
   "execution_count": 26,
   "metadata": {
    "execution": {
     "iopub.execute_input": "2024-12-29T15:32:47.155184Z",
     "iopub.status.busy": "2024-12-29T15:32:47.154959Z",
     "iopub.status.idle": "2024-12-29T15:32:47.169890Z",
     "shell.execute_reply": "2024-12-29T15:32:47.169048Z",
     "shell.execute_reply.started": "2024-12-29T15:32:47.155164Z"
    },
    "trusted": true
   },
   "outputs": [],
   "source": [
    "train_english_loader = DataLoader(train_df_english['Instruction'], batch_size=batch_size)\n",
    "test_english_loader = DataLoader(test_df_english[\"Instruction\"], batch_size=batch_size)"
   ]
  },
  {
   "cell_type": "code",
   "execution_count": 27,
   "metadata": {
    "execution": {
     "iopub.execute_input": "2024-12-29T15:32:47.170919Z",
     "iopub.status.busy": "2024-12-29T15:32:47.170663Z",
     "iopub.status.idle": "2024-12-29T15:32:47.187400Z",
     "shell.execute_reply": "2024-12-29T15:32:47.186742Z",
     "shell.execute_reply.started": "2024-12-29T15:32:47.170886Z"
    },
    "trusted": true
   },
   "outputs": [],
   "source": [
    "train_thai_loader = DataLoader(train_df_thai['Instruction'], batch_size=batch_size//2)\n",
    "test_thai_loader = DataLoader(test_df_thai['Instruction'], batch_size=batch_size//2)"
   ]
  },
  {
   "cell_type": "code",
   "execution_count": 28,
   "metadata": {
    "execution": {
     "iopub.execute_input": "2024-12-29T15:32:47.188330Z",
     "iopub.status.busy": "2024-12-29T15:32:47.188049Z",
     "iopub.status.idle": "2024-12-29T15:32:47.203513Z",
     "shell.execute_reply": "2024-12-29T15:32:47.202775Z",
     "shell.execute_reply.started": "2024-12-29T15:32:47.188309Z"
    },
    "trusted": true
   },
   "outputs": [],
   "source": [
    "xlmr_config = DTConfig(\n",
    "    model_name=\"FacebookAI/xlm-roberta-base\",\n",
    "    cache_dir=\"./cache\",          # Path to cache directory\n",
    "    max_tokens=512,               # Maximum token limit\n",
    "    temperature=0.7,              # Sampling temperature\n",
    "    max_generation_length=256,    # Maximum length for generated text\n",
    "    do_sample=True,               # Enable sampling\n",
    "    truncation=True,              # Enable truncation\n",
    "    padding=True,                 # Enable padding\n",
    "    device=torch.device(\"cuda\" if torch.cuda.is_available() else \"cpu\"),  # Device configuration\n",
    "    use_best_config=False,        # Use best configuration (custom logic)\n",
    "    padding_side='right',         # Padding side\n",
    "    output_hidden_states=False,   # Output hidden states\n",
    "    output_attentions=False,      # Output attention values\n",
    "    return_dict=True,             # Return output as dictionary\n",
    ")"
   ]
  },
  {
   "cell_type": "code",
   "execution_count": 29,
   "metadata": {
    "execution": {
     "iopub.execute_input": "2024-12-29T15:32:47.204567Z",
     "iopub.status.busy": "2024-12-29T15:32:47.204280Z",
     "iopub.status.idle": "2024-12-29T15:32:57.267525Z",
     "shell.execute_reply": "2024-12-29T15:32:57.266574Z",
     "shell.execute_reply.started": "2024-12-29T15:32:47.204539Z"
    },
    "trusted": true
   },
   "outputs": [
    {
     "data": {
      "application/vnd.jupyter.widget-view+json": {
       "model_id": "44bf2208fc3c4dc0905578efdbc82a8b",
       "version_major": 2,
       "version_minor": 0
      },
      "text/plain": [
       "tokenizer_config.json:   0%|          | 0.00/25.0 [00:00<?, ?B/s]"
      ]
     },
     "metadata": {},
     "output_type": "display_data"
    },
    {
     "data": {
      "application/vnd.jupyter.widget-view+json": {
       "model_id": "5fec1d84cbac486f85ea713a738d5737",
       "version_major": 2,
       "version_minor": 0
      },
      "text/plain": [
       "config.json:   0%|          | 0.00/615 [00:00<?, ?B/s]"
      ]
     },
     "metadata": {},
     "output_type": "display_data"
    },
    {
     "data": {
      "application/vnd.jupyter.widget-view+json": {
       "model_id": "86c4d20780884b91a80a1f8052b77bf2",
       "version_major": 2,
       "version_minor": 0
      },
      "text/plain": [
       "sentencepiece.bpe.model:   0%|          | 0.00/5.07M [00:00<?, ?B/s]"
      ]
     },
     "metadata": {},
     "output_type": "display_data"
    },
    {
     "data": {
      "application/vnd.jupyter.widget-view+json": {
       "model_id": "be6fc4df1a8941679b220955a52e4f28",
       "version_major": 2,
       "version_minor": 0
      },
      "text/plain": [
       "tokenizer.json:   0%|          | 0.00/9.10M [00:00<?, ?B/s]"
      ]
     },
     "metadata": {},
     "output_type": "display_data"
    },
    {
     "name": "stderr",
     "output_type": "stream",
     "text": [
      "/usr/local/lib/python3.10/dist-packages/transformers/tokenization_utils_base.py:1601: FutureWarning: `clean_up_tokenization_spaces` was not set. It will be set to `True` by default. This behavior will be depracted in transformers v4.45, and will be then set to `False` by default. For more details check this issue: https://github.com/huggingface/transformers/issues/31884\n",
      "  warnings.warn(\n"
     ]
    },
    {
     "data": {
      "application/vnd.jupyter.widget-view+json": {
       "model_id": "cc2e90c07d1b4dfaaaf5ef2ebfc50a2c",
       "version_major": 2,
       "version_minor": 0
      },
      "text/plain": [
       "model.safetensors:   0%|          | 0.00/1.12G [00:00<?, ?B/s]"
      ]
     },
     "metadata": {},
     "output_type": "display_data"
    }
   ],
   "source": [
    "xlmr = DTHfEncoder(xlmr_config)"
   ]
  },
  {
   "cell_type": "code",
   "execution_count": 30,
   "metadata": {
    "execution": {
     "iopub.execute_input": "2024-12-29T15:32:57.268893Z",
     "iopub.status.busy": "2024-12-29T15:32:57.268477Z",
     "iopub.status.idle": "2024-12-29T15:32:57.272512Z",
     "shell.execute_reply": "2024-12-29T15:32:57.271655Z",
     "shell.execute_reply.started": "2024-12-29T15:32:57.268869Z"
    },
    "trusted": true
   },
   "outputs": [],
   "source": [
    "test = [\"This is test Sentence.\", \"This is test sentence 2.\", \"This is the longest test sentence 3.\"]"
   ]
  },
  {
   "cell_type": "code",
   "execution_count": 31,
   "metadata": {
    "execution": {
     "iopub.execute_input": "2024-12-29T15:32:57.273481Z",
     "iopub.status.busy": "2024-12-29T15:32:57.273224Z",
     "iopub.status.idle": "2024-12-29T15:33:00.925707Z",
     "shell.execute_reply": "2024-12-29T15:33:00.924998Z",
     "shell.execute_reply.started": "2024-12-29T15:32:57.273458Z"
    },
    "trusted": true
   },
   "outputs": [],
   "source": [
    "input_ten = xlmr.encode(test)"
   ]
  },
  {
   "cell_type": "markdown",
   "metadata": {},
   "source": [
    "# Models"
   ]
  },
  {
   "cell_type": "code",
   "execution_count": 32,
   "metadata": {
    "execution": {
     "iopub.execute_input": "2024-12-29T15:33:00.926913Z",
     "iopub.status.busy": "2024-12-29T15:33:00.926587Z",
     "iopub.status.idle": "2024-12-29T15:33:02.546963Z",
     "shell.execute_reply": "2024-12-29T15:33:02.546309Z",
     "shell.execute_reply.started": "2024-12-29T15:33:00.926880Z"
    },
    "trusted": true
   },
   "outputs": [],
   "source": [
    "mapper = LinearMapper(1536, 1536, 1024)"
   ]
  },
  {
   "cell_type": "code",
   "execution_count": 34,
   "metadata": {
    "execution": {
     "iopub.execute_input": "2024-12-29T15:33:02.553397Z",
     "iopub.status.busy": "2024-12-29T15:33:02.553109Z",
     "iopub.status.idle": "2024-12-29T15:34:22.551610Z",
     "shell.execute_reply": "2024-12-29T15:34:22.550673Z",
     "shell.execute_reply.started": "2024-12-29T15:33:02.553360Z"
    },
    "trusted": true
   },
   "outputs": [
    {
     "data": {
      "application/vnd.jupyter.widget-view+json": {
       "model_id": "e99cbd6498514d9f91a54b5f286beeab",
       "version_major": 2,
       "version_minor": 0
      },
      "text/plain": [
       "tokenizer_config.json:   0%|          | 0.00/7.32k [00:00<?, ?B/s]"
      ]
     },
     "metadata": {},
     "output_type": "display_data"
    },
    {
     "data": {
      "application/vnd.jupyter.widget-view+json": {
       "model_id": "5e13a5e53dfd45249b312716b77a03d0",
       "version_major": 2,
       "version_minor": 0
      },
      "text/plain": [
       "vocab.json:   0%|          | 0.00/2.78M [00:00<?, ?B/s]"
      ]
     },
     "metadata": {},
     "output_type": "display_data"
    },
    {
     "data": {
      "application/vnd.jupyter.widget-view+json": {
       "model_id": "7504d619ad7d4b12b5114fe685084851",
       "version_major": 2,
       "version_minor": 0
      },
      "text/plain": [
       "merges.txt:   0%|          | 0.00/1.67M [00:00<?, ?B/s]"
      ]
     },
     "metadata": {},
     "output_type": "display_data"
    },
    {
     "data": {
      "application/vnd.jupyter.widget-view+json": {
       "model_id": "4efcdf862d6a4e45916b054f145ecbec",
       "version_major": 2,
       "version_minor": 0
      },
      "text/plain": [
       "tokenizer.json:   0%|          | 0.00/7.03M [00:00<?, ?B/s]"
      ]
     },
     "metadata": {},
     "output_type": "display_data"
    },
    {
     "data": {
      "application/vnd.jupyter.widget-view+json": {
       "model_id": "d9e04421b0bd4178b8c8e62f63005561",
       "version_major": 2,
       "version_minor": 0
      },
      "text/plain": [
       "config.json:   0%|          | 0.00/656 [00:00<?, ?B/s]"
      ]
     },
     "metadata": {},
     "output_type": "display_data"
    },
    {
     "data": {
      "application/vnd.jupyter.widget-view+json": {
       "model_id": "6840e11067004307adb7db3118a0a2cd",
       "version_major": 2,
       "version_minor": 0
      },
      "text/plain": [
       "model.safetensors:   0%|          | 0.00/3.09G [00:00<?, ?B/s]"
      ]
     },
     "metadata": {},
     "output_type": "display_data"
    },
    {
     "data": {
      "application/vnd.jupyter.widget-view+json": {
       "model_id": "be40c24de8424dfdab91696a93c4e37f",
       "version_major": 2,
       "version_minor": 0
      },
      "text/plain": [
       "generation_config.json:   0%|          | 0.00/160 [00:00<?, ?B/s]"
      ]
     },
     "metadata": {},
     "output_type": "display_data"
    }
   ],
   "source": [
    "qwen_model = LayerWrappebleQwen()"
   ]
  },
  {
   "cell_type": "code",
   "execution_count": null,
   "metadata": {},
   "outputs": [],
   "source": [
    "qwen_model.set_system_prompt(mgsm.system_prompt)"
   ]
  },
  {
   "cell_type": "code",
   "execution_count": null,
   "metadata": {},
   "outputs": [],
   "source": [
    "qwen_model.print_best_config()"
   ]
  },
  {
   "cell_type": "code",
   "execution_count": 35,
   "metadata": {
    "execution": {
     "iopub.execute_input": "2024-12-29T15:34:22.552776Z",
     "iopub.status.busy": "2024-12-29T15:34:22.552536Z",
     "iopub.status.idle": "2024-12-29T15:34:22.556205Z",
     "shell.execute_reply": "2024-12-29T15:34:22.555412Z",
     "shell.execute_reply.started": "2024-12-29T15:34:22.552754Z"
    },
    "trusted": true
   },
   "outputs": [],
   "source": [
    "qwen_ed = qwen_model.get_embeddings_size()"
   ]
  },
  {
   "cell_type": "code",
   "execution_count": 36,
   "metadata": {
    "execution": {
     "iopub.execute_input": "2024-12-29T15:34:22.557396Z",
     "iopub.status.busy": "2024-12-29T15:34:22.557089Z",
     "iopub.status.idle": "2024-12-29T15:34:22.572419Z",
     "shell.execute_reply": "2024-12-29T15:34:22.571644Z",
     "shell.execute_reply.started": "2024-12-29T15:34:22.557361Z"
    },
    "trusted": true
   },
   "outputs": [],
   "source": [
    "xlmr_ed = xlmr.get_embeddings_size()"
   ]
  },
  {
   "cell_type": "code",
   "execution_count": 37,
   "metadata": {
    "execution": {
     "iopub.execute_input": "2024-12-29T15:34:22.573529Z",
     "iopub.status.busy": "2024-12-29T15:34:22.573247Z",
     "iopub.status.idle": "2024-12-29T15:34:22.651363Z",
     "shell.execute_reply": "2024-12-29T15:34:22.650802Z",
     "shell.execute_reply.started": "2024-12-29T15:34:22.573500Z"
    },
    "trusted": true
   },
   "outputs": [],
   "source": [
    "projector = LSTMProjector(qwen_ed, xlmr_ed, 1024)"
   ]
  },
  {
   "cell_type": "code",
   "execution_count": 38,
   "metadata": {
    "execution": {
     "iopub.execute_input": "2024-12-29T15:34:22.652406Z",
     "iopub.status.busy": "2024-12-29T15:34:22.652132Z",
     "iopub.status.idle": "2024-12-29T15:34:23.559485Z",
     "shell.execute_reply": "2024-12-29T15:34:23.558728Z",
     "shell.execute_reply.started": "2024-12-29T15:34:22.652379Z"
    },
    "trusted": true
   },
   "outputs": [
    {
     "name": "stderr",
     "output_type": "stream",
     "text": [
      "We detected that you are passing `past_key_values` as a tuple and this is deprecated and will be removed in v4.43. Please use an appropriate `Cache` class (https://huggingface.co/docs/transformers/v4.41.3/en/internal/generation_utils#transformers.Cache)\n"
     ]
    },
    {
     "data": {
      "text/plain": [
       "torch.Size([3, 9, 1536])"
      ]
     },
     "execution_count": 38,
     "metadata": {},
     "output_type": "execute_result"
    }
   ],
   "source": [
    "qwen_model.get_Layer_output(test, 1).shape"
   ]
  },
  {
   "cell_type": "code",
   "execution_count": 39,
   "metadata": {
    "execution": {
     "iopub.execute_input": "2024-12-29T15:34:23.560798Z",
     "iopub.status.busy": "2024-12-29T15:34:23.560241Z",
     "iopub.status.idle": "2024-12-29T15:34:23.564573Z",
     "shell.execute_reply": "2024-12-29T15:34:23.563738Z",
     "shell.execute_reply.started": "2024-12-29T15:34:23.560764Z"
    },
    "trusted": true
   },
   "outputs": [],
   "source": [
    "layer_1_wrapper= LinearWrapper(mapper)"
   ]
  },
  {
   "cell_type": "code",
   "execution_count": 40,
   "metadata": {
    "execution": {
     "iopub.execute_input": "2024-12-29T15:34:23.565786Z",
     "iopub.status.busy": "2024-12-29T15:34:23.565500Z",
     "iopub.status.idle": "2024-12-29T15:34:25.665387Z",
     "shell.execute_reply": "2024-12-29T15:34:25.664488Z",
     "shell.execute_reply.started": "2024-12-29T15:34:23.565755Z"
    },
    "trusted": true
   },
   "outputs": [],
   "source": [
    "qwen_model.replace_layer(1, layer_1_wrapper)"
   ]
  },
  {
   "cell_type": "code",
   "execution_count": 41,
   "metadata": {
    "execution": {
     "iopub.execute_input": "2024-12-29T15:34:25.666509Z",
     "iopub.status.busy": "2024-12-29T15:34:25.666232Z",
     "iopub.status.idle": "2024-12-29T15:34:25.689706Z",
     "shell.execute_reply": "2024-12-29T15:34:25.689004Z",
     "shell.execute_reply.started": "2024-12-29T15:34:25.666486Z"
    },
    "trusted": true
   },
   "outputs": [
    {
     "name": "stdout",
     "output_type": "stream",
     "text": [
      "-LLM\n",
      "--Layer_0\n",
      "---Layer_Frozen: False\n",
      "--LayerWrapper_1\n",
      "---Layer_Frozen: False\n",
      "---Mapper_Frozen: False\n",
      "---Engaged: True\n",
      "---Alpha_Frozen: False Value: 0.5 Not Used\n",
      "--Layer_2\n",
      "---Layer_Frozen: False\n",
      "--Layer_3\n",
      "---Layer_Frozen: False\n",
      "--Layer_4\n",
      "---Layer_Frozen: False\n",
      "--Layer_5\n",
      "---Layer_Frozen: False\n",
      "--Layer_6\n",
      "---Layer_Frozen: False\n",
      "--Layer_7\n",
      "---Layer_Frozen: False\n",
      "--Layer_8\n",
      "---Layer_Frozen: False\n",
      "--Layer_9\n",
      "---Layer_Frozen: False\n",
      "--Layer_10\n",
      "---Layer_Frozen: False\n",
      "--Layer_11\n",
      "---Layer_Frozen: False\n",
      "--Layer_12\n",
      "---Layer_Frozen: False\n",
      "--Layer_13\n",
      "---Layer_Frozen: False\n",
      "--Layer_14\n",
      "---Layer_Frozen: False\n",
      "--Layer_15\n",
      "---Layer_Frozen: False\n",
      "--Layer_16\n",
      "---Layer_Frozen: False\n",
      "--Layer_17\n",
      "---Layer_Frozen: False\n",
      "--Layer_18\n",
      "---Layer_Frozen: False\n",
      "--Layer_19\n",
      "---Layer_Frozen: False\n",
      "--Layer_20\n",
      "---Layer_Frozen: False\n",
      "--Layer_21\n",
      "---Layer_Frozen: False\n",
      "--Layer_22\n",
      "---Layer_Frozen: False\n",
      "--Layer_23\n",
      "---Layer_Frozen: False\n",
      "--Layer_24\n",
      "---Layer_Frozen: False\n",
      "--Layer_25\n",
      "---Layer_Frozen: False\n",
      "--Layer_26\n",
      "---Layer_Frozen: False\n",
      "--Layer_27\n",
      "---Layer_Frozen: False\n"
     ]
    }
   ],
   "source": [
    "qwen_model.print_status()"
   ]
  },
  {
   "cell_type": "code",
   "execution_count": 42,
   "metadata": {
    "execution": {
     "iopub.execute_input": "2024-12-29T15:34:25.690646Z",
     "iopub.status.busy": "2024-12-29T15:34:25.690403Z",
     "iopub.status.idle": "2024-12-29T15:34:25.759973Z",
     "shell.execute_reply": "2024-12-29T15:34:25.759411Z",
     "shell.execute_reply.started": "2024-12-29T15:34:25.690624Z"
    },
    "trusted": true
   },
   "outputs": [],
   "source": [
    "two_phased_ts = TwoPhasedSeq2SeqTS(\n",
    "    llm=qwen_model,\n",
    "    encoder=xlmr,\n",
    "    projector=projector,\n",
    "    train_loader=train_english_loader,\n",
    "    val_loader=test_english_loader,\n",
    "    lr=0.001,\n",
    "    device=device,\n",
    "    target_layers=[1],\n",
    "    mapper_train_loader=train_thai_loader,\n",
    "    mapper_val_loader=test_thai_loader\n",
    "    layer_shift=3\n",
    ")"
   ]
  },
  {
   "cell_type": "code",
   "execution_count": 43,
   "metadata": {
    "execution": {
     "iopub.execute_input": "2024-12-29T15:34:25.760775Z",
     "iopub.status.busy": "2024-12-29T15:34:25.760559Z",
     "iopub.status.idle": "2024-12-29T15:34:25.765399Z",
     "shell.execute_reply": "2024-12-29T15:34:25.764425Z",
     "shell.execute_reply.started": "2024-12-29T15:34:25.760755Z"
    },
    "trusted": true
   },
   "outputs": [],
   "source": [
    "qwen_model.freeze()"
   ]
  },
  {
   "cell_type": "code",
   "execution_count": 44,
   "metadata": {
    "execution": {
     "iopub.execute_input": "2024-12-29T15:34:25.766512Z",
     "iopub.status.busy": "2024-12-29T15:34:25.766222Z",
     "iopub.status.idle": "2024-12-29T15:34:25.788917Z",
     "shell.execute_reply": "2024-12-29T15:34:25.788346Z",
     "shell.execute_reply.started": "2024-12-29T15:34:25.766483Z"
    },
    "trusted": true
   },
   "outputs": [
    {
     "name": "stdout",
     "output_type": "stream",
     "text": [
      "-LLM\n",
      "--Layer_0\n",
      "---Layer_Frozen: True\n",
      "--LayerWrapper_1\n",
      "---Layer_Frozen: True\n",
      "---Mapper_Frozen: True\n",
      "---Engaged: True\n",
      "---Alpha_Frozen: True Value: 0.5 Not Used\n",
      "--Layer_2\n",
      "---Layer_Frozen: True\n",
      "--Layer_3\n",
      "---Layer_Frozen: True\n",
      "--Layer_4\n",
      "---Layer_Frozen: True\n",
      "--Layer_5\n",
      "---Layer_Frozen: True\n",
      "--Layer_6\n",
      "---Layer_Frozen: True\n",
      "--Layer_7\n",
      "---Layer_Frozen: True\n",
      "--Layer_8\n",
      "---Layer_Frozen: True\n",
      "--Layer_9\n",
      "---Layer_Frozen: True\n",
      "--Layer_10\n",
      "---Layer_Frozen: True\n",
      "--Layer_11\n",
      "---Layer_Frozen: True\n",
      "--Layer_12\n",
      "---Layer_Frozen: True\n",
      "--Layer_13\n",
      "---Layer_Frozen: True\n",
      "--Layer_14\n",
      "---Layer_Frozen: True\n",
      "--Layer_15\n",
      "---Layer_Frozen: True\n",
      "--Layer_16\n",
      "---Layer_Frozen: True\n",
      "--Layer_17\n",
      "---Layer_Frozen: True\n",
      "--Layer_18\n",
      "---Layer_Frozen: True\n",
      "--Layer_19\n",
      "---Layer_Frozen: True\n",
      "--Layer_20\n",
      "---Layer_Frozen: True\n",
      "--Layer_21\n",
      "---Layer_Frozen: True\n",
      "--Layer_22\n",
      "---Layer_Frozen: True\n",
      "--Layer_23\n",
      "---Layer_Frozen: True\n",
      "--Layer_24\n",
      "---Layer_Frozen: True\n",
      "--Layer_25\n",
      "---Layer_Frozen: True\n",
      "--Layer_26\n",
      "---Layer_Frozen: True\n",
      "--Layer_27\n",
      "---Layer_Frozen: True\n"
     ]
    }
   ],
   "source": [
    "qwen_model.print_status()"
   ]
  },
  {
   "cell_type": "code",
   "execution_count": null,
   "metadata": {},
   "outputs": [],
   "source": [
    "q"
   ]
  },
  {
   "cell_type": "code",
   "execution_count": null,
   "metadata": {
    "execution": {
     "iopub.execute_input": "2024-12-29T15:34:25.789838Z",
     "iopub.status.busy": "2024-12-29T15:34:25.789568Z"
    },
    "trusted": true
   },
   "outputs": [
    {
     "name": "stdout",
     "output_type": "stream",
     "text": [
      "Encoder_Frozen: True\n",
      "Projector_Frozen: False\n",
      "-LLM\n",
      "--Layer_0\n",
      "---Layer_Frozen: True\n",
      "--LayerWrapper_1\n",
      "---Layer_Frozen: True\n",
      "---Mapper_Frozen: True\n",
      "---Engaged: False\n",
      "---Alpha_Frozen: True Value: 0.5 Not Used\n",
      "--Layer_2\n",
      "---Layer_Frozen: True\n",
      "--Layer_3\n",
      "---Layer_Frozen: True\n",
      "--Layer_4\n",
      "---Layer_Frozen: True\n",
      "--Layer_5\n",
      "---Layer_Frozen: True\n",
      "--Layer_6\n",
      "---Layer_Frozen: True\n",
      "--Layer_7\n",
      "---Layer_Frozen: True\n",
      "--Layer_8\n",
      "---Layer_Frozen: True\n",
      "--Layer_9\n",
      "---Layer_Frozen: True\n",
      "--Layer_10\n",
      "---Layer_Frozen: True\n",
      "--Layer_11\n",
      "---Layer_Frozen: True\n",
      "--Layer_12\n",
      "---Layer_Frozen: True\n",
      "--Layer_13\n",
      "---Layer_Frozen: True\n",
      "--Layer_14\n",
      "---Layer_Frozen: True\n",
      "--Layer_15\n",
      "---Layer_Frozen: True\n",
      "--Layer_16\n",
      "---Layer_Frozen: True\n",
      "--Layer_17\n",
      "---Layer_Frozen: True\n",
      "--Layer_18\n",
      "---Layer_Frozen: True\n",
      "--Layer_19\n",
      "---Layer_Frozen: True\n",
      "--Layer_20\n",
      "---Layer_Frozen: True\n",
      "--Layer_21\n",
      "---Layer_Frozen: True\n",
      "--Layer_22\n",
      "---Layer_Frozen: True\n",
      "--Layer_23\n",
      "---Layer_Frozen: True\n",
      "--Layer_24\n",
      "---Layer_Frozen: True\n",
      "--Layer_25\n",
      "---Layer_Frozen: True\n",
      "--Layer_26\n",
      "---Layer_Frozen: True\n",
      "--Layer_27\n",
      "---Layer_Frozen: True\n"
     ]
    },
    {
     "name": "stderr",
     "output_type": "stream",
     "text": [
      "Epoch 0: 100%|██████████| 1775/1775 [06:22<00:00,  4.64it/s]\n",
      "100%|██████████| 94/94 [00:18<00:00,  5.04it/s]\n"
     ]
    },
    {
     "name": "stdout",
     "output_type": "stream",
     "text": [
      "Epoch 0 : Loss 0.0027878659608787004 Eval Loss 0.0017115237919534457\n"
     ]
    },
    {
     "name": "stderr",
     "output_type": "stream",
     "text": [
      "Epoch 1: 100%|██████████| 1775/1775 [06:22<00:00,  4.64it/s]\n",
      "100%|██████████| 94/94 [00:18<00:00,  5.05it/s]\n"
     ]
    },
    {
     "name": "stdout",
     "output_type": "stream",
     "text": [
      "Epoch 1 : Loss 0.0017144936932460733 Eval Loss 0.0017205070124622038\n"
     ]
    },
    {
     "name": "stderr",
     "output_type": "stream",
     "text": [
      "Epoch 2: 100%|██████████| 1775/1775 [06:24<00:00,  4.62it/s]\n",
      "100%|██████████| 94/94 [00:18<00:00,  5.04it/s]\n"
     ]
    },
    {
     "name": "stdout",
     "output_type": "stream",
     "text": [
      "Epoch 2 : Loss 0.001618427458206113 Eval Loss 0.0015790199655345938\n"
     ]
    },
    {
     "name": "stderr",
     "output_type": "stream",
     "text": [
      "Epoch 3: 100%|██████████| 1775/1775 [06:24<00:00,  4.62it/s]\n",
      "100%|██████████| 94/94 [00:18<00:00,  5.04it/s]\n"
     ]
    },
    {
     "name": "stdout",
     "output_type": "stream",
     "text": [
      "Epoch 3 : Loss 0.001575715510817376 Eval Loss 0.0014908197707437136\n"
     ]
    },
    {
     "name": "stderr",
     "output_type": "stream",
     "text": [
      "Epoch 4:  71%|███████   | 1253/1775 [04:30<02:17,  3.79it/s]"
     ]
    }
   ],
   "source": [
    "two_phased_ts.train(epochs)"
   ]
  },
  {
   "cell_type": "code",
   "execution_count": null,
   "metadata": {
    "trusted": true
   },
   "outputs": [],
   "source": [
    "qwen_model.print_status()"
   ]
  },
  {
   "cell_type": "code",
   "execution_count": null,
   "metadata": {
    "trusted": true
   },
   "outputs": [],
   "source": [
    "qwen_model.engage_all_layer_wrappers(False)"
   ]
  },
  {
   "cell_type": "code",
   "execution_count": null,
   "metadata": {},
   "outputs": [],
   "source": [
    "mgsm.evaluate(qwen_model,['en', 'th'], batch_size=batch_size, logging=True)"
   ]
  },
  {
   "cell_type": "code",
   "execution_count": null,
   "metadata": {
    "trusted": true
   },
   "outputs": [],
   "source": [
    "qwen_model.engage_layer_wrapper(1)"
   ]
  },
  {
   "cell_type": "code",
   "execution_count": null,
   "metadata": {},
   "outputs": [],
   "source": [
    "qwen_model.print_status()"
   ]
  },
  {
   "cell_type": "code",
   "execution_count": null,
   "metadata": {},
   "outputs": [],
   "source": [
    "mgsm.evaluate(qwen_model,['en', 'th'], batch_size=batch_size, logging=True)"
   ]
  }
 ],
 "metadata": {
  "kaggle": {
   "accelerator": "gpu",
   "dataSources": [],
   "dockerImageVersionId": 30822,
   "isGpuEnabled": true,
   "isInternetEnabled": true,
   "language": "python",
   "sourceType": "notebook"
  },
  "kernelspec": {
   "display_name": ".venv",
   "language": "python",
   "name": "python3"
  },
  "language_info": {
   "codemirror_mode": {
    "name": "ipython",
    "version": 3
   },
   "file_extension": ".py",
   "mimetype": "text/x-python",
   "name": "python",
   "nbconvert_exporter": "python",
   "pygments_lexer": "ipython3",
   "version": "3.11.3"
  }
 },
 "nbformat": 4,
 "nbformat_minor": 4
}
