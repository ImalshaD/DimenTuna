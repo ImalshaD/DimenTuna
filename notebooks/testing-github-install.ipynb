{
 "cells": [
  {
   "cell_type": "code",
   "execution_count": 51,
   "metadata": {
    "execution": {
     "iopub.execute_input": "2024-12-29T15:32:27.631303Z",
     "iopub.status.busy": "2024-12-29T15:32:27.630946Z",
     "iopub.status.idle": "2024-12-29T15:32:36.770768Z",
     "shell.execute_reply": "2024-12-29T15:32:36.769952Z",
     "shell.execute_reply.started": "2024-12-29T15:32:27.631258Z"
    },
    "trusted": true
   },
   "outputs": [],
   "source": [
    "# !pip install git+https://github.com/ImalshaD/DimenTuna.git"
   ]
  },
  {
   "cell_type": "code",
   "execution_count": 52,
   "metadata": {
    "execution": {
     "iopub.execute_input": "2024-12-29T15:32:36.772344Z",
     "iopub.status.busy": "2024-12-29T15:32:36.772083Z",
     "iopub.status.idle": "2024-12-29T15:32:39.754360Z",
     "shell.execute_reply": "2024-12-29T15:32:39.753565Z",
     "shell.execute_reply.started": "2024-12-29T15:32:36.772324Z"
    },
    "trusted": true
   },
   "outputs": [],
   "source": [
    "import torch"
   ]
  },
  {
   "cell_type": "code",
   "execution_count": 53,
   "metadata": {},
   "outputs": [],
   "source": [
    "torch.set_float32_matmul_precision('high')"
   ]
  },
  {
   "cell_type": "code",
   "execution_count": 54,
   "metadata": {
    "execution": {
     "iopub.execute_input": "2024-12-29T15:32:39.756524Z",
     "iopub.status.busy": "2024-12-29T15:32:39.756165Z",
     "iopub.status.idle": "2024-12-29T15:32:40.738044Z",
     "shell.execute_reply": "2024-12-29T15:32:40.737181Z",
     "shell.execute_reply.started": "2024-12-29T15:32:39.756500Z"
    },
    "trusted": true
   },
   "outputs": [],
   "source": [
    "from dimentuna import DTHfEncoder, LayerWrappebleDTHfLLM, LayerWrappebleQwen, DTConfig"
   ]
  },
  {
   "cell_type": "code",
   "execution_count": 55,
   "metadata": {
    "execution": {
     "iopub.execute_input": "2024-12-29T15:32:40.739533Z",
     "iopub.status.busy": "2024-12-29T15:32:40.739248Z",
     "iopub.status.idle": "2024-12-29T15:32:40.743092Z",
     "shell.execute_reply": "2024-12-29T15:32:40.742371Z",
     "shell.execute_reply.started": "2024-12-29T15:32:40.739510Z"
    },
    "trusted": true
   },
   "outputs": [],
   "source": [
    "from dimentuna import LinearMapper, DTLayerWrapper, LinearWrapper, FeedForwardProjector, LSTMProjector"
   ]
  },
  {
   "cell_type": "code",
   "execution_count": 56,
   "metadata": {
    "execution": {
     "iopub.execute_input": "2024-12-29T15:32:40.744131Z",
     "iopub.status.busy": "2024-12-29T15:32:40.743830Z",
     "iopub.status.idle": "2024-12-29T15:32:40.760212Z",
     "shell.execute_reply": "2024-12-29T15:32:40.759550Z",
     "shell.execute_reply.started": "2024-12-29T15:32:40.744080Z"
    },
    "trusted": true
   },
   "outputs": [],
   "source": [
    "from dimentuna import TwoPhasedTS, TwoPhasedSeq2SeqTS"
   ]
  },
  {
   "cell_type": "code",
   "execution_count": 57,
   "metadata": {},
   "outputs": [],
   "source": [
    "from dimentuna import DTMsgm"
   ]
  },
  {
   "cell_type": "code",
   "execution_count": 58,
   "metadata": {
    "execution": {
     "iopub.execute_input": "2024-12-29T15:32:40.761323Z",
     "iopub.status.busy": "2024-12-29T15:32:40.761022Z",
     "iopub.status.idle": "2024-12-29T15:32:41.727195Z",
     "shell.execute_reply": "2024-12-29T15:32:41.726517Z",
     "shell.execute_reply.started": "2024-12-29T15:32:40.761295Z"
    },
    "trusted": true
   },
   "outputs": [],
   "source": [
    "from datasets import load_dataset"
   ]
  },
  {
   "cell_type": "code",
   "execution_count": 59,
   "metadata": {
    "execution": {
     "iopub.execute_input": "2024-12-29T15:32:41.728466Z",
     "iopub.status.busy": "2024-12-29T15:32:41.727943Z",
     "iopub.status.idle": "2024-12-29T15:32:41.732111Z",
     "shell.execute_reply": "2024-12-29T15:32:41.731181Z",
     "shell.execute_reply.started": "2024-12-29T15:32:41.728430Z"
    },
    "trusted": true
   },
   "outputs": [],
   "source": [
    "from torch.utils.data import Dataset, DataLoader"
   ]
  },
  {
   "cell_type": "markdown",
   "metadata": {},
   "source": [
    "# Parameters"
   ]
  },
  {
   "cell_type": "code",
   "execution_count": 60,
   "metadata": {
    "execution": {
     "iopub.execute_input": "2024-12-29T15:32:41.734916Z",
     "iopub.status.busy": "2024-12-29T15:32:41.734631Z",
     "iopub.status.idle": "2024-12-29T15:32:41.751502Z",
     "shell.execute_reply": "2024-12-29T15:32:41.750871Z",
     "shell.execute_reply.started": "2024-12-29T15:32:41.734890Z"
    },
    "trusted": true
   },
   "outputs": [],
   "source": [
    "batch_size = 4\n",
    "epochs = 10"
   ]
  },
  {
   "cell_type": "code",
   "execution_count": 61,
   "metadata": {
    "execution": {
     "iopub.execute_input": "2024-12-29T15:32:41.753194Z",
     "iopub.status.busy": "2024-12-29T15:32:41.752897Z",
     "iopub.status.idle": "2024-12-29T15:32:41.765734Z",
     "shell.execute_reply": "2024-12-29T15:32:41.764974Z",
     "shell.execute_reply.started": "2024-12-29T15:32:41.753161Z"
    },
    "trusted": true
   },
   "outputs": [],
   "source": [
    "data_cache = '\\data_cache'"
   ]
  },
  {
   "cell_type": "code",
   "execution_count": 62,
   "metadata": {
    "execution": {
     "iopub.execute_input": "2024-12-29T15:32:41.766779Z",
     "iopub.status.busy": "2024-12-29T15:32:41.766503Z",
     "iopub.status.idle": "2024-12-29T15:32:41.780402Z",
     "shell.execute_reply": "2024-12-29T15:32:41.779686Z",
     "shell.execute_reply.started": "2024-12-29T15:32:41.766751Z"
    },
    "trusted": true
   },
   "outputs": [],
   "source": [
    "model_cache = \".\\model_cache\""
   ]
  },
  {
   "cell_type": "code",
   "execution_count": 63,
   "metadata": {
    "execution": {
     "iopub.execute_input": "2024-12-29T15:32:41.781461Z",
     "iopub.status.busy": "2024-12-29T15:32:41.781229Z",
     "iopub.status.idle": "2024-12-29T15:32:41.836178Z",
     "shell.execute_reply": "2024-12-29T15:32:41.835359Z",
     "shell.execute_reply.started": "2024-12-29T15:32:41.781442Z"
    },
    "trusted": true
   },
   "outputs": [],
   "source": [
    "device = torch.device(\"cuda\" if torch.cuda.is_available() else \"cpu\")"
   ]
  },
  {
   "cell_type": "markdown",
   "metadata": {},
   "source": [
    "# Datasets and Preprocessing"
   ]
  },
  {
   "cell_type": "code",
   "execution_count": 64,
   "metadata": {},
   "outputs": [],
   "source": [
    "mgsm = DTMsgm()"
   ]
  },
  {
   "cell_type": "code",
   "execution_count": 65,
   "metadata": {
    "execution": {
     "iopub.execute_input": "2024-12-29T15:32:41.837313Z",
     "iopub.status.busy": "2024-12-29T15:32:41.837014Z",
     "iopub.status.idle": "2024-12-29T15:32:45.818979Z",
     "shell.execute_reply": "2024-12-29T15:32:45.818161Z",
     "shell.execute_reply.started": "2024-12-29T15:32:41.837285Z"
    },
    "trusted": true
   },
   "outputs": [],
   "source": [
    "ds = load_dataset(\"nthakur/GSM8KInstruct-Parallel-instruct\")"
   ]
  },
  {
   "cell_type": "code",
   "execution_count": 66,
   "metadata": {
    "execution": {
     "iopub.execute_input": "2024-12-29T15:32:45.820052Z",
     "iopub.status.busy": "2024-12-29T15:32:45.819727Z",
     "iopub.status.idle": "2024-12-29T15:32:45.823465Z",
     "shell.execute_reply": "2024-12-29T15:32:45.822724Z",
     "shell.execute_reply.started": "2024-12-29T15:32:45.820031Z"
    },
    "trusted": true
   },
   "outputs": [],
   "source": [
    "train_ds = ds['train']\n",
    "test_ds = ds['test']"
   ]
  },
  {
   "cell_type": "code",
   "execution_count": 67,
   "metadata": {
    "execution": {
     "iopub.execute_input": "2024-12-29T15:32:45.824572Z",
     "iopub.status.busy": "2024-12-29T15:32:45.824294Z",
     "iopub.status.idle": "2024-12-29T15:32:46.478442Z",
     "shell.execute_reply": "2024-12-29T15:32:46.477792Z",
     "shell.execute_reply.started": "2024-12-29T15:32:45.824520Z"
    },
    "trusted": true
   },
   "outputs": [],
   "source": [
    "train_df = train_ds.to_pandas()[[\"prompt\", \"code\"]]\n",
    "test_df = test_ds.to_pandas()[[\"prompt\", \"code\"]]"
   ]
  },
  {
   "cell_type": "code",
   "execution_count": 68,
   "metadata": {
    "execution": {
     "iopub.execute_input": "2024-12-29T15:32:46.479380Z",
     "iopub.status.busy": "2024-12-29T15:32:46.479140Z",
     "iopub.status.idle": "2024-12-29T15:32:46.741011Z",
     "shell.execute_reply": "2024-12-29T15:32:46.740165Z",
     "shell.execute_reply.started": "2024-12-29T15:32:46.479355Z"
    },
    "trusted": true
   },
   "outputs": [],
   "source": [
    "train_df[[\"System_prompt\", \"Instruction\"]] = train_df['prompt'].str.split('### Instruction:', expand=True)\n",
    "test_df[[\"System_prompt\", \"Instruction\"]] = test_df['prompt'].str.split('### Instruction:', expand=True)"
   ]
  },
  {
   "cell_type": "code",
   "execution_count": 69,
   "metadata": {
    "execution": {
     "iopub.execute_input": "2024-12-29T15:32:46.742180Z",
     "iopub.status.busy": "2024-12-29T15:32:46.741908Z",
     "iopub.status.idle": "2024-12-29T15:32:46.750220Z",
     "shell.execute_reply": "2024-12-29T15:32:46.749441Z",
     "shell.execute_reply.started": "2024-12-29T15:32:46.742158Z"
    },
    "trusted": true
   },
   "outputs": [],
   "source": [
    "train_df = train_df[[\"Instruction\", \"code\"]]\n",
    "test_df = test_df[[\"Instruction\", \"code\"]]"
   ]
  },
  {
   "cell_type": "code",
   "execution_count": 70,
   "metadata": {
    "execution": {
     "iopub.execute_input": "2024-12-29T15:32:46.751301Z",
     "iopub.status.busy": "2024-12-29T15:32:46.751048Z",
     "iopub.status.idle": "2024-12-29T15:32:46.810750Z",
     "shell.execute_reply": "2024-12-29T15:32:46.809795Z",
     "shell.execute_reply.started": "2024-12-29T15:32:46.751282Z"
    },
    "trusted": true
   },
   "outputs": [],
   "source": [
    "train_df[\"Instruction\"] = train_df[\"Instruction\"].str.strip()\n",
    "test_df[\"Instruction\"] = test_df[\"Instruction\"].str.strip()"
   ]
  },
  {
   "cell_type": "code",
   "execution_count": 71,
   "metadata": {
    "execution": {
     "iopub.execute_input": "2024-12-29T15:32:46.811929Z",
     "iopub.status.busy": "2024-12-29T15:32:46.811693Z",
     "iopub.status.idle": "2024-12-29T15:32:47.039849Z",
     "shell.execute_reply": "2024-12-29T15:32:47.039172Z",
     "shell.execute_reply.started": "2024-12-29T15:32:46.811906Z"
    },
    "trusted": true
   },
   "outputs": [],
   "source": [
    "train_df['Instruction'] = train_df['Instruction'].str.rsplit('?', n=1).str[0] + '?'\n",
    "test_df[\"Instruction\"] = test_df[\"Instruction\"].str.rsplit('?', n=1).str[0] + '?'"
   ]
  },
  {
   "cell_type": "code",
   "execution_count": 72,
   "metadata": {},
   "outputs": [],
   "source": [
    "# Step 1: Add a column with the length of each \"Instruction\"\n",
    "train_df[\"Instruction_Length\"] = train_df[\"Instruction\"].apply(len)\n",
    "test_df[\"Instruction_Length\"] = test_df[\"Instruction\"].apply(len)\n",
    "\n",
    "# Step 2: Determine a threshold (e.g., 95th percentile of length)\n",
    "train_threshold = train_df[\"Instruction_Length\"].quantile(0.97)\n",
    "test_threshold = test_df[\"Instruction_Length\"].quantile(0.97)\n",
    "\n",
    "# Step 3: Filter out unusually large rows\n",
    "train_df = train_df[train_df[\"Instruction_Length\"] <= train_threshold]\n",
    "test_df = test_df[test_df[\"Instruction_Length\"] <= test_threshold]\n",
    "\n",
    "# Step 4: Drop the temporary \"Instruction_Length\" column\n",
    "train_df = train_df.drop(columns=[\"Instruction_Length\"])\n",
    "test_df = test_df.drop(columns=[\"Instruction_Length\"])"
   ]
  },
  {
   "cell_type": "code",
   "execution_count": 74,
   "metadata": {
    "execution": {
     "iopub.execute_input": "2024-12-29T15:32:47.040719Z",
     "iopub.status.busy": "2024-12-29T15:32:47.040512Z",
     "iopub.status.idle": "2024-12-29T15:32:47.054773Z",
     "shell.execute_reply": "2024-12-29T15:32:47.053849Z",
     "shell.execute_reply.started": "2024-12-29T15:32:47.040701Z"
    },
    "trusted": true
   },
   "outputs": [],
   "source": [
    "train_df_english = train_df[train_df['code']=='en'].reset_index(drop=True)\n",
    "test_df_english = test_df[test_df['code']=='en'].reset_index(drop=True)"
   ]
  },
  {
   "cell_type": "code",
   "execution_count": 75,
   "metadata": {
    "execution": {
     "iopub.execute_input": "2024-12-29T15:32:47.055864Z",
     "iopub.status.busy": "2024-12-29T15:32:47.055599Z",
     "iopub.status.idle": "2024-12-29T15:32:47.070867Z",
     "shell.execute_reply": "2024-12-29T15:32:47.070255Z",
     "shell.execute_reply.started": "2024-12-29T15:32:47.055831Z"
    },
    "trusted": true
   },
   "outputs": [],
   "source": [
    "train_df_thai = train_df[train_df['code']=='th'].reset_index(drop=True)\n",
    "test_df_thai = test_df[test_df['code']=='th'].reset_index(drop=True)"
   ]
  },
  {
   "cell_type": "code",
   "execution_count": 76,
   "metadata": {
    "execution": {
     "iopub.execute_input": "2024-12-29T15:32:47.071923Z",
     "iopub.status.busy": "2024-12-29T15:32:47.071641Z",
     "iopub.status.idle": "2024-12-29T15:32:47.091959Z",
     "shell.execute_reply": "2024-12-29T15:32:47.091184Z",
     "shell.execute_reply.started": "2024-12-29T15:32:47.071895Z"
    },
    "trusted": true
   },
   "outputs": [
    {
     "data": {
      "text/html": [
       "<div>\n",
       "<style scoped>\n",
       "    .dataframe tbody tr th:only-of-type {\n",
       "        vertical-align: middle;\n",
       "    }\n",
       "\n",
       "    .dataframe tbody tr th {\n",
       "        vertical-align: top;\n",
       "    }\n",
       "\n",
       "    .dataframe thead th {\n",
       "        text-align: right;\n",
       "    }\n",
       "</style>\n",
       "<table border=\"1\" class=\"dataframe\">\n",
       "  <thead>\n",
       "    <tr style=\"text-align: right;\">\n",
       "      <th></th>\n",
       "      <th>Instruction</th>\n",
       "      <th>code</th>\n",
       "    </tr>\n",
       "  </thead>\n",
       "  <tbody>\n",
       "    <tr>\n",
       "      <th>0</th>\n",
       "      <td>John has 2 umbrellas in his house and 1 in the...</td>\n",
       "      <td>en</td>\n",
       "    </tr>\n",
       "    <tr>\n",
       "      <th>1</th>\n",
       "      <td>Brad wanted to set up a lemonade stand to earn...</td>\n",
       "      <td>en</td>\n",
       "    </tr>\n",
       "    <tr>\n",
       "      <th>2</th>\n",
       "      <td>Angus, Patrick, and Ollie went fishing for tro...</td>\n",
       "      <td>en</td>\n",
       "    </tr>\n",
       "    <tr>\n",
       "      <th>3</th>\n",
       "      <td>Frank has an apple tree in his backyard. 5 app...</td>\n",
       "      <td>en</td>\n",
       "    </tr>\n",
       "    <tr>\n",
       "      <th>4</th>\n",
       "      <td>Ann, Bill, Cate, and Dale each buy personal pa...</td>\n",
       "      <td>en</td>\n",
       "    </tr>\n",
       "    <tr>\n",
       "      <th>...</th>\n",
       "      <td>...</td>\n",
       "      <td>...</td>\n",
       "    </tr>\n",
       "    <tr>\n",
       "      <th>6895</th>\n",
       "      <td>If Jade earns $1600 per month and spent 75% of...</td>\n",
       "      <td>en</td>\n",
       "    </tr>\n",
       "    <tr>\n",
       "      <th>6896</th>\n",
       "      <td>John builds a toy bridge to support various we...</td>\n",
       "      <td>en</td>\n",
       "    </tr>\n",
       "    <tr>\n",
       "      <th>6897</th>\n",
       "      <td>Coral reads 30 pages of a book on night 1, and...</td>\n",
       "      <td>en</td>\n",
       "    </tr>\n",
       "    <tr>\n",
       "      <th>6898</th>\n",
       "      <td>Janet has 24 dresses.  Half of them have pocke...</td>\n",
       "      <td>en</td>\n",
       "    </tr>\n",
       "    <tr>\n",
       "      <th>6899</th>\n",
       "      <td>Elsa and her sister watch an opera show every ...</td>\n",
       "      <td>en</td>\n",
       "    </tr>\n",
       "  </tbody>\n",
       "</table>\n",
       "<p>6900 rows × 2 columns</p>\n",
       "</div>"
      ],
      "text/plain": [
       "                                            Instruction code\n",
       "0     John has 2 umbrellas in his house and 1 in the...   en\n",
       "1     Brad wanted to set up a lemonade stand to earn...   en\n",
       "2     Angus, Patrick, and Ollie went fishing for tro...   en\n",
       "3     Frank has an apple tree in his backyard. 5 app...   en\n",
       "4     Ann, Bill, Cate, and Dale each buy personal pa...   en\n",
       "...                                                 ...  ...\n",
       "6895  If Jade earns $1600 per month and spent 75% of...   en\n",
       "6896  John builds a toy bridge to support various we...   en\n",
       "6897  Coral reads 30 pages of a book on night 1, and...   en\n",
       "6898  Janet has 24 dresses.  Half of them have pocke...   en\n",
       "6899  Elsa and her sister watch an opera show every ...   en\n",
       "\n",
       "[6900 rows x 2 columns]"
      ]
     },
     "execution_count": 76,
     "metadata": {},
     "output_type": "execute_result"
    }
   ],
   "source": [
    "train_df_english"
   ]
  },
  {
   "cell_type": "code",
   "execution_count": 77,
   "metadata": {
    "execution": {
     "iopub.execute_input": "2024-12-29T15:32:47.092955Z",
     "iopub.status.busy": "2024-12-29T15:32:47.092697Z",
     "iopub.status.idle": "2024-12-29T15:32:47.101261Z",
     "shell.execute_reply": "2024-12-29T15:32:47.100597Z",
     "shell.execute_reply.started": "2024-12-29T15:32:47.092934Z"
    },
    "trusted": true
   },
   "outputs": [
    {
     "data": {
      "text/html": [
       "<div>\n",
       "<style scoped>\n",
       "    .dataframe tbody tr th:only-of-type {\n",
       "        vertical-align: middle;\n",
       "    }\n",
       "\n",
       "    .dataframe tbody tr th {\n",
       "        vertical-align: top;\n",
       "    }\n",
       "\n",
       "    .dataframe thead th {\n",
       "        text-align: right;\n",
       "    }\n",
       "</style>\n",
       "<table border=\"1\" class=\"dataframe\">\n",
       "  <thead>\n",
       "    <tr style=\"text-align: right;\">\n",
       "      <th></th>\n",
       "      <th>Instruction</th>\n",
       "      <th>code</th>\n",
       "    </tr>\n",
       "  </thead>\n",
       "  <tbody>\n",
       "    <tr>\n",
       "      <th>0</th>\n",
       "      <td>Julian has 400 legos and wants to make lego mo...</td>\n",
       "      <td>en</td>\n",
       "    </tr>\n",
       "    <tr>\n",
       "      <th>1</th>\n",
       "      <td>Mark has 30 candies, Peter has 25 candies, and...</td>\n",
       "      <td>en</td>\n",
       "    </tr>\n",
       "    <tr>\n",
       "      <th>2</th>\n",
       "      <td>Marj has two $20 bills, three $5 bills, and $4...</td>\n",
       "      <td>en</td>\n",
       "    </tr>\n",
       "    <tr>\n",
       "      <th>3</th>\n",
       "      <td>Hunter saw 5 frogs sitting on top lily pads in...</td>\n",
       "      <td>en</td>\n",
       "    </tr>\n",
       "    <tr>\n",
       "      <th>4</th>\n",
       "      <td>A portable computer drive has enough kilobytes...</td>\n",
       "      <td>en</td>\n",
       "    </tr>\n",
       "    <tr>\n",
       "      <th>...</th>\n",
       "      <td>...</td>\n",
       "      <td>...</td>\n",
       "    </tr>\n",
       "    <tr>\n",
       "      <th>360</th>\n",
       "      <td>Cappuccinos cost $2, iced teas cost $3, cafe l...</td>\n",
       "      <td>en</td>\n",
       "    </tr>\n",
       "    <tr>\n",
       "      <th>361</th>\n",
       "      <td>Jamal works at a library shelving books. He ha...</td>\n",
       "      <td>en</td>\n",
       "    </tr>\n",
       "    <tr>\n",
       "      <th>362</th>\n",
       "      <td>Out of the 200 students in a class, thirty per...</td>\n",
       "      <td>en</td>\n",
       "    </tr>\n",
       "    <tr>\n",
       "      <th>363</th>\n",
       "      <td>Albert has to run 99 meters in gym class. The ...</td>\n",
       "      <td>en</td>\n",
       "    </tr>\n",
       "    <tr>\n",
       "      <th>364</th>\n",
       "      <td>A building has four floors with ten rooms each...</td>\n",
       "      <td>en</td>\n",
       "    </tr>\n",
       "  </tbody>\n",
       "</table>\n",
       "<p>365 rows × 2 columns</p>\n",
       "</div>"
      ],
      "text/plain": [
       "                                           Instruction code\n",
       "0    Julian has 400 legos and wants to make lego mo...   en\n",
       "1    Mark has 30 candies, Peter has 25 candies, and...   en\n",
       "2    Marj has two $20 bills, three $5 bills, and $4...   en\n",
       "3    Hunter saw 5 frogs sitting on top lily pads in...   en\n",
       "4    A portable computer drive has enough kilobytes...   en\n",
       "..                                                 ...  ...\n",
       "360  Cappuccinos cost $2, iced teas cost $3, cafe l...   en\n",
       "361  Jamal works at a library shelving books. He ha...   en\n",
       "362  Out of the 200 students in a class, thirty per...   en\n",
       "363  Albert has to run 99 meters in gym class. The ...   en\n",
       "364  A building has four floors with ten rooms each...   en\n",
       "\n",
       "[365 rows x 2 columns]"
      ]
     },
     "execution_count": 77,
     "metadata": {},
     "output_type": "execute_result"
    }
   ],
   "source": [
    "test_df_english"
   ]
  },
  {
   "cell_type": "code",
   "execution_count": 78,
   "metadata": {
    "execution": {
     "iopub.execute_input": "2024-12-29T15:32:47.106419Z",
     "iopub.status.busy": "2024-12-29T15:32:47.106202Z",
     "iopub.status.idle": "2024-12-29T15:32:47.119316Z",
     "shell.execute_reply": "2024-12-29T15:32:47.118665Z",
     "shell.execute_reply.started": "2024-12-29T15:32:47.106399Z"
    },
    "trusted": true
   },
   "outputs": [
    {
     "data": {
      "text/plain": [
       "'Julian has 400 legos and wants to make lego models of two identical airplanes. If each airplane model requires 240 legos, how many more legos does Julian need?'"
      ]
     },
     "execution_count": 78,
     "metadata": {},
     "output_type": "execute_result"
    }
   ],
   "source": [
    "test_df_english['Instruction'][0]"
   ]
  },
  {
   "cell_type": "code",
   "execution_count": 79,
   "metadata": {
    "execution": {
     "iopub.execute_input": "2024-12-29T15:32:47.120834Z",
     "iopub.status.busy": "2024-12-29T15:32:47.120647Z",
     "iopub.status.idle": "2024-12-29T15:32:47.137801Z",
     "shell.execute_reply": "2024-12-29T15:32:47.137179Z",
     "shell.execute_reply.started": "2024-12-29T15:32:47.120817Z"
    },
    "trusted": true
   },
   "outputs": [
    {
     "data": {
      "text/html": [
       "<div>\n",
       "<style scoped>\n",
       "    .dataframe tbody tr th:only-of-type {\n",
       "        vertical-align: middle;\n",
       "    }\n",
       "\n",
       "    .dataframe tbody tr th {\n",
       "        vertical-align: top;\n",
       "    }\n",
       "\n",
       "    .dataframe thead th {\n",
       "        text-align: right;\n",
       "    }\n",
       "</style>\n",
       "<table border=\"1\" class=\"dataframe\">\n",
       "  <thead>\n",
       "    <tr style=\"text-align: right;\">\n",
       "      <th></th>\n",
       "      <th>Instruction</th>\n",
       "      <th>code</th>\n",
       "    </tr>\n",
       "  </thead>\n",
       "  <tbody>\n",
       "    <tr>\n",
       "      <th>0</th>\n",
       "      <td>ควินซีเพิ่งซื้อรถยนต์โดยใช้สินเชื่อ 5 ปีโดยไม่...</td>\n",
       "      <td>th</td>\n",
       "    </tr>\n",
       "    <tr>\n",
       "      <th>1</th>\n",
       "      <td>พีเตอร์กำลังเก็บใบไม้ร่วง ใช้เวลา 15 นาทีในการ...</td>\n",
       "      <td>th</td>\n",
       "    </tr>\n",
       "    <tr>\n",
       "      <th>2</th>\n",
       "      <td>บิลได้รับทีวีจอแบนที่มีขนาด 48 นิ้ว x 100 นิ้ว...</td>\n",
       "      <td>th</td>\n",
       "    </tr>\n",
       "    <tr>\n",
       "      <th>3</th>\n",
       "      <td>พอลได้รับเงิน 12.50 ดอลลาร์ต่อชั่วโมงที่เขาทำง...</td>\n",
       "      <td>th</td>\n",
       "    </tr>\n",
       "    <tr>\n",
       "      <th>4</th>\n",
       "      <td>เจมส์ซื้อเนื้อสเต็กแบบซื้อ 1 แถม 1 ราคาคือ 15 ...</td>\n",
       "      <td>th</td>\n",
       "    </tr>\n",
       "    <tr>\n",
       "      <th>...</th>\n",
       "      <td>...</td>\n",
       "      <td>...</td>\n",
       "    </tr>\n",
       "    <tr>\n",
       "      <th>7017</th>\n",
       "      <td>Jeanette กำลังฝึกการโยนลูกบอล ในแต่ละสัปดาห์เธ...</td>\n",
       "      <td>th</td>\n",
       "    </tr>\n",
       "    <tr>\n",
       "      <th>7018</th>\n",
       "      <td>ลอร่าต้องซื้อวัสดุประดับหน้าต่างสำหรับหน้าต่าง...</td>\n",
       "      <td>th</td>\n",
       "    </tr>\n",
       "    <tr>\n",
       "      <th>7019</th>\n",
       "      <td>โทมัสกำลังหวังที่จะวิ่งมาราธอนในปีหน้า ซึ่งมีร...</td>\n",
       "      <td>th</td>\n",
       "    </tr>\n",
       "    <tr>\n",
       "      <th>7020</th>\n",
       "      <td>เพจซื้อสติกเกอร์ใหม่และต้องการแบ่งปันกับเพื่อน...</td>\n",
       "      <td>th</td>\n",
       "    </tr>\n",
       "    <tr>\n",
       "      <th>7021</th>\n",
       "      <td>จีนเป็นพนักงานบริการลูกค้าและตอบโทรศัพท์ 35 คร...</td>\n",
       "      <td>th</td>\n",
       "    </tr>\n",
       "  </tbody>\n",
       "</table>\n",
       "<p>7022 rows × 2 columns</p>\n",
       "</div>"
      ],
      "text/plain": [
       "                                            Instruction code\n",
       "0     ควินซีเพิ่งซื้อรถยนต์โดยใช้สินเชื่อ 5 ปีโดยไม่...   th\n",
       "1     พีเตอร์กำลังเก็บใบไม้ร่วง ใช้เวลา 15 นาทีในการ...   th\n",
       "2     บิลได้รับทีวีจอแบนที่มีขนาด 48 นิ้ว x 100 นิ้ว...   th\n",
       "3     พอลได้รับเงิน 12.50 ดอลลาร์ต่อชั่วโมงที่เขาทำง...   th\n",
       "4     เจมส์ซื้อเนื้อสเต็กแบบซื้อ 1 แถม 1 ราคาคือ 15 ...   th\n",
       "...                                                 ...  ...\n",
       "7017  Jeanette กำลังฝึกการโยนลูกบอล ในแต่ละสัปดาห์เธ...   th\n",
       "7018  ลอร่าต้องซื้อวัสดุประดับหน้าต่างสำหรับหน้าต่าง...   th\n",
       "7019  โทมัสกำลังหวังที่จะวิ่งมาราธอนในปีหน้า ซึ่งมีร...   th\n",
       "7020  เพจซื้อสติกเกอร์ใหม่และต้องการแบ่งปันกับเพื่อน...   th\n",
       "7021  จีนเป็นพนักงานบริการลูกค้าและตอบโทรศัพท์ 35 คร...   th\n",
       "\n",
       "[7022 rows x 2 columns]"
      ]
     },
     "execution_count": 79,
     "metadata": {},
     "output_type": "execute_result"
    }
   ],
   "source": [
    "train_df_thai"
   ]
  },
  {
   "cell_type": "code",
   "execution_count": 80,
   "metadata": {
    "execution": {
     "iopub.execute_input": "2024-12-29T15:32:47.139017Z",
     "iopub.status.busy": "2024-12-29T15:32:47.138737Z",
     "iopub.status.idle": "2024-12-29T15:32:47.154237Z",
     "shell.execute_reply": "2024-12-29T15:32:47.153469Z",
     "shell.execute_reply.started": "2024-12-29T15:32:47.138987Z"
    },
    "trusted": true
   },
   "outputs": [
    {
     "data": {
      "text/plain": [
       "'โครงการคอนโดใหม่นี้มีชั้นทั้งหมด 23 ชั้น ชั้นปกติมีหน่วยที่อยู่ 12 หน่วย ในขณะที่ชั้นพานเพนท์เฮาส์มีหน่วยเพียง 2 หน่วย เมื่อมีการจัดสรรชั้นบนสุด 2 ชั้นสำหรับหน่วยพานท์เฮาส์ จำนวนหน่วยทั้งหมดในคอนโดนี้เป็นเท่าใด?'"
      ]
     },
     "execution_count": 80,
     "metadata": {},
     "output_type": "execute_result"
    }
   ],
   "source": [
    "test_df_thai['Instruction'][0]"
   ]
  },
  {
   "cell_type": "markdown",
   "metadata": {},
   "source": [
    "**DataLoaders**"
   ]
  },
  {
   "cell_type": "code",
   "execution_count": 81,
   "metadata": {
    "execution": {
     "iopub.execute_input": "2024-12-29T15:32:47.155184Z",
     "iopub.status.busy": "2024-12-29T15:32:47.154959Z",
     "iopub.status.idle": "2024-12-29T15:32:47.169890Z",
     "shell.execute_reply": "2024-12-29T15:32:47.169048Z",
     "shell.execute_reply.started": "2024-12-29T15:32:47.155164Z"
    },
    "trusted": true
   },
   "outputs": [],
   "source": [
    "train_english_loader = DataLoader(train_df_english['Instruction'], batch_size=batch_size)\n",
    "test_english_loader = DataLoader(test_df_english[\"Instruction\"], batch_size=batch_size)"
   ]
  },
  {
   "cell_type": "code",
   "execution_count": 82,
   "metadata": {
    "execution": {
     "iopub.execute_input": "2024-12-29T15:32:47.170919Z",
     "iopub.status.busy": "2024-12-29T15:32:47.170663Z",
     "iopub.status.idle": "2024-12-29T15:32:47.187400Z",
     "shell.execute_reply": "2024-12-29T15:32:47.186742Z",
     "shell.execute_reply.started": "2024-12-29T15:32:47.170886Z"
    },
    "trusted": true
   },
   "outputs": [],
   "source": [
    "train_thai_loader = DataLoader(train_df_thai['Instruction'], batch_size=batch_size//2)\n",
    "test_thai_loader = DataLoader(test_df_thai['Instruction'], batch_size=batch_size//2)"
   ]
  },
  {
   "cell_type": "code",
   "execution_count": 83,
   "metadata": {
    "execution": {
     "iopub.execute_input": "2024-12-29T15:32:47.188330Z",
     "iopub.status.busy": "2024-12-29T15:32:47.188049Z",
     "iopub.status.idle": "2024-12-29T15:32:47.203513Z",
     "shell.execute_reply": "2024-12-29T15:32:47.202775Z",
     "shell.execute_reply.started": "2024-12-29T15:32:47.188309Z"
    },
    "trusted": true
   },
   "outputs": [],
   "source": [
    "xlmr_config = DTConfig(\n",
    "    model_name=\"FacebookAI/xlm-roberta-base\",\n",
    "    cache_dir=\"./cache\",          # Path to cache directory\n",
    "    max_tokens=512,               # Maximum token limit\n",
    "    temperature=0.7,              # Sampling temperature\n",
    "    max_generation_length=256,    # Maximum length for generated text\n",
    "    do_sample=True,               # Enable sampling\n",
    "    truncation=True,              # Enable truncation\n",
    "    padding=True,                 # Enable padding\n",
    "    device=torch.device(\"cuda\" if torch.cuda.is_available() else \"cpu\"),  # Device configuration\n",
    "    use_best_config=False,        # Use best configuration (custom logic)\n",
    "    padding_side='right',         # Padding side\n",
    "    output_hidden_states=False,   # Output hidden states\n",
    "    output_attentions=False,      # Output attention values\n",
    "    return_dict=True,             # Return output as dictionary\n",
    ")"
   ]
  },
  {
   "cell_type": "code",
   "execution_count": 84,
   "metadata": {
    "execution": {
     "iopub.execute_input": "2024-12-29T15:32:47.204567Z",
     "iopub.status.busy": "2024-12-29T15:32:47.204280Z",
     "iopub.status.idle": "2024-12-29T15:32:57.267525Z",
     "shell.execute_reply": "2024-12-29T15:32:57.266574Z",
     "shell.execute_reply.started": "2024-12-29T15:32:47.204539Z"
    },
    "trusted": true
   },
   "outputs": [],
   "source": [
    "xlmr = DTHfEncoder(xlmr_config)"
   ]
  },
  {
   "cell_type": "code",
   "execution_count": 85,
   "metadata": {
    "execution": {
     "iopub.execute_input": "2024-12-29T15:32:57.268893Z",
     "iopub.status.busy": "2024-12-29T15:32:57.268477Z",
     "iopub.status.idle": "2024-12-29T15:32:57.272512Z",
     "shell.execute_reply": "2024-12-29T15:32:57.271655Z",
     "shell.execute_reply.started": "2024-12-29T15:32:57.268869Z"
    },
    "trusted": true
   },
   "outputs": [],
   "source": [
    "test = [\"This is test Sentence.\", \"This is test sentence 2.\", \"This is the longest test sentence 3.\"]"
   ]
  },
  {
   "cell_type": "code",
   "execution_count": 86,
   "metadata": {
    "execution": {
     "iopub.execute_input": "2024-12-29T15:32:57.273481Z",
     "iopub.status.busy": "2024-12-29T15:32:57.273224Z",
     "iopub.status.idle": "2024-12-29T15:33:00.925707Z",
     "shell.execute_reply": "2024-12-29T15:33:00.924998Z",
     "shell.execute_reply.started": "2024-12-29T15:32:57.273458Z"
    },
    "trusted": true
   },
   "outputs": [],
   "source": [
    "input_ten = xlmr.encode(test)"
   ]
  },
  {
   "cell_type": "markdown",
   "metadata": {},
   "source": [
    "# Models"
   ]
  },
  {
   "cell_type": "code",
   "execution_count": 87,
   "metadata": {
    "execution": {
     "iopub.execute_input": "2024-12-29T15:33:00.926913Z",
     "iopub.status.busy": "2024-12-29T15:33:00.926587Z",
     "iopub.status.idle": "2024-12-29T15:33:02.546963Z",
     "shell.execute_reply": "2024-12-29T15:33:02.546309Z",
     "shell.execute_reply.started": "2024-12-29T15:33:00.926880Z"
    },
    "trusted": true
   },
   "outputs": [],
   "source": [
    "mapper = LinearMapper(1536, 1536, 1024)"
   ]
  },
  {
   "cell_type": "code",
   "execution_count": 88,
   "metadata": {
    "execution": {
     "iopub.execute_input": "2024-12-29T15:33:02.553397Z",
     "iopub.status.busy": "2024-12-29T15:33:02.553109Z",
     "iopub.status.idle": "2024-12-29T15:34:22.551610Z",
     "shell.execute_reply": "2024-12-29T15:34:22.550673Z",
     "shell.execute_reply.started": "2024-12-29T15:33:02.553360Z"
    },
    "trusted": true
   },
   "outputs": [],
   "source": [
    "qwen_model = LayerWrappebleQwen()"
   ]
  },
  {
   "cell_type": "code",
   "execution_count": 89,
   "metadata": {},
   "outputs": [],
   "source": [
    "qwen_model.set_system_prompt(mgsm.system_prompt)"
   ]
  },
  {
   "cell_type": "code",
   "execution_count": 90,
   "metadata": {},
   "outputs": [
    {
     "name": "stdout",
     "output_type": "stream",
     "text": [
      "{'max_length': 512}\n"
     ]
    }
   ],
   "source": [
    "qwen_model.print_best_config()"
   ]
  },
  {
   "cell_type": "code",
   "execution_count": 91,
   "metadata": {
    "execution": {
     "iopub.execute_input": "2024-12-29T15:34:22.552776Z",
     "iopub.status.busy": "2024-12-29T15:34:22.552536Z",
     "iopub.status.idle": "2024-12-29T15:34:22.556205Z",
     "shell.execute_reply": "2024-12-29T15:34:22.555412Z",
     "shell.execute_reply.started": "2024-12-29T15:34:22.552754Z"
    },
    "trusted": true
   },
   "outputs": [],
   "source": [
    "qwen_ed = qwen_model.get_embeddings_size()"
   ]
  },
  {
   "cell_type": "code",
   "execution_count": 92,
   "metadata": {
    "execution": {
     "iopub.execute_input": "2024-12-29T15:34:22.557396Z",
     "iopub.status.busy": "2024-12-29T15:34:22.557089Z",
     "iopub.status.idle": "2024-12-29T15:34:22.572419Z",
     "shell.execute_reply": "2024-12-29T15:34:22.571644Z",
     "shell.execute_reply.started": "2024-12-29T15:34:22.557361Z"
    },
    "trusted": true
   },
   "outputs": [],
   "source": [
    "xlmr_ed = xlmr.get_embeddings_size()"
   ]
  },
  {
   "cell_type": "code",
   "execution_count": 93,
   "metadata": {
    "execution": {
     "iopub.execute_input": "2024-12-29T15:34:22.573529Z",
     "iopub.status.busy": "2024-12-29T15:34:22.573247Z",
     "iopub.status.idle": "2024-12-29T15:34:22.651363Z",
     "shell.execute_reply": "2024-12-29T15:34:22.650802Z",
     "shell.execute_reply.started": "2024-12-29T15:34:22.573500Z"
    },
    "trusted": true
   },
   "outputs": [],
   "source": [
    "projector = LSTMProjector(qwen_ed, xlmr_ed, 1024)"
   ]
  },
  {
   "cell_type": "code",
   "execution_count": 94,
   "metadata": {
    "execution": {
     "iopub.execute_input": "2024-12-29T15:34:22.652406Z",
     "iopub.status.busy": "2024-12-29T15:34:22.652132Z",
     "iopub.status.idle": "2024-12-29T15:34:23.559485Z",
     "shell.execute_reply": "2024-12-29T15:34:23.558728Z",
     "shell.execute_reply.started": "2024-12-29T15:34:22.652379Z"
    },
    "trusted": true
   },
   "outputs": [
    {
     "data": {
      "text/plain": [
       "torch.Size([3, 41, 1536])"
      ]
     },
     "execution_count": 94,
     "metadata": {},
     "output_type": "execute_result"
    }
   ],
   "source": [
    "qwen_model.get_Layer_output(test, 1).shape"
   ]
  },
  {
   "cell_type": "code",
   "execution_count": 95,
   "metadata": {
    "execution": {
     "iopub.execute_input": "2024-12-29T15:34:23.560798Z",
     "iopub.status.busy": "2024-12-29T15:34:23.560241Z",
     "iopub.status.idle": "2024-12-29T15:34:23.564573Z",
     "shell.execute_reply": "2024-12-29T15:34:23.563738Z",
     "shell.execute_reply.started": "2024-12-29T15:34:23.560764Z"
    },
    "trusted": true
   },
   "outputs": [],
   "source": [
    "layer_1_wrapper= LinearWrapper(mapper)"
   ]
  },
  {
   "cell_type": "code",
   "execution_count": 96,
   "metadata": {
    "execution": {
     "iopub.execute_input": "2024-12-29T15:34:23.565786Z",
     "iopub.status.busy": "2024-12-29T15:34:23.565500Z",
     "iopub.status.idle": "2024-12-29T15:34:25.665387Z",
     "shell.execute_reply": "2024-12-29T15:34:25.664488Z",
     "shell.execute_reply.started": "2024-12-29T15:34:23.565755Z"
    },
    "trusted": true
   },
   "outputs": [],
   "source": [
    "qwen_model.replace_layer(1, layer_1_wrapper)"
   ]
  },
  {
   "cell_type": "code",
   "execution_count": 97,
   "metadata": {
    "execution": {
     "iopub.execute_input": "2024-12-29T15:34:25.666509Z",
     "iopub.status.busy": "2024-12-29T15:34:25.666232Z",
     "iopub.status.idle": "2024-12-29T15:34:25.689706Z",
     "shell.execute_reply": "2024-12-29T15:34:25.689004Z",
     "shell.execute_reply.started": "2024-12-29T15:34:25.666486Z"
    },
    "trusted": true
   },
   "outputs": [
    {
     "name": "stdout",
     "output_type": "stream",
     "text": [
      "-LLM\n",
      "--Layer_0\n",
      "---Layer_Frozen: False\n",
      "--LayerWrapper_1\n",
      "---Layer_Frozen: False\n",
      "---Mapper_Frozen: False\n",
      "---Engaged: True\n",
      "---Alpha_Frozen: False Value: 0.5 Not Used\n",
      "--Layer_2\n",
      "---Layer_Frozen: False\n",
      "--Layer_3\n",
      "---Layer_Frozen: False\n",
      "--Layer_4\n",
      "---Layer_Frozen: False\n",
      "--Layer_5\n",
      "---Layer_Frozen: False\n",
      "--Layer_6\n",
      "---Layer_Frozen: False\n",
      "--Layer_7\n",
      "---Layer_Frozen: False\n",
      "--Layer_8\n",
      "---Layer_Frozen: False\n",
      "--Layer_9\n",
      "---Layer_Frozen: False\n",
      "--Layer_10\n",
      "---Layer_Frozen: False\n",
      "--Layer_11\n",
      "---Layer_Frozen: False\n",
      "--Layer_12\n",
      "---Layer_Frozen: False\n",
      "--Layer_13\n",
      "---Layer_Frozen: False\n",
      "--Layer_14\n",
      "---Layer_Frozen: False\n",
      "--Layer_15\n",
      "---Layer_Frozen: False\n",
      "--Layer_16\n",
      "---Layer_Frozen: False\n",
      "--Layer_17\n",
      "---Layer_Frozen: False\n",
      "--Layer_18\n",
      "---Layer_Frozen: False\n",
      "--Layer_19\n",
      "---Layer_Frozen: False\n",
      "--Layer_20\n",
      "---Layer_Frozen: False\n",
      "--Layer_21\n",
      "---Layer_Frozen: False\n",
      "--Layer_22\n",
      "---Layer_Frozen: False\n",
      "--Layer_23\n",
      "---Layer_Frozen: False\n",
      "--Layer_24\n",
      "---Layer_Frozen: False\n",
      "--Layer_25\n",
      "---Layer_Frozen: False\n",
      "--Layer_26\n",
      "---Layer_Frozen: False\n",
      "--Layer_27\n",
      "---Layer_Frozen: False\n",
      "Qwen2ForCausalLM(\n",
      "  (model): Qwen2Model(\n",
      "    (embed_tokens): Embedding(151936, 1536)\n",
      "    (layers): ModuleList(\n",
      "      (0): Qwen2DecoderLayer(\n",
      "        (self_attn): Qwen2SdpaAttention(\n",
      "          (q_proj): Linear(in_features=1536, out_features=1536, bias=True)\n",
      "          (k_proj): Linear(in_features=1536, out_features=256, bias=True)\n",
      "          (v_proj): Linear(in_features=1536, out_features=256, bias=True)\n",
      "          (o_proj): Linear(in_features=1536, out_features=1536, bias=False)\n",
      "          (rotary_emb): Qwen2RotaryEmbedding()\n",
      "        )\n",
      "        (mlp): Qwen2MLP(\n",
      "          (gate_proj): Linear(in_features=1536, out_features=8960, bias=False)\n",
      "          (up_proj): Linear(in_features=1536, out_features=8960, bias=False)\n",
      "          (down_proj): Linear(in_features=8960, out_features=1536, bias=False)\n",
      "          (act_fn): SiLU()\n",
      "        )\n",
      "        (input_layernorm): Qwen2RMSNorm((1536,), eps=1e-06)\n",
      "        (post_attention_layernorm): Qwen2RMSNorm((1536,), eps=1e-06)\n",
      "      )\n",
      "      (1): LinearWrapper(\n",
      "        (mapper): LinearMapper(\n",
      "          (network): Sequential(\n",
      "            (0): Linear(in_features=1536, out_features=1024, bias=True)\n",
      "            (1): LeakyReLU(negative_slope=0.01)\n",
      "            (2): Linear(in_features=1024, out_features=1536, bias=True)\n",
      "          )\n",
      "        )\n",
      "        (tanh): Tanh()\n",
      "        (layer): Qwen2DecoderLayer(\n",
      "          (self_attn): Qwen2SdpaAttention(\n",
      "            (q_proj): Linear(in_features=1536, out_features=1536, bias=True)\n",
      "            (k_proj): Linear(in_features=1536, out_features=256, bias=True)\n",
      "            (v_proj): Linear(in_features=1536, out_features=256, bias=True)\n",
      "            (o_proj): Linear(in_features=1536, out_features=1536, bias=False)\n",
      "            (rotary_emb): Qwen2RotaryEmbedding()\n",
      "          )\n",
      "          (mlp): Qwen2MLP(\n",
      "            (gate_proj): Linear(in_features=1536, out_features=8960, bias=False)\n",
      "            (up_proj): Linear(in_features=1536, out_features=8960, bias=False)\n",
      "            (down_proj): Linear(in_features=8960, out_features=1536, bias=False)\n",
      "            (act_fn): SiLU()\n",
      "          )\n",
      "          (input_layernorm): Qwen2RMSNorm((1536,), eps=1e-06)\n",
      "          (post_attention_layernorm): Qwen2RMSNorm((1536,), eps=1e-06)\n",
      "        )\n",
      "      )Engaged: True\n",
      "      (2-27): 26 x Qwen2DecoderLayer(\n",
      "        (self_attn): Qwen2SdpaAttention(\n",
      "          (q_proj): Linear(in_features=1536, out_features=1536, bias=True)\n",
      "          (k_proj): Linear(in_features=1536, out_features=256, bias=True)\n",
      "          (v_proj): Linear(in_features=1536, out_features=256, bias=True)\n",
      "          (o_proj): Linear(in_features=1536, out_features=1536, bias=False)\n",
      "          (rotary_emb): Qwen2RotaryEmbedding()\n",
      "        )\n",
      "        (mlp): Qwen2MLP(\n",
      "          (gate_proj): Linear(in_features=1536, out_features=8960, bias=False)\n",
      "          (up_proj): Linear(in_features=1536, out_features=8960, bias=False)\n",
      "          (down_proj): Linear(in_features=8960, out_features=1536, bias=False)\n",
      "          (act_fn): SiLU()\n",
      "        )\n",
      "        (input_layernorm): Qwen2RMSNorm((1536,), eps=1e-06)\n",
      "        (post_attention_layernorm): Qwen2RMSNorm((1536,), eps=1e-06)\n",
      "      )\n",
      "    )\n",
      "    (norm): Qwen2RMSNorm((1536,), eps=1e-06)\n",
      "    (rotary_emb): Qwen2RotaryEmbedding()\n",
      "  )\n",
      "  (lm_head): Linear(in_features=1536, out_features=151936, bias=False)\n",
      ")\n"
     ]
    }
   ],
   "source": [
    "qwen_model.print_status()"
   ]
  },
  {
   "cell_type": "code",
   "execution_count": 98,
   "metadata": {
    "execution": {
     "iopub.execute_input": "2024-12-29T15:34:25.690646Z",
     "iopub.status.busy": "2024-12-29T15:34:25.690403Z",
     "iopub.status.idle": "2024-12-29T15:34:25.759973Z",
     "shell.execute_reply": "2024-12-29T15:34:25.759411Z",
     "shell.execute_reply.started": "2024-12-29T15:34:25.690624Z"
    },
    "trusted": true
   },
   "outputs": [],
   "source": [
    "two_phased_ts = TwoPhasedSeq2SeqTS(\n",
    "    llm=qwen_model,\n",
    "    encoder=xlmr,\n",
    "    projector=projector,\n",
    "    train_loader=train_english_loader,\n",
    "    val_loader=test_english_loader,\n",
    "    lr=0.001,\n",
    "    device=device,\n",
    "    target_layers=[1],\n",
    "    mapper_train_loader=train_thai_loader,\n",
    "    mapper_val_loader=test_thai_loader,\n",
    "    layer_shift=3\n",
    ")"
   ]
  },
  {
   "cell_type": "code",
   "execution_count": 99,
   "metadata": {
    "execution": {
     "iopub.execute_input": "2024-12-29T15:34:25.760775Z",
     "iopub.status.busy": "2024-12-29T15:34:25.760559Z",
     "iopub.status.idle": "2024-12-29T15:34:25.765399Z",
     "shell.execute_reply": "2024-12-29T15:34:25.764425Z",
     "shell.execute_reply.started": "2024-12-29T15:34:25.760755Z"
    },
    "trusted": true
   },
   "outputs": [],
   "source": [
    "qwen_model.freeze()"
   ]
  },
  {
   "cell_type": "code",
   "execution_count": 100,
   "metadata": {
    "execution": {
     "iopub.execute_input": "2024-12-29T15:34:25.766512Z",
     "iopub.status.busy": "2024-12-29T15:34:25.766222Z",
     "iopub.status.idle": "2024-12-29T15:34:25.788917Z",
     "shell.execute_reply": "2024-12-29T15:34:25.788346Z",
     "shell.execute_reply.started": "2024-12-29T15:34:25.766483Z"
    },
    "trusted": true
   },
   "outputs": [
    {
     "name": "stdout",
     "output_type": "stream",
     "text": [
      "-LLM\n",
      "--Layer_0\n",
      "---Layer_Frozen: True\n",
      "--LayerWrapper_1\n",
      "---Layer_Frozen: True\n",
      "---Mapper_Frozen: True\n",
      "---Engaged: True\n",
      "---Alpha_Frozen: True Value: 0.5 Not Used\n",
      "--Layer_2\n",
      "---Layer_Frozen: True\n",
      "--Layer_3\n",
      "---Layer_Frozen: True\n",
      "--Layer_4\n",
      "---Layer_Frozen: True\n",
      "--Layer_5\n",
      "---Layer_Frozen: True\n",
      "--Layer_6\n",
      "---Layer_Frozen: True\n",
      "--Layer_7\n",
      "---Layer_Frozen: True\n",
      "--Layer_8\n",
      "---Layer_Frozen: True\n",
      "--Layer_9\n",
      "---Layer_Frozen: True\n",
      "--Layer_10\n",
      "---Layer_Frozen: True\n",
      "--Layer_11\n",
      "---Layer_Frozen: True\n",
      "--Layer_12\n",
      "---Layer_Frozen: True\n",
      "--Layer_13\n",
      "---Layer_Frozen: True\n",
      "--Layer_14\n",
      "---Layer_Frozen: True\n",
      "--Layer_15\n",
      "---Layer_Frozen: True\n",
      "--Layer_16\n",
      "---Layer_Frozen: True\n",
      "--Layer_17\n",
      "---Layer_Frozen: True\n",
      "--Layer_18\n",
      "---Layer_Frozen: True\n",
      "--Layer_19\n",
      "---Layer_Frozen: True\n",
      "--Layer_20\n",
      "---Layer_Frozen: True\n",
      "--Layer_21\n",
      "---Layer_Frozen: True\n",
      "--Layer_22\n",
      "---Layer_Frozen: True\n",
      "--Layer_23\n",
      "---Layer_Frozen: True\n",
      "--Layer_24\n",
      "---Layer_Frozen: True\n",
      "--Layer_25\n",
      "---Layer_Frozen: True\n",
      "--Layer_26\n",
      "---Layer_Frozen: True\n",
      "--Layer_27\n",
      "---Layer_Frozen: True\n",
      "Qwen2ForCausalLM(\n",
      "  (model): Qwen2Model(\n",
      "    (embed_tokens): Embedding(151936, 1536)\n",
      "    (layers): ModuleList(\n",
      "      (0): Qwen2DecoderLayer(\n",
      "        (self_attn): Qwen2SdpaAttention(\n",
      "          (q_proj): Linear(in_features=1536, out_features=1536, bias=True)\n",
      "          (k_proj): Linear(in_features=1536, out_features=256, bias=True)\n",
      "          (v_proj): Linear(in_features=1536, out_features=256, bias=True)\n",
      "          (o_proj): Linear(in_features=1536, out_features=1536, bias=False)\n",
      "          (rotary_emb): Qwen2RotaryEmbedding()\n",
      "        )\n",
      "        (mlp): Qwen2MLP(\n",
      "          (gate_proj): Linear(in_features=1536, out_features=8960, bias=False)\n",
      "          (up_proj): Linear(in_features=1536, out_features=8960, bias=False)\n",
      "          (down_proj): Linear(in_features=8960, out_features=1536, bias=False)\n",
      "          (act_fn): SiLU()\n",
      "        )\n",
      "        (input_layernorm): Qwen2RMSNorm((1536,), eps=1e-06)\n",
      "        (post_attention_layernorm): Qwen2RMSNorm((1536,), eps=1e-06)\n",
      "      )\n",
      "      (1): LinearWrapper(\n",
      "        (mapper): LinearMapper(\n",
      "          (network): Sequential(\n",
      "            (0): Linear(in_features=1536, out_features=1024, bias=True)\n",
      "            (1): LeakyReLU(negative_slope=0.01)\n",
      "            (2): Linear(in_features=1024, out_features=1536, bias=True)\n",
      "          )\n",
      "        )\n",
      "        (tanh): Tanh()\n",
      "        (layer): Qwen2DecoderLayer(\n",
      "          (self_attn): Qwen2SdpaAttention(\n",
      "            (q_proj): Linear(in_features=1536, out_features=1536, bias=True)\n",
      "            (k_proj): Linear(in_features=1536, out_features=256, bias=True)\n",
      "            (v_proj): Linear(in_features=1536, out_features=256, bias=True)\n",
      "            (o_proj): Linear(in_features=1536, out_features=1536, bias=False)\n",
      "            (rotary_emb): Qwen2RotaryEmbedding()\n",
      "          )\n",
      "          (mlp): Qwen2MLP(\n",
      "            (gate_proj): Linear(in_features=1536, out_features=8960, bias=False)\n",
      "            (up_proj): Linear(in_features=1536, out_features=8960, bias=False)\n",
      "            (down_proj): Linear(in_features=8960, out_features=1536, bias=False)\n",
      "            (act_fn): SiLU()\n",
      "          )\n",
      "          (input_layernorm): Qwen2RMSNorm((1536,), eps=1e-06)\n",
      "          (post_attention_layernorm): Qwen2RMSNorm((1536,), eps=1e-06)\n",
      "        )\n",
      "      )Engaged: True\n",
      "      (2-27): 26 x Qwen2DecoderLayer(\n",
      "        (self_attn): Qwen2SdpaAttention(\n",
      "          (q_proj): Linear(in_features=1536, out_features=1536, bias=True)\n",
      "          (k_proj): Linear(in_features=1536, out_features=256, bias=True)\n",
      "          (v_proj): Linear(in_features=1536, out_features=256, bias=True)\n",
      "          (o_proj): Linear(in_features=1536, out_features=1536, bias=False)\n",
      "          (rotary_emb): Qwen2RotaryEmbedding()\n",
      "        )\n",
      "        (mlp): Qwen2MLP(\n",
      "          (gate_proj): Linear(in_features=1536, out_features=8960, bias=False)\n",
      "          (up_proj): Linear(in_features=1536, out_features=8960, bias=False)\n",
      "          (down_proj): Linear(in_features=8960, out_features=1536, bias=False)\n",
      "          (act_fn): SiLU()\n",
      "        )\n",
      "        (input_layernorm): Qwen2RMSNorm((1536,), eps=1e-06)\n",
      "        (post_attention_layernorm): Qwen2RMSNorm((1536,), eps=1e-06)\n",
      "      )\n",
      "    )\n",
      "    (norm): Qwen2RMSNorm((1536,), eps=1e-06)\n",
      "    (rotary_emb): Qwen2RotaryEmbedding()\n",
      "  )\n",
      "  (lm_head): Linear(in_features=1536, out_features=151936, bias=False)\n",
      ")\n"
     ]
    }
   ],
   "source": [
    "qwen_model.print_status()"
   ]
  },
  {
   "cell_type": "code",
   "execution_count": 101,
   "metadata": {
    "execution": {
     "iopub.execute_input": "2024-12-29T15:34:25.789838Z",
     "iopub.status.busy": "2024-12-29T15:34:25.789568Z"
    },
    "trusted": true
   },
   "outputs": [
    {
     "name": "stdout",
     "output_type": "stream",
     "text": [
      "Encoder_Frozen: True\n",
      "Projector_Frozen: False\n",
      "-LLM\n",
      "--Layer_0\n",
      "---Layer_Frozen: True\n",
      "--LayerWrapper_1\n",
      "---Layer_Frozen: True\n",
      "---Mapper_Frozen: True\n",
      "---Engaged: False\n",
      "---Alpha_Frozen: True Value: 0.5 Not Used\n",
      "--Layer_2\n",
      "---Layer_Frozen: True\n",
      "--Layer_3\n",
      "---Layer_Frozen: True\n",
      "--Layer_4\n",
      "---Layer_Frozen: True\n",
      "--Layer_5\n",
      "---Layer_Frozen: True\n",
      "--Layer_6\n",
      "---Layer_Frozen: True\n",
      "--Layer_7\n",
      "---Layer_Frozen: True\n",
      "--Layer_8\n",
      "---Layer_Frozen: True\n",
      "--Layer_9\n",
      "---Layer_Frozen: True\n",
      "--Layer_10\n",
      "---Layer_Frozen: True\n",
      "--Layer_11\n",
      "---Layer_Frozen: True\n",
      "--Layer_12\n",
      "---Layer_Frozen: True\n",
      "--Layer_13\n",
      "---Layer_Frozen: True\n",
      "--Layer_14\n",
      "---Layer_Frozen: True\n",
      "--Layer_15\n",
      "---Layer_Frozen: True\n",
      "--Layer_16\n",
      "---Layer_Frozen: True\n",
      "--Layer_17\n",
      "---Layer_Frozen: True\n",
      "--Layer_18\n",
      "---Layer_Frozen: True\n",
      "--Layer_19\n",
      "---Layer_Frozen: True\n",
      "--Layer_20\n",
      "---Layer_Frozen: True\n",
      "--Layer_21\n",
      "---Layer_Frozen: True\n",
      "--Layer_22\n",
      "---Layer_Frozen: True\n",
      "--Layer_23\n",
      "---Layer_Frozen: True\n",
      "--Layer_24\n",
      "---Layer_Frozen: True\n",
      "--Layer_25\n",
      "---Layer_Frozen: True\n",
      "--Layer_26\n",
      "---Layer_Frozen: True\n",
      "--Layer_27\n",
      "---Layer_Frozen: True\n",
      "Qwen2ForCausalLM(\n",
      "  (model): Qwen2Model(\n",
      "    (embed_tokens): Embedding(151936, 1536)\n",
      "    (layers): ModuleList(\n",
      "      (0): Qwen2DecoderLayer(\n",
      "        (self_attn): Qwen2SdpaAttention(\n",
      "          (q_proj): Linear(in_features=1536, out_features=1536, bias=True)\n",
      "          (k_proj): Linear(in_features=1536, out_features=256, bias=True)\n",
      "          (v_proj): Linear(in_features=1536, out_features=256, bias=True)\n",
      "          (o_proj): Linear(in_features=1536, out_features=1536, bias=False)\n",
      "          (rotary_emb): Qwen2RotaryEmbedding()\n",
      "        )\n",
      "        (mlp): Qwen2MLP(\n",
      "          (gate_proj): Linear(in_features=1536, out_features=8960, bias=False)\n",
      "          (up_proj): Linear(in_features=1536, out_features=8960, bias=False)\n",
      "          (down_proj): Linear(in_features=8960, out_features=1536, bias=False)\n",
      "          (act_fn): SiLU()\n",
      "        )\n",
      "        (input_layernorm): Qwen2RMSNorm((1536,), eps=1e-06)\n",
      "        (post_attention_layernorm): Qwen2RMSNorm((1536,), eps=1e-06)\n",
      "      )\n",
      "      (1): LinearWrapper(\n",
      "        (mapper): LinearMapper(\n",
      "          (network): Sequential(\n",
      "            (0): Linear(in_features=1536, out_features=1024, bias=True)\n",
      "            (1): LeakyReLU(negative_slope=0.01)\n",
      "            (2): Linear(in_features=1024, out_features=1536, bias=True)\n",
      "          )\n",
      "        )\n",
      "        (tanh): Tanh()\n",
      "        (layer): Qwen2DecoderLayer(\n",
      "          (self_attn): Qwen2SdpaAttention(\n",
      "            (q_proj): Linear(in_features=1536, out_features=1536, bias=True)\n",
      "            (k_proj): Linear(in_features=1536, out_features=256, bias=True)\n",
      "            (v_proj): Linear(in_features=1536, out_features=256, bias=True)\n",
      "            (o_proj): Linear(in_features=1536, out_features=1536, bias=False)\n",
      "            (rotary_emb): Qwen2RotaryEmbedding()\n",
      "          )\n",
      "          (mlp): Qwen2MLP(\n",
      "            (gate_proj): Linear(in_features=1536, out_features=8960, bias=False)\n",
      "            (up_proj): Linear(in_features=1536, out_features=8960, bias=False)\n",
      "            (down_proj): Linear(in_features=8960, out_features=1536, bias=False)\n",
      "            (act_fn): SiLU()\n",
      "          )\n",
      "          (input_layernorm): Qwen2RMSNorm((1536,), eps=1e-06)\n",
      "          (post_attention_layernorm): Qwen2RMSNorm((1536,), eps=1e-06)\n",
      "        )\n",
      "      )Engaged: False\n",
      "      (2-27): 26 x Qwen2DecoderLayer(\n",
      "        (self_attn): Qwen2SdpaAttention(\n",
      "          (q_proj): Linear(in_features=1536, out_features=1536, bias=True)\n",
      "          (k_proj): Linear(in_features=1536, out_features=256, bias=True)\n",
      "          (v_proj): Linear(in_features=1536, out_features=256, bias=True)\n",
      "          (o_proj): Linear(in_features=1536, out_features=1536, bias=False)\n",
      "          (rotary_emb): Qwen2RotaryEmbedding()\n",
      "        )\n",
      "        (mlp): Qwen2MLP(\n",
      "          (gate_proj): Linear(in_features=1536, out_features=8960, bias=False)\n",
      "          (up_proj): Linear(in_features=1536, out_features=8960, bias=False)\n",
      "          (down_proj): Linear(in_features=8960, out_features=1536, bias=False)\n",
      "          (act_fn): SiLU()\n",
      "        )\n",
      "        (input_layernorm): Qwen2RMSNorm((1536,), eps=1e-06)\n",
      "        (post_attention_layernorm): Qwen2RMSNorm((1536,), eps=1e-06)\n",
      "      )\n",
      "    )\n",
      "    (norm): Qwen2RMSNorm((1536,), eps=1e-06)\n",
      "    (rotary_emb): Qwen2RotaryEmbedding()\n",
      "  )\n",
      "  (lm_head): Linear(in_features=1536, out_features=151936, bias=False)\n",
      ")\n"
     ]
    },
    {
     "name": "stderr",
     "output_type": "stream",
     "text": [
      "Epoch 0: 100%|██████████| 1725/1725 [01:04<00:00, 26.85it/s]\n",
      "100%|██████████| 92/92 [00:03<00:00, 30.08it/s]\n"
     ]
    },
    {
     "name": "stdout",
     "output_type": "stream",
     "text": [
      "Epoch 0 : Loss 0.002681309810394178 Eval Loss 0.001620857551208009\n"
     ]
    },
    {
     "name": "stderr",
     "output_type": "stream",
     "text": [
      "Epoch 1: 100%|██████████| 1725/1725 [01:04<00:00, 26.87it/s]\n",
      "100%|██████████| 92/92 [00:03<00:00, 30.07it/s]\n"
     ]
    },
    {
     "name": "stdout",
     "output_type": "stream",
     "text": [
      "Epoch 1 : Loss 0.0016492022191970676 Eval Loss 0.0015394819733362806\n"
     ]
    },
    {
     "name": "stderr",
     "output_type": "stream",
     "text": [
      "Epoch 2: 100%|██████████| 1725/1725 [01:04<00:00, 26.87it/s]\n",
      "100%|██████████| 92/92 [00:03<00:00, 30.10it/s]\n"
     ]
    },
    {
     "name": "stdout",
     "output_type": "stream",
     "text": [
      "Epoch 2 : Loss 0.001472937825669035 Eval Loss 0.0014436513833377671\n"
     ]
    },
    {
     "name": "stderr",
     "output_type": "stream",
     "text": [
      "Epoch 3: 100%|██████████| 1725/1725 [01:04<00:00, 26.86it/s]\n",
      "100%|██████████| 92/92 [00:03<00:00, 30.03it/s]\n"
     ]
    },
    {
     "name": "stdout",
     "output_type": "stream",
     "text": [
      "Epoch 3 : Loss 0.0013565635917019909 Eval Loss 0.0013305933996731335\n"
     ]
    },
    {
     "name": "stderr",
     "output_type": "stream",
     "text": [
      "Epoch 4: 100%|██████████| 1725/1725 [01:04<00:00, 26.85it/s]\n",
      "100%|██████████| 92/92 [00:03<00:00, 30.07it/s]\n"
     ]
    },
    {
     "name": "stdout",
     "output_type": "stream",
     "text": [
      "Epoch 4 : Loss 0.001275634329624312 Eval Loss 0.0013066506944596767\n"
     ]
    },
    {
     "name": "stderr",
     "output_type": "stream",
     "text": [
      "Epoch 5: 100%|██████████| 1725/1725 [01:04<00:00, 26.87it/s]\n",
      "100%|██████████| 92/92 [00:03<00:00, 30.07it/s]\n"
     ]
    },
    {
     "name": "stdout",
     "output_type": "stream",
     "text": [
      "Epoch 5 : Loss 0.0012226568197197132 Eval Loss 0.001245168379366236\n"
     ]
    },
    {
     "name": "stderr",
     "output_type": "stream",
     "text": [
      "Epoch 6: 100%|██████████| 1725/1725 [01:04<00:00, 26.85it/s]\n",
      "100%|██████████| 92/92 [00:03<00:00, 29.99it/s]\n"
     ]
    },
    {
     "name": "stdout",
     "output_type": "stream",
     "text": [
      "Epoch 6 : Loss 0.0011860210895943252 Eval Loss 0.0012419713868597603\n"
     ]
    },
    {
     "name": "stderr",
     "output_type": "stream",
     "text": [
      "Epoch 7: 100%|██████████| 1725/1725 [01:04<00:00, 26.88it/s]\n",
      "100%|██████████| 92/92 [00:03<00:00, 30.07it/s]\n"
     ]
    },
    {
     "name": "stdout",
     "output_type": "stream",
     "text": [
      "Epoch 7 : Loss 0.0011673831097120284 Eval Loss 0.0012836784273689693\n"
     ]
    },
    {
     "name": "stderr",
     "output_type": "stream",
     "text": [
      "Epoch 8: 100%|██████████| 1725/1725 [01:04<00:00, 26.85it/s]\n",
      "100%|██████████| 92/92 [00:03<00:00, 29.95it/s]\n"
     ]
    },
    {
     "name": "stdout",
     "output_type": "stream",
     "text": [
      "Epoch 8 : Loss 0.0011496978247727172 Eval Loss 0.0012700733280760924\n"
     ]
    },
    {
     "name": "stderr",
     "output_type": "stream",
     "text": [
      "Epoch 9: 100%|██████████| 1725/1725 [01:04<00:00, 26.73it/s]\n",
      "100%|██████████| 92/92 [00:03<00:00, 30.03it/s]\n"
     ]
    },
    {
     "name": "stdout",
     "output_type": "stream",
     "text": [
      "Epoch 9 : Loss 0.0011445148957663796 Eval Loss 0.0012826435040156155\n",
      "Encoder_Frozen: True\n",
      "Projector_Frozen: True\n",
      "-LLM\n",
      "--Layer_0\n",
      "---Layer_Frozen: True\n",
      "--LayerWrapper_1\n",
      "---Layer_Frozen: True\n",
      "---Mapper_Frozen: False\n",
      "---Engaged: True\n",
      "---Alpha_Frozen: False Value: 0.5 Not Used\n",
      "--Layer_2\n",
      "---Layer_Frozen: True\n",
      "--Layer_3\n",
      "---Layer_Frozen: True\n",
      "--Layer_4\n",
      "---Layer_Frozen: True\n",
      "--Layer_5\n",
      "---Layer_Frozen: True\n",
      "--Layer_6\n",
      "---Layer_Frozen: True\n",
      "--Layer_7\n",
      "---Layer_Frozen: True\n",
      "--Layer_8\n",
      "---Layer_Frozen: True\n",
      "--Layer_9\n",
      "---Layer_Frozen: True\n",
      "--Layer_10\n",
      "---Layer_Frozen: True\n",
      "--Layer_11\n",
      "---Layer_Frozen: True\n",
      "--Layer_12\n",
      "---Layer_Frozen: True\n",
      "--Layer_13\n",
      "---Layer_Frozen: True\n",
      "--Layer_14\n",
      "---Layer_Frozen: True\n",
      "--Layer_15\n",
      "---Layer_Frozen: True\n",
      "--Layer_16\n",
      "---Layer_Frozen: True\n",
      "--Layer_17\n",
      "---Layer_Frozen: True\n",
      "--Layer_18\n",
      "---Layer_Frozen: True\n",
      "--Layer_19\n",
      "---Layer_Frozen: True\n",
      "--Layer_20\n",
      "---Layer_Frozen: True\n",
      "--Layer_21\n",
      "---Layer_Frozen: True\n",
      "--Layer_22\n",
      "---Layer_Frozen: True\n",
      "--Layer_23\n",
      "---Layer_Frozen: True\n",
      "--Layer_24\n",
      "---Layer_Frozen: True\n",
      "--Layer_25\n",
      "---Layer_Frozen: True\n",
      "--Layer_26\n",
      "---Layer_Frozen: True\n",
      "--Layer_27\n",
      "---Layer_Frozen: True\n",
      "Qwen2ForCausalLM(\n",
      "  (model): Qwen2Model(\n",
      "    (embed_tokens): Embedding(151936, 1536)\n",
      "    (layers): ModuleList(\n",
      "      (0): Qwen2DecoderLayer(\n",
      "        (self_attn): Qwen2SdpaAttention(\n",
      "          (q_proj): Linear(in_features=1536, out_features=1536, bias=True)\n",
      "          (k_proj): Linear(in_features=1536, out_features=256, bias=True)\n",
      "          (v_proj): Linear(in_features=1536, out_features=256, bias=True)\n",
      "          (o_proj): Linear(in_features=1536, out_features=1536, bias=False)\n",
      "          (rotary_emb): Qwen2RotaryEmbedding()\n",
      "        )\n",
      "        (mlp): Qwen2MLP(\n",
      "          (gate_proj): Linear(in_features=1536, out_features=8960, bias=False)\n",
      "          (up_proj): Linear(in_features=1536, out_features=8960, bias=False)\n",
      "          (down_proj): Linear(in_features=8960, out_features=1536, bias=False)\n",
      "          (act_fn): SiLU()\n",
      "        )\n",
      "        (input_layernorm): Qwen2RMSNorm((1536,), eps=1e-06)\n",
      "        (post_attention_layernorm): Qwen2RMSNorm((1536,), eps=1e-06)\n",
      "      )\n",
      "      (1): LinearWrapper(\n",
      "        (mapper): LinearMapper(\n",
      "          (network): Sequential(\n",
      "            (0): Linear(in_features=1536, out_features=1024, bias=True)\n",
      "            (1): LeakyReLU(negative_slope=0.01)\n",
      "            (2): Linear(in_features=1024, out_features=1536, bias=True)\n",
      "          )\n",
      "        )\n",
      "        (tanh): Tanh()\n",
      "        (layer): Qwen2DecoderLayer(\n",
      "          (self_attn): Qwen2SdpaAttention(\n",
      "            (q_proj): Linear(in_features=1536, out_features=1536, bias=True)\n",
      "            (k_proj): Linear(in_features=1536, out_features=256, bias=True)\n",
      "            (v_proj): Linear(in_features=1536, out_features=256, bias=True)\n",
      "            (o_proj): Linear(in_features=1536, out_features=1536, bias=False)\n",
      "            (rotary_emb): Qwen2RotaryEmbedding()\n",
      "          )\n",
      "          (mlp): Qwen2MLP(\n",
      "            (gate_proj): Linear(in_features=1536, out_features=8960, bias=False)\n",
      "            (up_proj): Linear(in_features=1536, out_features=8960, bias=False)\n",
      "            (down_proj): Linear(in_features=8960, out_features=1536, bias=False)\n",
      "            (act_fn): SiLU()\n",
      "          )\n",
      "          (input_layernorm): Qwen2RMSNorm((1536,), eps=1e-06)\n",
      "          (post_attention_layernorm): Qwen2RMSNorm((1536,), eps=1e-06)\n",
      "        )\n",
      "      )Engaged: True\n",
      "      (2-27): 26 x Qwen2DecoderLayer(\n",
      "        (self_attn): Qwen2SdpaAttention(\n",
      "          (q_proj): Linear(in_features=1536, out_features=1536, bias=True)\n",
      "          (k_proj): Linear(in_features=1536, out_features=256, bias=True)\n",
      "          (v_proj): Linear(in_features=1536, out_features=256, bias=True)\n",
      "          (o_proj): Linear(in_features=1536, out_features=1536, bias=False)\n",
      "          (rotary_emb): Qwen2RotaryEmbedding()\n",
      "        )\n",
      "        (mlp): Qwen2MLP(\n",
      "          (gate_proj): Linear(in_features=1536, out_features=8960, bias=False)\n",
      "          (up_proj): Linear(in_features=1536, out_features=8960, bias=False)\n",
      "          (down_proj): Linear(in_features=8960, out_features=1536, bias=False)\n",
      "          (act_fn): SiLU()\n",
      "        )\n",
      "        (input_layernorm): Qwen2RMSNorm((1536,), eps=1e-06)\n",
      "        (post_attention_layernorm): Qwen2RMSNorm((1536,), eps=1e-06)\n",
      "      )\n",
      "    )\n",
      "    (norm): Qwen2RMSNorm((1536,), eps=1e-06)\n",
      "    (rotary_emb): Qwen2RotaryEmbedding()\n",
      "  )\n",
      "  (lm_head): Linear(in_features=1536, out_features=151936, bias=False)\n",
      ")\n"
     ]
    },
    {
     "name": "stderr",
     "output_type": "stream",
     "text": [
      "Epoch 0: 100%|██████████| 3511/3511 [02:13<00:00, 26.31it/s]\n",
      "100%|██████████| 185/185 [00:05<00:00, 31.62it/s]\n"
     ]
    },
    {
     "name": "stdout",
     "output_type": "stream",
     "text": [
      "Epoch 0 : Loss 0.001957484500016354 Eval Loss 0.0017693590032993943\n"
     ]
    },
    {
     "name": "stderr",
     "output_type": "stream",
     "text": [
      "Epoch 1: 100%|██████████| 3511/3511 [02:13<00:00, 26.37it/s]\n",
      "100%|██████████| 185/185 [00:05<00:00, 31.67it/s]\n"
     ]
    },
    {
     "name": "stdout",
     "output_type": "stream",
     "text": [
      "Epoch 1 : Loss 0.003019584584587294 Eval Loss 0.0034073756919620005\n"
     ]
    },
    {
     "name": "stderr",
     "output_type": "stream",
     "text": [
      "Epoch 2: 100%|██████████| 3511/3511 [02:13<00:00, 26.38it/s]\n",
      "100%|██████████| 185/185 [00:05<00:00, 31.73it/s]\n"
     ]
    },
    {
     "name": "stdout",
     "output_type": "stream",
     "text": [
      "Epoch 2 : Loss 0.003464864708172336 Eval Loss 0.004851292869126475\n"
     ]
    },
    {
     "name": "stderr",
     "output_type": "stream",
     "text": [
      "Epoch 3: 100%|██████████| 3511/3511 [02:13<00:00, 26.37it/s]\n",
      "100%|██████████| 185/185 [00:05<00:00, 31.84it/s]\n"
     ]
    },
    {
     "name": "stdout",
     "output_type": "stream",
     "text": [
      "Epoch 3 : Loss 0.0020969807780359703 Eval Loss 0.002018752437386964\n"
     ]
    },
    {
     "name": "stderr",
     "output_type": "stream",
     "text": [
      "Epoch 4: 100%|██████████| 3511/3511 [02:13<00:00, 26.37it/s]\n",
      "100%|██████████| 185/185 [00:05<00:00, 31.61it/s]\n"
     ]
    },
    {
     "name": "stdout",
     "output_type": "stream",
     "text": [
      "Epoch 4 : Loss 0.0020410536476857884 Eval Loss 0.002018752437386964\n"
     ]
    },
    {
     "name": "stderr",
     "output_type": "stream",
     "text": [
      "Epoch 5: 100%|██████████| 3511/3511 [02:13<00:00, 26.35it/s]\n",
      "100%|██████████| 185/185 [00:05<00:00, 31.65it/s]\n"
     ]
    },
    {
     "name": "stdout",
     "output_type": "stream",
     "text": [
      "Epoch 5 : Loss 0.0020410536301124133 Eval Loss 0.002018752262449345\n"
     ]
    },
    {
     "name": "stderr",
     "output_type": "stream",
     "text": [
      "Epoch 6: 100%|██████████| 3511/3511 [02:13<00:00, 26.35it/s]\n",
      "100%|██████████| 185/185 [00:05<00:00, 31.69it/s]\n"
     ]
    },
    {
     "name": "stdout",
     "output_type": "stream",
     "text": [
      "Epoch 6 : Loss 0.002041053565289869 Eval Loss 0.0020187522851031372\n"
     ]
    },
    {
     "name": "stderr",
     "output_type": "stream",
     "text": [
      "Epoch 7: 100%|██████████| 3511/3511 [02:13<00:00, 26.31it/s]\n",
      "100%|██████████| 185/185 [00:05<00:00, 31.62it/s]\n"
     ]
    },
    {
     "name": "stdout",
     "output_type": "stream",
     "text": [
      "Epoch 7 : Loss 0.0020408072571273615 Eval Loss 0.0020182937100479328\n"
     ]
    },
    {
     "name": "stderr",
     "output_type": "stream",
     "text": [
      "Epoch 8: 100%|██████████| 3511/3511 [02:13<00:00, 26.37it/s]\n",
      "100%|██████████| 185/185 [00:05<00:00, 31.69it/s]\n"
     ]
    },
    {
     "name": "stdout",
     "output_type": "stream",
     "text": [
      "Epoch 8 : Loss 0.0020406021785568757 Eval Loss 0.0020182937100479328\n"
     ]
    },
    {
     "name": "stderr",
     "output_type": "stream",
     "text": [
      "Epoch 9: 100%|██████████| 3511/3511 [02:13<00:00, 26.39it/s]\n",
      "100%|██████████| 185/185 [00:05<00:00, 31.59it/s]\n"
     ]
    },
    {
     "name": "stdout",
     "output_type": "stream",
     "text": [
      "Epoch 9 : Loss 0.0020406021785568757 Eval Loss 0.0020182937100479328\n"
     ]
    }
   ],
   "source": [
    "two_phased_ts.train(epochs)"
   ]
  },
  {
   "cell_type": "code",
   "execution_count": 102,
   "metadata": {
    "trusted": true
   },
   "outputs": [
    {
     "name": "stdout",
     "output_type": "stream",
     "text": [
      "-LLM\n",
      "--Layer_0\n",
      "---Layer_Frozen: True\n",
      "--LayerWrapper_1\n",
      "---Layer_Frozen: True\n",
      "---Mapper_Frozen: False\n",
      "---Engaged: True\n",
      "---Alpha_Frozen: False Value: 0.5 Not Used\n",
      "--Layer_2\n",
      "---Layer_Frozen: True\n",
      "--Layer_3\n",
      "---Layer_Frozen: True\n",
      "--Layer_4\n",
      "---Layer_Frozen: True\n",
      "--Layer_5\n",
      "---Layer_Frozen: True\n",
      "--Layer_6\n",
      "---Layer_Frozen: True\n",
      "--Layer_7\n",
      "---Layer_Frozen: True\n",
      "--Layer_8\n",
      "---Layer_Frozen: True\n",
      "--Layer_9\n",
      "---Layer_Frozen: True\n",
      "--Layer_10\n",
      "---Layer_Frozen: True\n",
      "--Layer_11\n",
      "---Layer_Frozen: True\n",
      "--Layer_12\n",
      "---Layer_Frozen: True\n",
      "--Layer_13\n",
      "---Layer_Frozen: True\n",
      "--Layer_14\n",
      "---Layer_Frozen: True\n",
      "--Layer_15\n",
      "---Layer_Frozen: True\n",
      "--Layer_16\n",
      "---Layer_Frozen: True\n",
      "--Layer_17\n",
      "---Layer_Frozen: True\n",
      "--Layer_18\n",
      "---Layer_Frozen: True\n",
      "--Layer_19\n",
      "---Layer_Frozen: True\n",
      "--Layer_20\n",
      "---Layer_Frozen: True\n",
      "--Layer_21\n",
      "---Layer_Frozen: True\n",
      "--Layer_22\n",
      "---Layer_Frozen: True\n",
      "--Layer_23\n",
      "---Layer_Frozen: True\n",
      "--Layer_24\n",
      "---Layer_Frozen: True\n",
      "--Layer_25\n",
      "---Layer_Frozen: True\n",
      "--Layer_26\n",
      "---Layer_Frozen: True\n",
      "--Layer_27\n",
      "---Layer_Frozen: True\n",
      "Qwen2ForCausalLM(\n",
      "  (model): Qwen2Model(\n",
      "    (embed_tokens): Embedding(151936, 1536)\n",
      "    (layers): ModuleList(\n",
      "      (0): Qwen2DecoderLayer(\n",
      "        (self_attn): Qwen2SdpaAttention(\n",
      "          (q_proj): Linear(in_features=1536, out_features=1536, bias=True)\n",
      "          (k_proj): Linear(in_features=1536, out_features=256, bias=True)\n",
      "          (v_proj): Linear(in_features=1536, out_features=256, bias=True)\n",
      "          (o_proj): Linear(in_features=1536, out_features=1536, bias=False)\n",
      "          (rotary_emb): Qwen2RotaryEmbedding()\n",
      "        )\n",
      "        (mlp): Qwen2MLP(\n",
      "          (gate_proj): Linear(in_features=1536, out_features=8960, bias=False)\n",
      "          (up_proj): Linear(in_features=1536, out_features=8960, bias=False)\n",
      "          (down_proj): Linear(in_features=8960, out_features=1536, bias=False)\n",
      "          (act_fn): SiLU()\n",
      "        )\n",
      "        (input_layernorm): Qwen2RMSNorm((1536,), eps=1e-06)\n",
      "        (post_attention_layernorm): Qwen2RMSNorm((1536,), eps=1e-06)\n",
      "      )\n",
      "      (1): LinearWrapper(\n",
      "        (mapper): LinearMapper(\n",
      "          (network): Sequential(\n",
      "            (0): Linear(in_features=1536, out_features=1024, bias=True)\n",
      "            (1): LeakyReLU(negative_slope=0.01)\n",
      "            (2): Linear(in_features=1024, out_features=1536, bias=True)\n",
      "          )\n",
      "        )\n",
      "        (tanh): Tanh()\n",
      "        (layer): Qwen2DecoderLayer(\n",
      "          (self_attn): Qwen2SdpaAttention(\n",
      "            (q_proj): Linear(in_features=1536, out_features=1536, bias=True)\n",
      "            (k_proj): Linear(in_features=1536, out_features=256, bias=True)\n",
      "            (v_proj): Linear(in_features=1536, out_features=256, bias=True)\n",
      "            (o_proj): Linear(in_features=1536, out_features=1536, bias=False)\n",
      "            (rotary_emb): Qwen2RotaryEmbedding()\n",
      "          )\n",
      "          (mlp): Qwen2MLP(\n",
      "            (gate_proj): Linear(in_features=1536, out_features=8960, bias=False)\n",
      "            (up_proj): Linear(in_features=1536, out_features=8960, bias=False)\n",
      "            (down_proj): Linear(in_features=8960, out_features=1536, bias=False)\n",
      "            (act_fn): SiLU()\n",
      "          )\n",
      "          (input_layernorm): Qwen2RMSNorm((1536,), eps=1e-06)\n",
      "          (post_attention_layernorm): Qwen2RMSNorm((1536,), eps=1e-06)\n",
      "        )\n",
      "      )Engaged: True\n",
      "      (2-27): 26 x Qwen2DecoderLayer(\n",
      "        (self_attn): Qwen2SdpaAttention(\n",
      "          (q_proj): Linear(in_features=1536, out_features=1536, bias=True)\n",
      "          (k_proj): Linear(in_features=1536, out_features=256, bias=True)\n",
      "          (v_proj): Linear(in_features=1536, out_features=256, bias=True)\n",
      "          (o_proj): Linear(in_features=1536, out_features=1536, bias=False)\n",
      "          (rotary_emb): Qwen2RotaryEmbedding()\n",
      "        )\n",
      "        (mlp): Qwen2MLP(\n",
      "          (gate_proj): Linear(in_features=1536, out_features=8960, bias=False)\n",
      "          (up_proj): Linear(in_features=1536, out_features=8960, bias=False)\n",
      "          (down_proj): Linear(in_features=8960, out_features=1536, bias=False)\n",
      "          (act_fn): SiLU()\n",
      "        )\n",
      "        (input_layernorm): Qwen2RMSNorm((1536,), eps=1e-06)\n",
      "        (post_attention_layernorm): Qwen2RMSNorm((1536,), eps=1e-06)\n",
      "      )\n",
      "    )\n",
      "    (norm): Qwen2RMSNorm((1536,), eps=1e-06)\n",
      "    (rotary_emb): Qwen2RotaryEmbedding()\n",
      "  )\n",
      "  (lm_head): Linear(in_features=1536, out_features=151936, bias=False)\n",
      ")\n"
     ]
    }
   ],
   "source": [
    "qwen_model.print_status()"
   ]
  },
  {
   "cell_type": "code",
   "execution_count": 103,
   "metadata": {
    "trusted": true
   },
   "outputs": [],
   "source": [
    "qwen_model.engage_all_layer_wrappers(False)"
   ]
  },
  {
   "cell_type": "code",
   "execution_count": 104,
   "metadata": {},
   "outputs": [
    {
     "name": "stderr",
     "output_type": "stream",
     "text": [
      "Evaluating en:   2%|▏         | 1/63 [00:03<04:01,  3.90s/it]"
     ]
    },
    {
     "name": "stdout",
     "output_type": "stream",
     "text": [
      "answer: 1.5, correct: 3 correctness: False\n",
      "answer: 280, correct: 320 correctness: False\n",
      "answer: 500, correct: 500 correctness: True\n",
      "answer: 3.43, correct: 6 correctness: False\n"
     ]
    },
    {
     "name": "stderr",
     "output_type": "stream",
     "text": [
      "Evaluating en:   3%|▎         | 2/63 [00:06<02:55,  2.88s/it]"
     ]
    },
    {
     "name": "stdout",
     "output_type": "stream",
     "text": [
      "answer: 120, correct: 90 correctness: False\n",
      "answer: Empty Answer, correct: 57 correctness: False\n",
      "answer: 28, correct: 28 correctness: True\n",
      "answer: 140, correct: 140 correctness: True\n"
     ]
    },
    {
     "name": "stderr",
     "output_type": "stream",
     "text": [
      "Evaluating en:   5%|▍         | 3/63 [00:09<03:06,  3.11s/it]"
     ]
    },
    {
     "name": "stdout",
     "output_type": "stream",
     "text": [
      "answer: 50, correct: 50 correctness: True\n",
      "answer: 104, correct: 104 correctness: True\n",
      "answer: 14, correct: 14 correctness: True\n",
      "answer: 50, correct: 50 correctness: True\n"
     ]
    },
    {
     "name": "stderr",
     "output_type": "stream",
     "text": [
      "Evaluating en:   6%|▋         | 4/63 [00:13<03:20,  3.40s/it]"
     ]
    },
    {
     "name": "stdout",
     "output_type": "stream",
     "text": [
      "answer: 6277, correct: 6277 correctness: True\n",
      "answer: 140, correct: 140 correctness: True\n",
      "answer: 125, correct: 125 correctness: True\n",
      "answer: 10, correct: 10 correctness: True\n"
     ]
    },
    {
     "name": "stderr",
     "output_type": "stream",
     "text": [
      "Evaluating en:   8%|▊         | 5/63 [00:16<03:12,  3.32s/it]"
     ]
    },
    {
     "name": "stdout",
     "output_type": "stream",
     "text": [
      "answer: 104, correct: 104 correctness: True\n",
      "answer: 70, correct: 70 correctness: True\n",
      "answer: 50, correct: 40 correctness: False\n",
      "answer: 27, correct: 27 correctness: True\n"
     ]
    },
    {
     "name": "stderr",
     "output_type": "stream",
     "text": [
      "Evaluating en:  10%|▉         | 6/63 [00:21<03:48,  4.02s/it]"
     ]
    },
    {
     "name": "stdout",
     "output_type": "stream",
     "text": [
      "answer: 8, correct: 8 correctness: True\n",
      "answer: 400, correct: 400 correctness: True\n",
      "answer: 66.67, correct: 25 correctness: False\n",
      "answer: 120, correct: 120 correctness: True\n"
     ]
    },
    {
     "name": "stderr",
     "output_type": "stream",
     "text": [
      "Evaluating en:  11%|█         | 7/63 [00:25<03:31,  3.78s/it]"
     ]
    },
    {
     "name": "stdout",
     "output_type": "stream",
     "text": [
      "answer: 15, correct: 15 correctness: True\n",
      "answer: 360, correct: 40 correctness: False\n",
      "answer: 33, correct: 83 correctness: False\n",
      "answer: 30, correct: 30 correctness: True\n"
     ]
    },
    {
     "name": "stderr",
     "output_type": "stream",
     "text": [
      "Evaluating en:  13%|█▎        | 8/63 [00:28<03:16,  3.58s/it]"
     ]
    },
    {
     "name": "stdout",
     "output_type": "stream",
     "text": [
      "answer: 109, correct: 109 correctness: True\n",
      "answer: 0, correct: 90 correctness: False\n",
      "answer: 60, correct: 60 correctness: True\n",
      "answer:  20 \\text{ miles} - 15 \\text{ miles} = 5 \\text{ miles} \\, correct: 25 correctness: False\n"
     ]
    },
    {
     "name": "stderr",
     "output_type": "stream",
     "text": [
      "Evaluating en:  14%|█▍        | 9/63 [00:32<03:21,  3.73s/it]"
     ]
    },
    {
     "name": "stdout",
     "output_type": "stream",
     "text": [
      "answer: 180, correct: 180 correctness: True\n",
      "answer: 1970, correct: 80 correctness: False\n",
      "answer: 225, correct: 225 correctness: True\n",
      "answer: 106, correct: 106 correctness: True\n"
     ]
    },
    {
     "name": "stderr",
     "output_type": "stream",
     "text": [
      "Evaluating en:  16%|█▌        | 10/63 [00:37<03:43,  4.22s/it]"
     ]
    },
    {
     "name": "stdout",
     "output_type": "stream",
     "text": [
      "answer: 120, correct: 98 correctness: False\n",
      "answer: 29, correct: 29 correctness: True\n",
      "answer: 20, correct: 20 correctness: True\n",
      "answer: 54, correct: 50 correctness: False\n"
     ]
    },
    {
     "name": "stderr",
     "output_type": "stream",
     "text": [
      "Evaluating en:  17%|█▋        | 11/63 [00:43<03:58,  4.59s/it]"
     ]
    },
    {
     "name": "stdout",
     "output_type": "stream",
     "text": [
      "answer: 32, correct: 32 correctness: True\n",
      "answer: Empty Answer, correct: 92 correctness: False\n",
      "answer: 55\\, correct: 55 correctness: False\n",
      "answer: 221, correct: 221 correctness: True\n"
     ]
    },
    {
     "name": "stderr",
     "output_type": "stream",
     "text": [
      "Evaluating en:  19%|█▉        | 12/63 [00:46<03:40,  4.32s/it]"
     ]
    },
    {
     "name": "stdout",
     "output_type": "stream",
     "text": [
      "answer: 1000, correct: 4000 correctness: False\n",
      "answer: 460, correct: 460 correctness: True\n",
      "answer: 8, correct: 8 correctness: True\n",
      "answer: 280, correct: 280 correctness: True\n"
     ]
    },
    {
     "name": "stderr",
     "output_type": "stream",
     "text": [
      "Evaluating en:  21%|██        | 13/63 [00:50<03:28,  4.17s/it]"
     ]
    },
    {
     "name": "stdout",
     "output_type": "stream",
     "text": [
      "answer: 309, correct: 45 correctness: False\n",
      "answer: 12, correct: 13 correctness: False\n",
      "answer:  \\text{Total distance covered} = 80 \\text{ miles} + 150 \\text{ miles} = 230 \\text{ miles} \\, correct: 230 correctness: False\n",
      "answer: 4, correct: 4 correctness: True\n"
     ]
    },
    {
     "name": "stderr",
     "output_type": "stream",
     "text": [
      "Evaluating en:  22%|██▏       | 14/63 [00:55<03:34,  4.38s/it]"
     ]
    },
    {
     "name": "stdout",
     "output_type": "stream",
     "text": [
      "answer: 10, correct: 1 correctness: False\n",
      "answer: 60, correct: 75 correctness: False\n",
      "answer: 122, correct: 122 correctness: True\n",
      "answer: 54, correct: 68 correctness: False\n"
     ]
    },
    {
     "name": "stderr",
     "output_type": "stream",
     "text": [
      "Evaluating en:  24%|██▍       | 15/63 [01:00<03:42,  4.64s/it]"
     ]
    },
    {
     "name": "stdout",
     "output_type": "stream",
     "text": [
      "answer: Empty Answer, correct: 4 correctness: False\n",
      "answer: 14, correct: 7 correctness: False\n",
      "answer: 880, correct: 880 correctness: True\n",
      "answer: 16, correct: 16 correctness: True\n"
     ]
    },
    {
     "name": "stderr",
     "output_type": "stream",
     "text": [
      "Evaluating en:  25%|██▌       | 16/63 [01:04<03:21,  4.29s/it]"
     ]
    },
    {
     "name": "stdout",
     "output_type": "stream",
     "text": [
      "answer: Empty Answer, correct: 48 correctness: False\n",
      "answer: 240, correct: 240 correctness: True\n",
      "answer: 940, correct: 940 correctness: True\n",
      "answer: 13, correct: 13 correctness: True\n"
     ]
    },
    {
     "name": "stderr",
     "output_type": "stream",
     "text": [
      "Evaluating en:  27%|██▋       | 17/63 [01:07<03:05,  4.02s/it]"
     ]
    },
    {
     "name": "stdout",
     "output_type": "stream",
     "text": [
      "answer: 800, correct: 800 correctness: True\n",
      "answer: 595, correct: 595 correctness: True\n",
      "answer: 12, correct: 6 correctness: False\n",
      "answer: 5, correct: 5 correctness: True\n"
     ]
    },
    {
     "name": "stderr",
     "output_type": "stream",
     "text": [
      "Evaluating en:  29%|██▊       | 18/63 [01:12<03:12,  4.28s/it]"
     ]
    },
    {
     "name": "stdout",
     "output_type": "stream",
     "text": [
      "answer: 20, correct: 20 correctness: True\n",
      "answer: 2, correct: 8 correctness: False\n",
      "answer: 160, correct: 160 correctness: True\n",
      "answer: 7, correct: 7 correctness: True\n"
     ]
    },
    {
     "name": "stderr",
     "output_type": "stream",
     "text": [
      "Evaluating en:  30%|███       | 19/63 [01:15<02:55,  3.99s/it]"
     ]
    },
    {
     "name": "stdout",
     "output_type": "stream",
     "text": [
      "answer: 5, correct: 5 correctness: True\n",
      "answer: 15.67, correct: 15 correctness: False\n",
      "answer: 6, correct: 12 correctness: False\n",
      "answer: 44, correct: 44 correctness: True\n"
     ]
    },
    {
     "name": "stderr",
     "output_type": "stream",
     "text": [
      "Evaluating en:  32%|███▏      | 20/63 [01:21<03:09,  4.40s/it]"
     ]
    },
    {
     "name": "stdout",
     "output_type": "stream",
     "text": [
      "answer: Empty Answer, correct: 36 correctness: False\n",
      "answer: 75, correct: 75 correctness: True\n",
      "answer: 10, correct: 10 correctness: True\n",
      "answer: 10, correct: 10 correctness: True\n"
     ]
    },
    {
     "name": "stderr",
     "output_type": "stream",
     "text": [
      "Evaluating en:  33%|███▎      | 21/63 [01:25<03:08,  4.48s/it]"
     ]
    },
    {
     "name": "stdout",
     "output_type": "stream",
     "text": [
      "answer: 26, correct: 26 correctness: True\n",
      "answer: 5, correct: 2 correctness: False\n",
      "answer: 1.67, correct: 5 correctness: False\n",
      "answer: 40, correct: 58 correctness: False\n"
     ]
    },
    {
     "name": "stderr",
     "output_type": "stream",
     "text": [
      "Evaluating en:  35%|███▍      | 22/63 [01:29<02:51,  4.19s/it]"
     ]
    },
    {
     "name": "stdout",
     "output_type": "stream",
     "text": [
      "answer: 34, correct: 34 correctness: True\n",
      "answer: 50, correct: 50 correctness: True\n",
      "answer: 54, correct: 54 correctness: True\n",
      "answer: 30, correct: 30 correctness: True\n"
     ]
    },
    {
     "name": "stderr",
     "output_type": "stream",
     "text": [
      "Evaluating en:  37%|███▋      | 23/63 [01:34<03:01,  4.54s/it]"
     ]
    },
    {
     "name": "stdout",
     "output_type": "stream",
     "text": [
      "answer: 2125, correct: 2125 correctness: True\n",
      "answer: Empty Answer, correct: 95200 correctness: False\n",
      "answer: 8,000, correct: 8000 correctness: False\n",
      "answer: Empty Answer, correct: 360 correctness: False\n"
     ]
    },
    {
     "name": "stderr",
     "output_type": "stream",
     "text": [
      "Evaluating en:  38%|███▊      | 24/63 [01:37<02:40,  4.11s/it]"
     ]
    },
    {
     "name": "stdout",
     "output_type": "stream",
     "text": [
      "answer: 4, correct: 4 correctness: True\n",
      "answer: 95, correct: 95 correctness: True\n",
      "answer: 300, correct: 300 correctness: True\n",
      "answer: 7, correct: 7 correctness: True\n"
     ]
    },
    {
     "name": "stderr",
     "output_type": "stream",
     "text": [
      "Evaluating en:  40%|███▉      | 25/63 [01:41<02:30,  3.96s/it]"
     ]
    },
    {
     "name": "stdout",
     "output_type": "stream",
     "text": [
      "answer: 29, correct: 48 correctness: False\n",
      "answer: 50, correct: 50 correctness: True\n",
      "answer: 19, correct: 17 correctness: False\n",
      "answer: 10, correct: 10 correctness: True\n"
     ]
    },
    {
     "name": "stderr",
     "output_type": "stream",
     "text": [
      "Evaluating en:  41%|████▏     | 26/63 [01:44<02:17,  3.70s/it]"
     ]
    },
    {
     "name": "stdout",
     "output_type": "stream",
     "text": [
      "answer: 32, correct: 32 correctness: True\n",
      "answer: 3, correct: 3 correctness: True\n",
      "answer: 1, correct: 8 correctness: False\n",
      "answer: 98, correct: 98 correctness: True\n"
     ]
    },
    {
     "name": "stderr",
     "output_type": "stream",
     "text": [
      "Evaluating en:  43%|████▎     | 27/63 [01:49<02:26,  4.06s/it]"
     ]
    },
    {
     "name": "stdout",
     "output_type": "stream",
     "text": [
      "answer: 1400, correct: 1400 correctness: True\n",
      "answer: 60, correct: 60 correctness: True\n",
      "answer: 14, correct: 30 correctness: False\n",
      "answer: Empty Answer, correct: 24 correctness: False\n"
     ]
    },
    {
     "name": "stderr",
     "output_type": "stream",
     "text": [
      "Evaluating en:  44%|████▍     | 28/63 [01:53<02:20,  4.00s/it]"
     ]
    },
    {
     "name": "stdout",
     "output_type": "stream",
     "text": [
      "answer: 0.85, correct: 3 correctness: False\n",
      "answer: 243, correct: 243 correctness: True\n",
      "answer: 500, correct: 250 correctness: False\n",
      "answer: 15, correct: 5 correctness: False\n"
     ]
    },
    {
     "name": "stderr",
     "output_type": "stream",
     "text": [
      "Evaluating en:  46%|████▌     | 29/63 [01:57<02:16,  4.03s/it]"
     ]
    },
    {
     "name": "stdout",
     "output_type": "stream",
     "text": [
      "answer: 220, correct: 45 correctness: False\n",
      "answer: 150, correct: 150 correctness: True\n",
      "answer: 200, correct: 300 correctness: False\n",
      "answer: 140, correct: 140 correctness: True\n"
     ]
    },
    {
     "name": "stderr",
     "output_type": "stream",
     "text": [
      "Evaluating en:  48%|████▊     | 30/63 [02:00<02:05,  3.80s/it]"
     ]
    },
    {
     "name": "stdout",
     "output_type": "stream",
     "text": [
      "answer: 45, correct: 5 correctness: False\n",
      "answer: 4, correct: 4 correctness: True\n",
      "answer: 74995, correct: 145 correctness: False\n",
      "answer: 57500, correct: 57500 correctness: True\n"
     ]
    },
    {
     "name": "stderr",
     "output_type": "stream",
     "text": [
      "Evaluating en:  49%|████▉     | 31/63 [02:04<01:58,  3.72s/it]"
     ]
    },
    {
     "name": "stdout",
     "output_type": "stream",
     "text": [
      "answer: 623, correct: 623 correctness: True\n",
      "answer: 1512, correct: 1596 correctness: False\n",
      "answer: 130, correct: 130 correctness: True\n",
      "answer: 20, correct: 20 correctness: True\n"
     ]
    },
    {
     "name": "stderr",
     "output_type": "stream",
     "text": [
      "Evaluating en:  51%|█████     | 32/63 [02:06<01:42,  3.29s/it]"
     ]
    },
    {
     "name": "stdout",
     "output_type": "stream",
     "text": [
      "answer: 112, correct: 272 correctness: False\n",
      "answer: 600, correct: 600 correctness: True\n",
      "answer: 5, correct: 5 correctness: True\n",
      "answer: 40, correct: 40 correctness: True\n"
     ]
    },
    {
     "name": "stderr",
     "output_type": "stream",
     "text": [
      "Evaluating en:  52%|█████▏    | 33/63 [02:11<01:53,  3.79s/it]"
     ]
    },
    {
     "name": "stdout",
     "output_type": "stream",
     "text": [
      "answer: 1210, correct: 1210 correctness: True\n",
      "answer: x=18, correct: 18 correctness: False\n",
      "answer: 1430, correct: 1430 correctness: True\n",
      "answer: 144, correct: 72 correctness: False\n"
     ]
    },
    {
     "name": "stderr",
     "output_type": "stream",
     "text": [
      "Evaluating en:  54%|█████▍    | 34/63 [02:15<01:48,  3.74s/it]"
     ]
    },
    {
     "name": "stdout",
     "output_type": "stream",
     "text": [
      "answer: 77, correct: 77 correctness: True\n",
      "answer: 15, correct: 15 correctness: True\n",
      "answer: 18, correct: 18 correctness: True\n",
      "answer: 6000, correct: 18000 correctness: False\n"
     ]
    },
    {
     "name": "stderr",
     "output_type": "stream",
     "text": [
      "Evaluating en:  56%|█████▌    | 35/63 [02:18<01:42,  3.67s/it]"
     ]
    },
    {
     "name": "stdout",
     "output_type": "stream",
     "text": [
      "answer: 14, correct: 21 correctness: False\n",
      "answer: 26, correct: 26 correctness: True\n",
      "answer: 9, correct: 9 correctness: True\n",
      "answer: 61, correct: 34 correctness: False\n"
     ]
    },
    {
     "name": "stderr",
     "output_type": "stream",
     "text": [
      "Evaluating en:  57%|█████▋    | 36/63 [02:23<01:51,  4.14s/it]"
     ]
    },
    {
     "name": "stdout",
     "output_type": "stream",
     "text": [
      "answer: 25, correct: 25 correctness: True\n",
      "answer: 384, correct: 366 correctness: False\n",
      "answer: 350, correct: 350 correctness: True\n",
      "answer: Empty Answer, correct: 10000 correctness: False\n"
     ]
    },
    {
     "name": "stderr",
     "output_type": "stream",
     "text": [
      "Evaluating en:  59%|█████▊    | 37/63 [02:27<01:42,  3.96s/it]"
     ]
    },
    {
     "name": "stdout",
     "output_type": "stream",
     "text": [
      "answer: 30, correct: 31 correctness: False\n",
      "answer: 82, correct: 82 correctness: True\n",
      "answer: 36, correct: 36 correctness: True\n",
      "answer: 88.67, correct: 88 correctness: False\n"
     ]
    },
    {
     "name": "stderr",
     "output_type": "stream",
     "text": [
      "Evaluating en:  60%|██████    | 38/63 [02:31<01:38,  3.95s/it]"
     ]
    },
    {
     "name": "stdout",
     "output_type": "stream",
     "text": [
      "answer: 276000, correct: 276000 correctness: True\n",
      "answer: 15.4, correct: 16 correctness: False\n",
      "answer: 91, correct: 91 correctness: True\n",
      "answer: 7.5, correct: 60 correctness: False\n"
     ]
    },
    {
     "name": "stderr",
     "output_type": "stream",
     "text": [
      "Evaluating en:  62%|██████▏   | 39/63 [02:34<01:30,  3.76s/it]"
     ]
    },
    {
     "name": "stdout",
     "output_type": "stream",
     "text": [
      "answer: 70, correct: 70 correctness: True\n",
      "answer: 15, correct: 15 correctness: True\n",
      "answer: 705, correct: 175 correctness: False\n",
      "answer: 16.8, correct: 16 correctness: False\n"
     ]
    },
    {
     "name": "stderr",
     "output_type": "stream",
     "text": [
      "Evaluating en:  63%|██████▎   | 40/63 [02:38<01:24,  3.69s/it]"
     ]
    },
    {
     "name": "stdout",
     "output_type": "stream",
     "text": [
      "answer: 20, correct: 20 correctness: True\n",
      "answer: 31, correct: 31 correctness: True\n",
      "answer: 100, correct: 100 correctness: True\n",
      "answer: 2600, correct: 2600 correctness: True\n"
     ]
    },
    {
     "name": "stderr",
     "output_type": "stream",
     "text": [
      "Evaluating en:  65%|██████▌   | 41/63 [02:40<01:14,  3.39s/it]"
     ]
    },
    {
     "name": "stdout",
     "output_type": "stream",
     "text": [
      "answer: 60, correct: 60 correctness: True\n",
      "answer: 260, correct: 100 correctness: False\n",
      "answer: 48, correct: 14 correctness: False\n",
      "answer: 12, correct: 12 correctness: True\n"
     ]
    },
    {
     "name": "stderr",
     "output_type": "stream",
     "text": [
      "Evaluating en:  67%|██████▋   | 42/63 [02:44<01:10,  3.35s/it]"
     ]
    },
    {
     "name": "stdout",
     "output_type": "stream",
     "text": [
      "answer: 114200, correct: 114200 correctness: True\n",
      "answer: 64, correct: 64 correctness: True\n",
      "answer: 255, correct: 255 correctness: True\n",
      "answer: 36, correct: 20 correctness: False\n"
     ]
    },
    {
     "name": "stderr",
     "output_type": "stream",
     "text": [
      "Evaluating en:  68%|██████▊   | 43/63 [02:48<01:11,  3.58s/it]"
     ]
    },
    {
     "name": "stdout",
     "output_type": "stream",
     "text": [
      "answer: 8.75, correct: 5 correctness: False\n",
      "answer: 20, correct: 20 correctness: True\n",
      "answer: 720, correct: 720 correctness: True\n",
      "answer: 50, correct: 10 correctness: False\n"
     ]
    },
    {
     "name": "stderr",
     "output_type": "stream",
     "text": [
      "Evaluating en:  70%|██████▉   | 44/63 [02:52<01:11,  3.76s/it]"
     ]
    },
    {
     "name": "stdout",
     "output_type": "stream",
     "text": [
      "answer: 1900000, correct: 25000 correctness: False\n",
      "answer: 18, correct: 23 correctness: False\n",
      "answer: 348, correct: 348 correctness: True\n",
      "answer: 8, correct: 24 correctness: False\n"
     ]
    },
    {
     "name": "stderr",
     "output_type": "stream",
     "text": [
      "Evaluating en:  71%|███████▏  | 45/63 [02:57<01:15,  4.21s/it]"
     ]
    },
    {
     "name": "stdout",
     "output_type": "stream",
     "text": [
      "answer: Empty Answer, correct: 6 correctness: False\n",
      "answer: Empty Answer, correct: 163 correctness: False\n",
      "answer: 17, correct: 17 correctness: True\n",
      "answer: 187, correct: 160 correctness: False\n"
     ]
    },
    {
     "name": "stderr",
     "output_type": "stream",
     "text": [
      "Evaluating en:  73%|███████▎  | 46/63 [03:02<01:15,  4.42s/it]"
     ]
    },
    {
     "name": "stdout",
     "output_type": "stream",
     "text": [
      "answer: 21, correct: 21 correctness: True\n",
      "answer: 6, correct: 6 correctness: True\n",
      "answer: 60, correct: 60 correctness: True\n",
      "answer: 694, correct: 694 correctness: True\n"
     ]
    },
    {
     "name": "stderr",
     "output_type": "stream",
     "text": [
      "Evaluating en:  75%|███████▍  | 47/63 [03:06<01:09,  4.32s/it]"
     ]
    },
    {
     "name": "stdout",
     "output_type": "stream",
     "text": [
      "answer: /number, correct: 3 correctness: False\n",
      "answer: Empty Answer, correct: 16 correctness: False\n",
      "answer: 70000, correct: 70000 correctness: True\n",
      "answer: 860, correct: 860 correctness: True\n"
     ]
    },
    {
     "name": "stderr",
     "output_type": "stream",
     "text": [
      "Evaluating en:  76%|███████▌  | 48/63 [03:10<01:02,  4.18s/it]"
     ]
    },
    {
     "name": "stdout",
     "output_type": "stream",
     "text": [
      "answer: 80, correct: 80 correctness: True\n",
      "answer: Empty Answer, correct: 360 correctness: False\n",
      "answer: 10, correct: 10 correctness: True\n",
      "answer: 9, correct: 9 correctness: True\n"
     ]
    },
    {
     "name": "stderr",
     "output_type": "stream",
     "text": [
      "Evaluating en:  78%|███████▊  | 49/63 [03:13<00:55,  3.97s/it]"
     ]
    },
    {
     "name": "stdout",
     "output_type": "stream",
     "text": [
      "answer: 75, correct: 75 correctness: True\n",
      "answer: 10, correct: 10 correctness: True\n",
      "answer: 45, correct: 45 correctness: True\n",
      "answer: 105, correct: 105 correctness: True\n"
     ]
    },
    {
     "name": "stderr",
     "output_type": "stream",
     "text": [
      "Evaluating en:  79%|███████▉  | 50/63 [03:18<00:53,  4.12s/it]"
     ]
    },
    {
     "name": "stdout",
     "output_type": "stream",
     "text": [
      "answer: 5600, correct: 5600 correctness: True\n",
      "answer: 9, correct: 9 correctness: True\n",
      "answer: 20, correct: 20 correctness: True\n",
      "answer: 16, correct: 16 correctness: True\n"
     ]
    },
    {
     "name": "stderr",
     "output_type": "stream",
     "text": [
      "Evaluating en:  81%|████████  | 51/63 [03:20<00:42,  3.52s/it]"
     ]
    },
    {
     "name": "stdout",
     "output_type": "stream",
     "text": [
      "answer: 12, correct: 12 correctness: True\n",
      "answer: 23, correct: 23 correctness: True\n",
      "answer: 40, correct: 40 correctness: True\n",
      "answer: 187, correct: 187 correctness: True\n"
     ]
    },
    {
     "name": "stderr",
     "output_type": "stream",
     "text": [
      "Evaluating en:  83%|████████▎ | 52/63 [03:25<00:44,  4.06s/it]"
     ]
    },
    {
     "name": "stdout",
     "output_type": "stream",
     "text": [
      "answer: Empty Answer, correct: 5 correctness: False\n",
      "answer: 200, correct: 48 correctness: False\n",
      "answer: 70, correct: 70 correctness: True\n",
      "answer: 260, correct: 260 correctness: True\n"
     ]
    },
    {
     "name": "stderr",
     "output_type": "stream",
     "text": [
      "Evaluating en:  84%|████████▍ | 53/63 [03:29<00:38,  3.85s/it]"
     ]
    },
    {
     "name": "stdout",
     "output_type": "stream",
     "text": [
      "answer: 3, correct: 6 correctness: False\n",
      "answer: 29, correct: 51 correctness: False\n",
      "answer: 250, correct: 250 correctness: True\n",
      "answer: 800, correct: 200 correctness: False\n"
     ]
    },
    {
     "name": "stderr",
     "output_type": "stream",
     "text": [
      "Evaluating en:  86%|████████▌ | 54/63 [03:31<00:30,  3.41s/it]"
     ]
    },
    {
     "name": "stdout",
     "output_type": "stream",
     "text": [
      "answer: 30, correct: 30 correctness: True\n",
      "answer: 180, correct: 90 correctness: False\n",
      "answer: 17, correct: 15 correctness: False\n",
      "answer: 36, correct: 33 correctness: False\n"
     ]
    },
    {
     "name": "stderr",
     "output_type": "stream",
     "text": [
      "Evaluating en:  87%|████████▋ | 55/63 [03:35<00:27,  3.44s/it]"
     ]
    },
    {
     "name": "stdout",
     "output_type": "stream",
     "text": [
      "answer: 70, correct: 70 correctness: True\n",
      "answer: 21, correct: 21 correctness: True\n",
      "answer: 36, correct: 36 correctness: True\n",
      "answer: 6, correct: 6 correctness: True\n"
     ]
    },
    {
     "name": "stderr",
     "output_type": "stream",
     "text": [
      "Evaluating en:  89%|████████▉ | 56/63 [03:37<00:22,  3.24s/it]"
     ]
    },
    {
     "name": "stdout",
     "output_type": "stream",
     "text": [
      "answer: 120, correct: 120 correctness: True\n",
      "answer: 4, correct: 4 correctness: True\n",
      "answer: 15, correct: 15 correctness: True\n",
      "answer: 24, correct: 24 correctness: True\n"
     ]
    },
    {
     "name": "stderr",
     "output_type": "stream",
     "text": [
      "Evaluating en:  90%|█████████ | 57/63 [03:41<00:19,  3.25s/it]"
     ]
    },
    {
     "name": "stdout",
     "output_type": "stream",
     "text": [
      "answer: 18, correct: 18 correctness: True\n",
      "answer: 3, correct: 3 correctness: True\n",
      "answer: 16, correct: 16 correctness: True\n",
      "answer:  \\text{Amount spent on gas} = \\$30.00 - \\$2.00 = \\$28.00 \\, correct: 28 correctness: False\n"
     ]
    },
    {
     "name": "stderr",
     "output_type": "stream",
     "text": [
      "Evaluating en:  92%|█████████▏| 58/63 [03:43<00:15,  3.11s/it]"
     ]
    },
    {
     "name": "stdout",
     "output_type": "stream",
     "text": [
      "answer: 15, correct: 15 correctness: True\n",
      "answer: 280, correct: 280 correctness: True\n",
      "answer: 220, correct: 220 correctness: True\n",
      "answer: 120, correct: 120 correctness: True\n"
     ]
    },
    {
     "name": "stderr",
     "output_type": "stream",
     "text": [
      "Evaluating en:  94%|█████████▎| 59/63 [03:48<00:14,  3.64s/it]"
     ]
    },
    {
     "name": "stdout",
     "output_type": "stream",
     "text": [
      "answer: 20000, correct: 20000 correctness: True\n",
      "answer: 798.6, correct: 9360 correctness: False\n",
      "answer: 27000, correct: 27000 correctness: True\n",
      "answer: 42, correct: 42 correctness: True\n"
     ]
    },
    {
     "name": "stderr",
     "output_type": "stream",
     "text": [
      "Evaluating en:  95%|█████████▌| 60/63 [03:53<00:12,  4.06s/it]"
     ]
    },
    {
     "name": "stdout",
     "output_type": "stream",
     "text": [
      "answer: 76, correct: 76 correctness: True\n",
      "answer: 11, correct: 44 correctness: False\n",
      "answer: 100, correct: 100 correctness: True\n",
      "answer: 27, correct: 18 correctness: False\n"
     ]
    },
    {
     "name": "stderr",
     "output_type": "stream",
     "text": [
      "Evaluating en:  97%|█████████▋| 61/63 [03:59<00:08,  4.47s/it]"
     ]
    },
    {
     "name": "stdout",
     "output_type": "stream",
     "text": [
      "answer: Empty Answer, correct: 7500 correctness: False\n",
      "answer: 7425, correct: 7425 correctness: True\n",
      "answer: 540, correct: 540 correctness: True\n",
      "answer:  42 \\times 7 = \\$294 \\, correct: 294 correctness: False\n"
     ]
    },
    {
     "name": "stderr",
     "output_type": "stream",
     "text": [
      "Evaluating en:  98%|█████████▊| 62/63 [04:02<00:04,  4.12s/it]"
     ]
    },
    {
     "name": "stdout",
     "output_type": "stream",
     "text": [
      "answer: Empty Answer, correct: 26 correctness: False\n",
      "answer: 22, correct: 22 correctness: True\n",
      "answer: 2, correct: 2 correctness: True\n",
      "answer: 2446, correct: 2 correctness: False\n"
     ]
    },
    {
     "name": "stderr",
     "output_type": "stream",
     "text": [
      "Evaluating en: 100%|██████████| 63/63 [04:04<00:00,  3.88s/it]"
     ]
    },
    {
     "name": "stdout",
     "output_type": "stream",
     "text": [
      "answer: 28, correct: 48 correctness: False\n",
      "answer: 35, correct: 35 correctness: True\n"
     ]
    },
    {
     "name": "stderr",
     "output_type": "stream",
     "text": [
      "\n",
      "Generating train split: 100%|██████████| 8/8 [00:00<00:00, 4752.75 examples/s]\n",
      "Generating test split: 100%|██████████| 250/250 [00:00<00:00, 215004.31 examples/s]\n",
      "Evaluating th:   2%|▏         | 1/63 [00:04<04:31,  4.37s/it]"
     ]
    },
    {
     "name": "stdout",
     "output_type": "stream",
     "text": [
      "answer: 20, correct: 20 correctness: True\n",
      "answer: 2750, correct: 114200 correctness: False\n",
      "answer: Empty Answer, correct: 16 correctness: False\n",
      "answer: Empty Answer, correct: 26 correctness: False\n"
     ]
    },
    {
     "name": "stderr",
     "output_type": "stream",
     "text": [
      "Evaluating th:   3%|▎         | 2/63 [00:07<03:31,  3.47s/it]"
     ]
    },
    {
     "name": "stdout",
     "output_type": "stream",
     "text": [
      "answer: 35, correct: 50 correctness: False\n",
      "answer: Empty Answer, correct: 34 correctness: False\n",
      "answer: 25, correct: 25 correctness: True\n",
      "answer: 70, correct: 70 correctness: True\n"
     ]
    },
    {
     "name": "stderr",
     "output_type": "stream",
     "text": [
      "Evaluating th:   5%|▍         | 3/63 [00:11<03:52,  3.87s/it]"
     ]
    },
    {
     "name": "stdout",
     "output_type": "stream",
     "text": [
      "answer: 29, correct: 29 correctness: True\n",
      "answer: Empty Answer, correct: 25 correctness: False\n",
      "answer: 20, correct: 20 correctness: True\n",
      "answer: Empty Answer, correct: 122 correctness: False\n"
     ]
    },
    {
     "name": "stderr",
     "output_type": "stream",
     "text": [
      "Evaluating th:   6%|▋         | 4/63 [00:16<04:05,  4.16s/it]"
     ]
    },
    {
     "name": "stdout",
     "output_type": "stream",
     "text": [
      "answer: 11,000, correct: 4000 correctness: False\n",
      "answer: 95.78, correct: 106 correctness: False\n",
      "answer: 240, correct: 240 correctness: True\n",
      "answer: 477, correct: 255 correctness: False\n"
     ]
    },
    {
     "name": "stderr",
     "output_type": "stream",
     "text": [
      "Evaluating th:   8%|▊         | 5/63 [00:19<03:39,  3.78s/it]"
     ]
    },
    {
     "name": "stdout",
     "output_type": "stream",
     "text": [
      "answer: Empty Answer, correct: 45 correctness: False\n",
      "answer: Empty Answer, correct: 17 correctness: False\n",
      "answer: 7, correct: 7 correctness: True\n",
      "answer: Empty Answer, correct: 104 correctness: False\n"
     ]
    },
    {
     "name": "stderr",
     "output_type": "stream",
     "text": [
      "Evaluating th:  10%|▉         | 6/63 [00:23<03:45,  3.96s/it]"
     ]
    },
    {
     "name": "stdout",
     "output_type": "stream",
     "text": [
      "answer: 30, correct: 23 correctness: False\n",
      "answer: 57, correct: 163 correctness: False\n",
      "answer: Empty Answer, correct: 26 correctness: False\n",
      "answer: Empty Answer, correct: 109 correctness: False\n"
     ]
    },
    {
     "name": "stderr",
     "output_type": "stream",
     "text": [
      "Evaluating th:  11%|█         | 7/63 [00:27<03:38,  3.89s/it]"
     ]
    },
    {
     "name": "stdout",
     "output_type": "stream",
     "text": [
      "answer: 28, correct: 28 correctness: True\n",
      "answer: Empty Answer, correct: 32 correctness: False\n",
      "answer: 0, correct: 88 correctness: False\n",
      "answer: 3, correct: 3 correctness: True\n"
     ]
    },
    {
     "name": "stderr",
     "output_type": "stream",
     "text": [
      "Evaluating th:  13%|█▎        | 8/63 [00:31<03:31,  3.84s/it]"
     ]
    },
    {
     "name": "stdout",
     "output_type": "stream",
     "text": [
      "answer: 250, correct: 250 correctness: True\n",
      "answer: Empty Answer, correct: 60 correctness: False\n",
      "answer: Empty Answer, correct: 225 correctness: False\n",
      "answer: 294, correct: 366 correctness: False\n"
     ]
    },
    {
     "name": "stderr",
     "output_type": "stream",
     "text": [
      "Evaluating th:  14%|█▍        | 9/63 [00:35<03:37,  4.03s/it]"
     ]
    },
    {
     "name": "stdout",
     "output_type": "stream",
     "text": [
      "answer: 50, correct: 50 correctness: True\n",
      "answer: Empty Answer, correct: 92 correctness: False\n",
      "answer: 10, correct: 10 correctness: True\n",
      "answer: Empty Answer, correct: 14 correctness: False\n"
     ]
    },
    {
     "name": "stderr",
     "output_type": "stream",
     "text": [
      "Evaluating th:  16%|█▌        | 10/63 [00:38<03:18,  3.74s/it]"
     ]
    },
    {
     "name": "stdout",
     "output_type": "stream",
     "text": [
      "answer: 26, correct: 31 correctness: False\n",
      "answer: Empty Answer, correct: 3 correctness: False\n",
      "answer: 21, correct: 21 correctness: True\n",
      "answer: Empty Answer, correct: 95 correctness: False\n"
     ]
    },
    {
     "name": "stderr",
     "output_type": "stream",
     "text": [
      "Evaluating th:  17%|█▋        | 11/63 [00:41<02:53,  3.33s/it]"
     ]
    },
    {
     "name": "stdout",
     "output_type": "stream",
     "text": [
      "answer: 70, correct: 70 correctness: True\n",
      "answer: 84, correct: 7 correctness: False\n",
      "answer: Empty Answer, correct: 6277 correctness: False\n",
      "answer: Empty Answer, correct: 2125 correctness: False\n"
     ]
    },
    {
     "name": "stderr",
     "output_type": "stream",
     "text": [
      "Evaluating th:  19%|█▉        | 12/63 [00:44<02:57,  3.48s/it]"
     ]
    },
    {
     "name": "stdout",
     "output_type": "stream",
     "text": [
      "answer: Empty Answer, correct: 10000 correctness: False\n",
      "answer: 120, correct: 120 correctness: True\n",
      "answer: Empty Answer, correct: 104 correctness: False\n",
      "answer: 125, correct: 64 correctness: False\n"
     ]
    },
    {
     "name": "stderr",
     "output_type": "stream",
     "text": [
      "Evaluating th:  21%|██        | 13/63 [00:49<03:07,  3.76s/it]"
     ]
    },
    {
     "name": "stdout",
     "output_type": "stream",
     "text": [
      "answer: Empty Answer, correct: 6 correctness: False\n",
      "answer: 48, correct: 16 correctness: False\n",
      "answer: Empty Answer, correct: 145 correctness: False\n",
      "answer: 380, correct: 880 correctness: False\n"
     ]
    },
    {
     "name": "stderr",
     "output_type": "stream",
     "text": [
      "Evaluating th:  22%|██▏       | 14/63 [00:53<03:07,  3.82s/it]"
     ]
    },
    {
     "name": "stdout",
     "output_type": "stream",
     "text": [
      "answer: 700, correct: 140 correctness: False\n",
      "answer: Empty Answer, correct: 18 correctness: False\n",
      "answer: Empty Answer, correct: 8 correctness: False\n",
      "answer: Empty Answer, correct: 40 correctness: False\n"
     ]
    },
    {
     "name": "stderr",
     "output_type": "stream",
     "text": [
      "Evaluating th:  24%|██▍       | 15/63 [00:55<02:44,  3.42s/it]"
     ]
    },
    {
     "name": "stdout",
     "output_type": "stream",
     "text": [
      "answer: 27, correct: 31 correctness: False\n",
      "answer: 18, correct: 18 correctness: True\n",
      "answer: Empty Answer, correct: 72 correctness: False\n",
      "answer: 12, correct: 10 correctness: False\n"
     ]
    },
    {
     "name": "stderr",
     "output_type": "stream",
     "text": [
      "Evaluating th:  25%|██▌       | 16/63 [00:58<02:37,  3.35s/it]"
     ]
    },
    {
     "name": "stdout",
     "output_type": "stream",
     "text": [
      "answer: 5, correct: 9 correctness: False\n",
      "answer: Empty Answer, correct: 90 correctness: False\n",
      "answer: Empty Answer, correct: 1430 correctness: False\n",
      "answer: Empty Answer, correct: 16 correctness: False\n"
     ]
    },
    {
     "name": "stderr",
     "output_type": "stream",
     "text": [
      "Evaluating th:  27%|██▋       | 17/63 [01:02<02:38,  3.45s/it]"
     ]
    },
    {
     "name": "stdout",
     "output_type": "stream",
     "text": [
      "answer: 0, correct: 90 correctness: False\n",
      "answer: 12, correct: 60 correctness: False\n",
      "answer: 54, correct: 54 correctness: True\n",
      "answer: 25, correct: 250 correctness: False\n"
     ]
    },
    {
     "name": "stderr",
     "output_type": "stream",
     "text": [
      "Evaluating th:  29%|██▊       | 18/63 [01:06<02:44,  3.65s/it]"
     ]
    },
    {
     "name": "stdout",
     "output_type": "stream",
     "text": [
      "answer: Empty Answer, correct: 16 correctness: False\n",
      "answer: Empty Answer, correct: 82 correctness: False\n",
      "answer: 13, correct: 13 correctness: True\n",
      "answer: Empty Answer, correct: 320 correctness: False\n"
     ]
    },
    {
     "name": "stderr",
     "output_type": "stream",
     "text": [
      "Evaluating th:  30%|███       | 19/63 [01:10<02:44,  3.74s/it]"
     ]
    },
    {
     "name": "stdout",
     "output_type": "stream",
     "text": [
      "answer: 40, correct: 58 correctness: False\n",
      "answer: 5, correct: 15 correctness: False\n",
      "answer: 12, correct: 36 correctness: False\n",
      "answer: Empty Answer, correct: 40 correctness: False\n"
     ]
    },
    {
     "name": "stderr",
     "output_type": "stream",
     "text": [
      "Evaluating th:  32%|███▏      | 20/63 [01:14<02:39,  3.70s/it]"
     ]
    },
    {
     "name": "stdout",
     "output_type": "stream",
     "text": [
      "answer: 360, correct: 360 correctness: True\n",
      "answer: 280, correct: 280 correctness: True\n",
      "answer: Empty Answer, correct: 4 correctness: False\n",
      "answer: Empty Answer, correct: 98 correctness: False\n"
     ]
    },
    {
     "name": "stderr",
     "output_type": "stream",
     "text": [
      "Evaluating th:  33%|███▎      | 21/63 [01:17<02:33,  3.65s/it]"
     ]
    },
    {
     "name": "stdout",
     "output_type": "stream",
     "text": [
      "answer: 8800, correct: 8000 correctness: False\n",
      "answer: 720, correct: 720 correctness: True\n",
      "answer: 200, correct: 10 correctness: False\n",
      "answer: Empty Answer, correct: 24 correctness: False\n"
     ]
    },
    {
     "name": "stderr",
     "output_type": "stream",
     "text": [
      "Evaluating th:  35%|███▍      | 22/63 [01:22<02:39,  3.89s/it]"
     ]
    },
    {
     "name": "stdout",
     "output_type": "stream",
     "text": [
      "answer: Empty Answer, correct: 80 correctness: False\n",
      "answer: Empty Answer, correct: 18 correctness: False\n",
      "answer: Empty Answer, correct: 15 correctness: False\n",
      "answer: Empty Answer, correct: 1210 correctness: False\n"
     ]
    },
    {
     "name": "stderr",
     "output_type": "stream",
     "text": [
      "Evaluating th:  37%|███▋      | 23/63 [01:25<02:24,  3.62s/it]"
     ]
    },
    {
     "name": "stdout",
     "output_type": "stream",
     "text": [
      "answer: Empty Answer, correct: 20 correctness: False\n",
      "answer: 32.33, correct: 32 correctness: False\n",
      "answer: Empty Answer, correct: 70 correctness: False\n",
      "answer: 230, correct: 230 correctness: True\n"
     ]
    },
    {
     "name": "stderr",
     "output_type": "stream",
     "text": [
      "Evaluating th:  38%|███▊      | 24/63 [01:29<02:25,  3.73s/it]"
     ]
    },
    {
     "name": "stdout",
     "output_type": "stream",
     "text": [
      "answer: 860, correct: 860 correctness: True\n",
      "answer: Empty Answer, correct: 348 correctness: False\n",
      "answer: Empty Answer, correct: 100 correctness: False\n",
      "answer: 2, correct: 5 correctness: False\n"
     ]
    },
    {
     "name": "stderr",
     "output_type": "stream",
     "text": [
      "Evaluating th:  40%|███▉      | 25/63 [01:31<02:10,  3.43s/it]"
     ]
    },
    {
     "name": "stdout",
     "output_type": "stream",
     "text": [
      "answer: Empty Answer, correct: 13 correctness: False\n",
      "answer: Empty Answer, correct: 18000 correctness: False\n",
      "answer: Empty Answer, correct: 21 correctness: False\n",
      "answer: Empty Answer, correct: 20 correctness: False\n"
     ]
    },
    {
     "name": "stderr",
     "output_type": "stream",
     "text": [
      "Evaluating th:  41%|████▏     | 26/63 [01:36<02:15,  3.65s/it]"
     ]
    },
    {
     "name": "stdout",
     "output_type": "stream",
     "text": [
      "answer: Empty Answer, correct: 8 correctness: False\n",
      "answer: Empty Answer, correct: 21 correctness: False\n",
      "answer: Empty Answer, correct: 60 correctness: False\n",
      "answer: Empty Answer, correct: 15 correctness: False\n"
     ]
    },
    {
     "name": "stderr",
     "output_type": "stream",
     "text": [
      "Evaluating th:  43%|████▎     | 27/63 [01:40<02:22,  3.97s/it]"
     ]
    },
    {
     "name": "stdout",
     "output_type": "stream",
     "text": [
      "answer: 180, correct: 180 correctness: True\n",
      "answer: Empty Answer, correct: 400 correctness: False\n",
      "answer: Empty Answer, correct: 940 correctness: False\n",
      "answer: 16, correct: 7 correctness: False\n"
     ]
    },
    {
     "name": "stderr",
     "output_type": "stream",
     "text": [
      "Evaluating th:  44%|████▍     | 28/63 [01:43<02:08,  3.68s/it]"
     ]
    },
    {
     "name": "stdout",
     "output_type": "stream",
     "text": [
      "answer: 342,350, correct: 25000 correctness: False\n",
      "answer: คะแนนที่ผู้แพ้ได้รับ, correct: 20 correctness: False\n",
      "answer: Empty Answer, correct: 15 correctness: False\n",
      "answer: 2, correct: 14 correctness: False\n"
     ]
    },
    {
     "name": "stderr",
     "output_type": "stream",
     "text": [
      "Evaluating th:  46%|████▌     | 29/63 [01:46<01:56,  3.43s/it]"
     ]
    },
    {
     "name": "stdout",
     "output_type": "stream",
     "text": [
      "answer: 170, correct: 280 correctness: False\n",
      "answer: Empty Answer, correct: 17 correctness: False\n",
      "answer: 40, correct: 80 correctness: False\n",
      "answer: 140, correct: 140 correctness: True\n"
     ]
    },
    {
     "name": "stderr",
     "output_type": "stream",
     "text": [
      "Evaluating th:  48%|████▊     | 30/63 [01:51<02:02,  3.72s/it]"
     ]
    },
    {
     "name": "stdout",
     "output_type": "stream",
     "text": [
      "answer: 4, correct: 3 correctness: False\n",
      "answer: Empty Answer, correct: 83 correctness: False\n",
      "answer: 35, correct: 25 correctness: False\n",
      "answer:  \\text{ยอดคงเหลือ} = 2444.44 - 1980 \\, correct: 220 correctness: False\n"
     ]
    },
    {
     "name": "stderr",
     "output_type": "stream",
     "text": [
      "Evaluating th:  49%|████▉     | 31/63 [01:54<01:52,  3.52s/it]"
     ]
    },
    {
     "name": "stdout",
     "output_type": "stream",
     "text": [
      "answer: 360, correct: 360 correctness: True\n",
      "answer: 3, correct: 3 correctness: True\n",
      "answer: Empty Answer, correct: 48 correctness: False\n",
      "answer: 9, correct: 26 correctness: False\n"
     ]
    },
    {
     "name": "stderr",
     "output_type": "stream",
     "text": [
      "Evaluating th:  51%|█████     | 32/63 [01:57<01:52,  3.62s/it]"
     ]
    },
    {
     "name": "stdout",
     "output_type": "stream",
     "text": [
      "answer: Empty Answer, correct: 600 correctness: False\n",
      "answer: 729, correct: 5 correctness: False\n",
      "answer: 11, correct: 15 correctness: False\n",
      "answer: 80, correct: 50 correctness: False\n"
     ]
    },
    {
     "name": "stderr",
     "output_type": "stream",
     "text": [
      "Evaluating th:  52%|█████▏    | 33/63 [02:01<01:44,  3.49s/it]"
     ]
    },
    {
     "name": "stdout",
     "output_type": "stream",
     "text": [
      "answer: Empty Answer, correct: 10 correctness: False\n",
      "answer: Empty Answer, correct: 500 correctness: False\n",
      "answer: 2600, correct: 2600 correctness: True\n",
      "answer: Empty Answer, correct: 60 correctness: False\n"
     ]
    },
    {
     "name": "stderr",
     "output_type": "stream",
     "text": [
      "Evaluating th:  54%|█████▍    | 34/63 [02:04<01:37,  3.36s/it]"
     ]
    },
    {
     "name": "stdout",
     "output_type": "stream",
     "text": [
      "answer: 121, correct: 44 correctness: False\n",
      "answer: 64, correct: 100 correctness: False\n",
      "answer: Empty Answer, correct: 5 correctness: False\n",
      "answer: 2, correct: 10 correctness: False\n"
     ]
    },
    {
     "name": "stderr",
     "output_type": "stream",
     "text": [
      "Evaluating th:  56%|█████▌    | 35/63 [02:07<01:34,  3.38s/it]"
     ]
    },
    {
     "name": "stdout",
     "output_type": "stream",
     "text": [
      "answer: 75, correct: 7500 correctness: False\n",
      "answer: 1, correct: 1 correctness: True\n",
      "answer: Empty Answer, correct: 300 correctness: False\n",
      "answer: 0.08, correct: 3 correctness: False\n"
     ]
    },
    {
     "name": "stderr",
     "output_type": "stream",
     "text": [
      "Evaluating th:  57%|█████▋    | 36/63 [02:10<01:26,  3.20s/it]"
     ]
    },
    {
     "name": "stdout",
     "output_type": "stream",
     "text": [
      "answer: Empty Answer, correct: 6 correctness: False\n",
      "answer: Empty Answer, correct: 24 correctness: False\n",
      "answer: Empty Answer, correct: 27000 correctness: False\n",
      "answer: Empty Answer, correct: 4 correctness: False\n"
     ]
    },
    {
     "name": "stderr",
     "output_type": "stream",
     "text": [
      "Evaluating th:  59%|█████▊    | 37/63 [02:13<01:25,  3.27s/it]"
     ]
    },
    {
     "name": "stdout",
     "output_type": "stream",
     "text": [
      "answer: Empty Answer, correct: 42 correctness: False\n",
      "answer: 48, correct: 12 correctness: False\n",
      "answer: 62.5, correct: 150 correctness: False\n",
      "answer: 243, correct: 243 correctness: True\n"
     ]
    },
    {
     "name": "stderr",
     "output_type": "stream",
     "text": [
      "Evaluating th:  60%|██████    | 38/63 [02:17<01:23,  3.34s/it]"
     ]
    },
    {
     "name": "stdout",
     "output_type": "stream",
     "text": [
      "answer: 140, correct: 140 correctness: True\n",
      "answer: Empty Answer, correct: 120 correctness: False\n",
      "answer: Jewelry, correct: 125 correctness: False\n",
      "answer: 6. 5, correct: 45 correctness: False\n"
     ]
    },
    {
     "name": "stderr",
     "output_type": "stream",
     "text": [
      "Evaluating th:  62%|██████▏   | 39/63 [02:20<01:15,  3.13s/it]"
     ]
    },
    {
     "name": "stdout",
     "output_type": "stream",
     "text": [
      "answer: 25,000, correct: 20000 correctness: False\n",
      "answer: Empty Answer, correct: 5 correctness: False\n",
      "answer: Empty Answer, correct: 90 correctness: False\n",
      "answer: Empty Answer, correct: 91 correctness: False\n"
     ]
    },
    {
     "name": "stderr",
     "output_type": "stream",
     "text": [
      "Evaluating th:  63%|██████▎   | 40/63 [02:24<01:18,  3.40s/it]"
     ]
    },
    {
     "name": "stdout",
     "output_type": "stream",
     "text": [
      "answer: Empty Answer, correct: 12 correctness: False\n",
      "answer: Empty Answer, correct: 20 correctness: False\n",
      "answer: Empty Answer, correct: 50 correctness: False\n",
      "answer: 8, correct: 15 correctness: False\n"
     ]
    },
    {
     "name": "stderr",
     "output_type": "stream",
     "text": [
      "Evaluating th:  65%|██████▌   | 41/63 [02:27<01:18,  3.55s/it]"
     ]
    },
    {
     "name": "stdout",
     "output_type": "stream",
     "text": [
      "answer: 3528, correct: 294 correctness: False\n",
      "answer: 36, correct: 36 correctness: True\n",
      "answer: Empty Answer, correct: 5 correctness: False\n",
      "answer: Empty Answer, correct: 350 correctness: False\n"
     ]
    },
    {
     "name": "stderr",
     "output_type": "stream",
     "text": [
      "Evaluating th:  67%|██████▋   | 42/63 [02:31<01:13,  3.50s/it]"
     ]
    },
    {
     "name": "stdout",
     "output_type": "stream",
     "text": [
      "answer: 55, correct: 55 correctness: True\n",
      "answer: 185000, correct: 57500 correctness: False\n",
      "answer: 49, correct: 98 correctness: False\n",
      "answer: 76, correct: 76 correctness: True\n"
     ]
    },
    {
     "name": "stderr",
     "output_type": "stream",
     "text": [
      "Evaluating th:  68%|██████▊   | 43/63 [02:35<01:13,  3.66s/it]"
     ]
    },
    {
     "name": "stdout",
     "output_type": "stream",
     "text": [
      "answer: 23760, correct: 9360 correctness: False\n",
      "answer: 69.57%, correct: 33 correctness: False\n",
      "answer: Empty Answer, correct: 23 correctness: False\n",
      "answer: Empty Answer, correct: 95200 correctness: False\n"
     ]
    },
    {
     "name": "stderr",
     "output_type": "stream",
     "text": [
      "Evaluating th:  70%|██████▉   | 44/63 [02:39<01:14,  3.91s/it]"
     ]
    },
    {
     "name": "stdout",
     "output_type": "stream",
     "text": [
      "answer: 27, correct: 27 correctness: True\n",
      "answer: 1400, correct: 1400 correctness: True\n",
      "answer: 221, correct: 221 correctness: True\n",
      "answer: Empty Answer, correct: 45 correctness: False\n"
     ]
    },
    {
     "name": "stderr",
     "output_type": "stream",
     "text": [
      "Evaluating th:  71%|███████▏  | 45/63 [02:44<01:13,  4.06s/it]"
     ]
    },
    {
     "name": "stdout",
     "output_type": "stream",
     "text": [
      "answer: 0.4, correct: 16 correctness: False\n",
      "answer: More than $16, correct: 18 correctness: False\n",
      "answer: Empty Answer, correct: 24 correctness: False\n",
      "answer: 183, correct: 75 correctness: False\n"
     ]
    },
    {
     "name": "stderr",
     "output_type": "stream",
     "text": [
      "Evaluating th:  73%|███████▎  | 46/63 [02:48<01:07,  3.96s/it]"
     ]
    },
    {
     "name": "stdout",
     "output_type": "stream",
     "text": [
      "answer: 14, correct: 9 correctness: False\n",
      "answer: Empty Answer, correct: 2 correctness: False\n",
      "answer: Empty Answer, correct: 15 correctness: False\n",
      "answer: Empty Answer, correct: 4 correctness: False\n"
     ]
    },
    {
     "name": "stderr",
     "output_type": "stream",
     "text": [
      "Evaluating th:  75%|███████▍  | 47/63 [02:52<01:06,  4.13s/it]"
     ]
    },
    {
     "name": "stdout",
     "output_type": "stream",
     "text": [
      "answer: 10, correct: 10 correctness: True\n",
      "answer:  4 = \\frac{\\text{ระยะที่เหลือ}}{2 + x} \\, correct: 6 correctness: False\n",
      "answer: 120, correct: 120 correctness: True\n",
      "answer: 228,000, correct: 276000 correctness: False\n"
     ]
    },
    {
     "name": "stderr",
     "output_type": "stream",
     "text": [
      "Evaluating th:  76%|███████▌  | 48/63 [02:55<00:58,  3.91s/it]"
     ]
    },
    {
     "name": "stdout",
     "output_type": "stream",
     "text": [
      "answer: 16, correct: 16 correctness: True\n",
      "answer: Empty Answer, correct: 160 correctness: False\n",
      "answer: 8, correct: 8 correctness: True\n",
      "answer: 0, correct: 20 correctness: False\n"
     ]
    },
    {
     "name": "stderr",
     "output_type": "stream",
     "text": [
      "Evaluating th:  78%|███████▊  | 49/63 [02:58<00:50,  3.61s/it]"
     ]
    },
    {
     "name": "stdout",
     "output_type": "stream",
     "text": [
      "answer: 57, correct: 57 correctness: True\n",
      "answer: Empty Answer, correct: 1596 correctness: False\n",
      "answer: Empty Answer, correct: 44 correctness: False\n",
      "answer: Empty Answer, correct: 2 correctness: False\n"
     ]
    },
    {
     "name": "stderr",
     "output_type": "stream",
     "text": [
      "Evaluating th:  79%|███████▉  | 50/63 [03:02<00:45,  3.52s/it]"
     ]
    },
    {
     "name": "stdout",
     "output_type": "stream",
     "text": [
      "answer: 35, correct: 5 correctness: False\n",
      "answer: 272, correct: 272 correctness: True\n",
      "answer: 22, correct: 22 correctness: True\n",
      "answer: 25, correct: 50 correctness: False\n"
     ]
    },
    {
     "name": "stderr",
     "output_type": "stream",
     "text": [
      "Evaluating th:  81%|████████  | 51/63 [03:05<00:41,  3.42s/it]"
     ]
    },
    {
     "name": "stdout",
     "output_type": "stream",
     "text": [
      "answer: 187, correct: 187 correctness: True\n",
      "answer: 300, correct: 75 correctness: False\n",
      "answer: 430.5, correct: 623 correctness: False\n",
      "answer: 20, correct: 48 correctness: False\n"
     ]
    },
    {
     "name": "stderr",
     "output_type": "stream",
     "text": [
      "Evaluating th:  83%|████████▎ | 52/63 [03:08<00:37,  3.37s/it]"
     ]
    },
    {
     "name": "stdout",
     "output_type": "stream",
     "text": [
      "answer: 200, correct: 300 correctness: False\n",
      "answer: 1245, correct: 7425 correctness: False\n",
      "answer: 12, correct: 9 correctness: False\n",
      "answer: 5, correct: 40 correctness: False\n"
     ]
    },
    {
     "name": "stderr",
     "output_type": "stream",
     "text": [
      "Evaluating th:  84%|████████▍ | 53/63 [03:13<00:37,  3.76s/it]"
     ]
    },
    {
     "name": "stdout",
     "output_type": "stream",
     "text": [
      "answer:  \\frac{2}{3} \\times 9 = 6 \\, correct: 6 correctness: False\n",
      "answer: Empty Answer, correct: 30 correctness: False\n",
      "answer: Empty Answer, correct: 8 correctness: False\n",
      "answer: Empty Answer, correct: 12 correctness: False\n"
     ]
    },
    {
     "name": "stderr",
     "output_type": "stream",
     "text": [
      "Evaluating th:  86%|████████▌ | 54/63 [03:16<00:31,  3.53s/it]"
     ]
    },
    {
     "name": "stdout",
     "output_type": "stream",
     "text": [
      "answer: Empty Answer, correct: 35 correctness: False\n",
      "answer: Empty Answer, correct: 160 correctness: False\n",
      "answer: Empty Answer, correct: 51 correctness: False\n",
      "answer: Empty Answer, correct: 48 correctness: False\n"
     ]
    },
    {
     "name": "stderr",
     "output_type": "stream",
     "text": [
      "Evaluating th:  87%|████████▋ | 55/63 [03:19<00:28,  3.59s/it]"
     ]
    },
    {
     "name": "stdout",
     "output_type": "stream",
     "text": [
      "answer: Final Answer: 15, correct: 10 correctness: False\n",
      "answer: Empty Answer, correct: 28 correctness: False\n",
      "answer: Empty Answer, correct: 4 correctness: False\n",
      "answer: 130, correct: 130 correctness: True\n"
     ]
    },
    {
     "name": "stderr",
     "output_type": "stream",
     "text": [
      "Evaluating th:  89%|████████▉ | 56/63 [03:24<00:26,  3.76s/it]"
     ]
    },
    {
     "name": "stdout",
     "output_type": "stream",
     "text": [
      "answer: 78, correct: 68 correctness: False\n",
      "answer: 4, correct: 4 correctness: True\n",
      "answer: 30, correct: 30 correctness: True\n",
      "answer: Empty Answer, correct: 800 correctness: False\n"
     ]
    },
    {
     "name": "stderr",
     "output_type": "stream",
     "text": [
      "Evaluating th:  90%|█████████ | 57/63 [03:27<00:22,  3.72s/it]"
     ]
    },
    {
     "name": "stdout",
     "output_type": "stream",
     "text": [
      "answer: 8%, correct: 60 correctness: False\n",
      "answer: 460, correct: 460 correctness: True\n",
      "answer: Empty Answer, correct: 34 correctness: False\n",
      "answer: 200, correct: 200 correctness: True\n"
     ]
    },
    {
     "name": "stderr",
     "output_type": "stream",
     "text": [
      "Evaluating th:  92%|█████████▏| 58/63 [03:30<00:17,  3.46s/it]"
     ]
    },
    {
     "name": "stdout",
     "output_type": "stream",
     "text": [
      "answer: 2, correct: 6 correctness: False\n",
      "answer: Final Answer: 180, correct: 540 correctness: False\n",
      "answer: Empty Answer, correct: 40 correctness: False\n",
      "answer: 794, correct: 694 correctness: False\n"
     ]
    },
    {
     "name": "stderr",
     "output_type": "stream",
     "text": [
      "Evaluating th:  94%|█████████▎| 59/63 [03:33<00:13,  3.33s/it]"
     ]
    },
    {
     "name": "stdout",
     "output_type": "stream",
     "text": [
      "answer: Empty Answer, correct: 75 correctness: False\n",
      "answer: Empty Answer, correct: 2 correctness: False\n",
      "answer: 170,000, correct: 70000 correctness: False\n",
      "answer: 260, correct: 260 correctness: True\n"
     ]
    },
    {
     "name": "stderr",
     "output_type": "stream",
     "text": [
      "Evaluating th:  95%|█████████▌| 60/63 [03:37<00:10,  3.60s/it]"
     ]
    },
    {
     "name": "stdout",
     "output_type": "stream",
     "text": [
      "answer: Empty Answer, correct: 6 correctness: False\n",
      "answer: Empty Answer, correct: 105 correctness: False\n",
      "answer: Empty Answer, correct: 5600 correctness: False\n",
      "answer: 695, correct: 595 correctness: False\n"
     ]
    },
    {
     "name": "stderr",
     "output_type": "stream",
     "text": [
      "Evaluating th:  97%|█████████▋| 61/63 [03:40<00:06,  3.44s/it]"
     ]
    },
    {
     "name": "stdout",
     "output_type": "stream",
     "text": [
      "answer: Empty Answer, correct: 5 correctness: False\n",
      "answer: Empty Answer, correct: 77 correctness: False\n",
      "answer: Empty Answer, correct: 100 correctness: False\n",
      "answer: Empty Answer, correct: 30 correctness: False\n"
     ]
    },
    {
     "name": "stderr",
     "output_type": "stream",
     "text": [
      "Evaluating th:  98%|█████████▊| 62/63 [03:44<00:03,  3.57s/it]"
     ]
    },
    {
     "name": "stdout",
     "output_type": "stream",
     "text": [
      "answer: Empty Answer, correct: 36 correctness: False\n",
      "answer: Empty Answer, correct: 48 correctness: False\n",
      "answer: 3, correct: 70 correctness: False\n",
      "answer: Empty Answer, correct: 5 correctness: False\n"
     ]
    },
    {
     "name": "stderr",
     "output_type": "stream",
     "text": [
      "Evaluating th: 100%|██████████| 63/63 [03:47<00:00,  3.62s/it]"
     ]
    },
    {
     "name": "stdout",
     "output_type": "stream",
     "text": [
      "answer: 30, correct: 30 correctness: True\n",
      "answer: 165, correct: 175 correctness: False\n"
     ]
    },
    {
     "name": "stderr",
     "output_type": "stream",
     "text": [
      "\n"
     ]
    },
    {
     "data": {
      "text/plain": [
       "{'en': {'accuracy': 0.6190476190476191},\n",
       " 'th': {'accuracy': 0.21031746031746032}}"
      ]
     },
     "execution_count": 104,
     "metadata": {},
     "output_type": "execute_result"
    }
   ],
   "source": [
    "mgsm.evaluate(qwen_model,['en', 'th'], batch_size=batch_size, logging=True)"
   ]
  },
  {
   "cell_type": "code",
   "execution_count": 105,
   "metadata": {
    "trusted": true
   },
   "outputs": [],
   "source": [
    "qwen_model.engage_layer_wrapper(1)"
   ]
  },
  {
   "cell_type": "code",
   "execution_count": 106,
   "metadata": {},
   "outputs": [
    {
     "name": "stdout",
     "output_type": "stream",
     "text": [
      "-LLM\n",
      "--Layer_0\n",
      "---Layer_Frozen: True\n",
      "--LayerWrapper_1\n",
      "---Layer_Frozen: True\n",
      "---Mapper_Frozen: False\n",
      "---Engaged: True\n",
      "---Alpha_Frozen: False Value: 0.5 Not Used\n",
      "--Layer_2\n",
      "---Layer_Frozen: True\n",
      "--Layer_3\n",
      "---Layer_Frozen: True\n",
      "--Layer_4\n",
      "---Layer_Frozen: True\n",
      "--Layer_5\n",
      "---Layer_Frozen: True\n",
      "--Layer_6\n",
      "---Layer_Frozen: True\n",
      "--Layer_7\n",
      "---Layer_Frozen: True\n",
      "--Layer_8\n",
      "---Layer_Frozen: True\n",
      "--Layer_9\n",
      "---Layer_Frozen: True\n",
      "--Layer_10\n",
      "---Layer_Frozen: True\n",
      "--Layer_11\n",
      "---Layer_Frozen: True\n",
      "--Layer_12\n",
      "---Layer_Frozen: True\n",
      "--Layer_13\n",
      "---Layer_Frozen: True\n",
      "--Layer_14\n",
      "---Layer_Frozen: True\n",
      "--Layer_15\n",
      "---Layer_Frozen: True\n",
      "--Layer_16\n",
      "---Layer_Frozen: True\n",
      "--Layer_17\n",
      "---Layer_Frozen: True\n",
      "--Layer_18\n",
      "---Layer_Frozen: True\n",
      "--Layer_19\n",
      "---Layer_Frozen: True\n",
      "--Layer_20\n",
      "---Layer_Frozen: True\n",
      "--Layer_21\n",
      "---Layer_Frozen: True\n",
      "--Layer_22\n",
      "---Layer_Frozen: True\n",
      "--Layer_23\n",
      "---Layer_Frozen: True\n",
      "--Layer_24\n",
      "---Layer_Frozen: True\n",
      "--Layer_25\n",
      "---Layer_Frozen: True\n",
      "--Layer_26\n",
      "---Layer_Frozen: True\n",
      "--Layer_27\n",
      "---Layer_Frozen: True\n",
      "Qwen2ForCausalLM(\n",
      "  (model): Qwen2Model(\n",
      "    (embed_tokens): Embedding(151936, 1536)\n",
      "    (layers): ModuleList(\n",
      "      (0): Qwen2DecoderLayer(\n",
      "        (self_attn): Qwen2SdpaAttention(\n",
      "          (q_proj): Linear(in_features=1536, out_features=1536, bias=True)\n",
      "          (k_proj): Linear(in_features=1536, out_features=256, bias=True)\n",
      "          (v_proj): Linear(in_features=1536, out_features=256, bias=True)\n",
      "          (o_proj): Linear(in_features=1536, out_features=1536, bias=False)\n",
      "          (rotary_emb): Qwen2RotaryEmbedding()\n",
      "        )\n",
      "        (mlp): Qwen2MLP(\n",
      "          (gate_proj): Linear(in_features=1536, out_features=8960, bias=False)\n",
      "          (up_proj): Linear(in_features=1536, out_features=8960, bias=False)\n",
      "          (down_proj): Linear(in_features=8960, out_features=1536, bias=False)\n",
      "          (act_fn): SiLU()\n",
      "        )\n",
      "        (input_layernorm): Qwen2RMSNorm((1536,), eps=1e-06)\n",
      "        (post_attention_layernorm): Qwen2RMSNorm((1536,), eps=1e-06)\n",
      "      )\n",
      "      (1): LinearWrapper(\n",
      "        (mapper): LinearMapper(\n",
      "          (network): Sequential(\n",
      "            (0): Linear(in_features=1536, out_features=1024, bias=True)\n",
      "            (1): LeakyReLU(negative_slope=0.01)\n",
      "            (2): Linear(in_features=1024, out_features=1536, bias=True)\n",
      "          )\n",
      "        )\n",
      "        (tanh): Tanh()\n",
      "        (layer): Qwen2DecoderLayer(\n",
      "          (self_attn): Qwen2SdpaAttention(\n",
      "            (q_proj): Linear(in_features=1536, out_features=1536, bias=True)\n",
      "            (k_proj): Linear(in_features=1536, out_features=256, bias=True)\n",
      "            (v_proj): Linear(in_features=1536, out_features=256, bias=True)\n",
      "            (o_proj): Linear(in_features=1536, out_features=1536, bias=False)\n",
      "            (rotary_emb): Qwen2RotaryEmbedding()\n",
      "          )\n",
      "          (mlp): Qwen2MLP(\n",
      "            (gate_proj): Linear(in_features=1536, out_features=8960, bias=False)\n",
      "            (up_proj): Linear(in_features=1536, out_features=8960, bias=False)\n",
      "            (down_proj): Linear(in_features=8960, out_features=1536, bias=False)\n",
      "            (act_fn): SiLU()\n",
      "          )\n",
      "          (input_layernorm): Qwen2RMSNorm((1536,), eps=1e-06)\n",
      "          (post_attention_layernorm): Qwen2RMSNorm((1536,), eps=1e-06)\n",
      "        )\n",
      "      )Engaged: True\n",
      "      (2-27): 26 x Qwen2DecoderLayer(\n",
      "        (self_attn): Qwen2SdpaAttention(\n",
      "          (q_proj): Linear(in_features=1536, out_features=1536, bias=True)\n",
      "          (k_proj): Linear(in_features=1536, out_features=256, bias=True)\n",
      "          (v_proj): Linear(in_features=1536, out_features=256, bias=True)\n",
      "          (o_proj): Linear(in_features=1536, out_features=1536, bias=False)\n",
      "          (rotary_emb): Qwen2RotaryEmbedding()\n",
      "        )\n",
      "        (mlp): Qwen2MLP(\n",
      "          (gate_proj): Linear(in_features=1536, out_features=8960, bias=False)\n",
      "          (up_proj): Linear(in_features=1536, out_features=8960, bias=False)\n",
      "          (down_proj): Linear(in_features=8960, out_features=1536, bias=False)\n",
      "          (act_fn): SiLU()\n",
      "        )\n",
      "        (input_layernorm): Qwen2RMSNorm((1536,), eps=1e-06)\n",
      "        (post_attention_layernorm): Qwen2RMSNorm((1536,), eps=1e-06)\n",
      "      )\n",
      "    )\n",
      "    (norm): Qwen2RMSNorm((1536,), eps=1e-06)\n",
      "    (rotary_emb): Qwen2RotaryEmbedding()\n",
      "  )\n",
      "  (lm_head): Linear(in_features=1536, out_features=151936, bias=False)\n",
      ")\n"
     ]
    }
   ],
   "source": [
    "qwen_model.print_status()"
   ]
  },
  {
   "cell_type": "code",
   "execution_count": 107,
   "metadata": {},
   "outputs": [
    {
     "name": "stderr",
     "output_type": "stream",
     "text": [
      "Evaluating en:   2%|▏         | 1/63 [00:05<05:32,  5.37s/it]"
     ]
    },
    {
     "name": "stdout",
     "output_type": "stream",
     "text": [
      "answer: Empty Answer, correct: 36 correctness: False\n",
      "answer: Empty Answer, correct: 150 correctness: False\n",
      "answer: Empty Answer, correct: 15 correctness: False\n",
      "answer: Empty Answer, correct: 80 correctness: False\n"
     ]
    },
    {
     "name": "stderr",
     "output_type": "stream",
     "text": [
      "Evaluating en:   3%|▎         | 2/63 [00:10<05:22,  5.28s/it]"
     ]
    },
    {
     "name": "stdout",
     "output_type": "stream",
     "text": [
      "answer: Empty Answer, correct: 10 correctness: False\n",
      "answer: Empty Answer, correct: 320 correctness: False\n",
      "answer: Empty Answer, correct: 5 correctness: False\n",
      "answer: Empty Answer, correct: 60 correctness: False\n"
     ]
    },
    {
     "name": "stderr",
     "output_type": "stream",
     "text": [
      "Evaluating en:   5%|▍         | 3/63 [00:16<05:23,  5.40s/it]"
     ]
    },
    {
     "name": "stdout",
     "output_type": "stream",
     "text": [
      "answer: Empty Answer, correct: 800 correctness: False\n",
      "answer: Empty Answer, correct: 114200 correctness: False\n",
      "answer: Empty Answer, correct: 1596 correctness: False\n",
      "answer: Empty Answer, correct: 25 correctness: False\n"
     ]
    },
    {
     "name": "stderr",
     "output_type": "stream",
     "text": [
      "Evaluating en:   6%|▋         | 4/63 [00:21<05:17,  5.38s/it]"
     ]
    },
    {
     "name": "stdout",
     "output_type": "stream",
     "text": [
      "answer: Empty Answer, correct: 91 correctness: False\n",
      "answer: Empty Answer, correct: 400 correctness: False\n",
      "answer: Empty Answer, correct: 26 correctness: False\n",
      "answer: Empty Answer, correct: 57 correctness: False\n"
     ]
    },
    {
     "name": "stderr",
     "output_type": "stream",
     "text": [
      "Evaluating en:   8%|▊         | 5/63 [00:27<05:17,  5.48s/it]"
     ]
    },
    {
     "name": "stdout",
     "output_type": "stream",
     "text": [
      "answer: Empty Answer, correct: 3 correctness: False\n",
      "answer: Empty Answer, correct: 10 correctness: False\n",
      "answer: Empty Answer, correct: 21 correctness: False\n",
      "answer: Empty Answer, correct: 48 correctness: False\n"
     ]
    },
    {
     "name": "stderr",
     "output_type": "stream",
     "text": [
      "Evaluating en:  10%|▉         | 6/63 [00:32<05:15,  5.54s/it]"
     ]
    },
    {
     "name": "stdout",
     "output_type": "stream",
     "text": [
      "answer: Empty Answer, correct: 30 correctness: False\n",
      "answer: Empty Answer, correct: 540 correctness: False\n",
      "answer: Empty Answer, correct: 23 correctness: False\n",
      "answer: Empty Answer, correct: 17 correctness: False\n"
     ]
    },
    {
     "name": "stderr",
     "output_type": "stream",
     "text": [
      "Evaluating en:  11%|█         | 7/63 [00:38<05:04,  5.44s/it]"
     ]
    },
    {
     "name": "stdout",
     "output_type": "stream",
     "text": [
      "answer: Empty Answer, correct: 54 correctness: False\n",
      "answer: Empty Answer, correct: 163 correctness: False\n",
      "answer: Empty Answer, correct: 6 correctness: False\n",
      "answer: Empty Answer, correct: 145 correctness: False\n"
     ]
    },
    {
     "name": "stderr",
     "output_type": "stream",
     "text": [
      "Evaluating en:  13%|█▎        | 8/63 [00:42<04:50,  5.29s/it]"
     ]
    },
    {
     "name": "stdout",
     "output_type": "stream",
     "text": [
      "answer: Empty Answer, correct: 77 correctness: False\n",
      "answer: Empty Answer, correct: 68 correctness: False\n",
      "answer: Empty Answer, correct: 51 correctness: False\n",
      "answer: Empty Answer, correct: 7425 correctness: False\n"
     ]
    },
    {
     "name": "stderr",
     "output_type": "stream",
     "text": [
      "Evaluating en:  14%|█▍        | 9/63 [00:48<04:42,  5.24s/it]"
     ]
    },
    {
     "name": "stdout",
     "output_type": "stream",
     "text": [
      "answer: Empty Answer, correct: 58 correctness: False\n",
      "answer: Empty Answer, correct: 6 correctness: False\n",
      "answer: Empty Answer, correct: 300 correctness: False\n",
      "answer: Empty Answer, correct: 80 correctness: False\n"
     ]
    },
    {
     "name": "stderr",
     "output_type": "stream",
     "text": [
      "Evaluating en:  16%|█▌        | 10/63 [00:53<04:39,  5.28s/it]"
     ]
    },
    {
     "name": "stdout",
     "output_type": "stream",
     "text": [
      "answer: Empty Answer, correct: 1400 correctness: False\n",
      "answer: Empty Answer, correct: 75 correctness: False\n",
      "answer: Empty Answer, correct: 40 correctness: False\n",
      "answer: Empty Answer, correct: 100 correctness: False\n"
     ]
    },
    {
     "name": "stderr",
     "output_type": "stream",
     "text": [
      "Evaluating en:  17%|█▋        | 11/63 [00:58<04:32,  5.25s/it]"
     ]
    },
    {
     "name": "stdout",
     "output_type": "stream",
     "text": [
      "answer: Empty Answer, correct: 35 correctness: False\n",
      "answer: Empty Answer, correct: 230 correctness: False\n",
      "answer: Empty Answer, correct: 15 correctness: False\n",
      "answer: Empty Answer, correct: 40 correctness: False\n"
     ]
    },
    {
     "name": "stderr",
     "output_type": "stream",
     "text": [
      "Evaluating en:  19%|█▉        | 12/63 [01:03<04:22,  5.15s/it]"
     ]
    },
    {
     "name": "stdout",
     "output_type": "stream",
     "text": [
      "answer: Empty Answer, correct: 60 correctness: False\n",
      "answer: Empty Answer, correct: 24 correctness: False\n",
      "answer: Empty Answer, correct: 14 correctness: False\n",
      "answer: Empty Answer, correct: 140 correctness: False\n"
     ]
    },
    {
     "name": "stderr",
     "output_type": "stream",
     "text": [
      "Evaluating en:  21%|██        | 13/63 [01:09<04:24,  5.29s/it]"
     ]
    },
    {
     "name": "stdout",
     "output_type": "stream",
     "text": [
      "answer: Empty Answer, correct: 75 correctness: False\n",
      "answer: Empty Answer, correct: 28 correctness: False\n",
      "answer: Empty Answer, correct: 366 correctness: False\n",
      "answer: Empty Answer, correct: 120 correctness: False\n"
     ]
    },
    {
     "name": "stderr",
     "output_type": "stream",
     "text": [
      "Evaluating en:  22%|██▏       | 14/63 [01:14<04:20,  5.31s/it]"
     ]
    },
    {
     "name": "stdout",
     "output_type": "stream",
     "text": [
      "answer: Empty Answer, correct: 6 correctness: False\n",
      "answer: Empty Answer, correct: 500 correctness: False\n",
      "answer: Empty Answer, correct: 880 correctness: False\n",
      "answer: Empty Answer, correct: 140 correctness: False\n"
     ]
    },
    {
     "name": "stderr",
     "output_type": "stream",
     "text": [
      "Evaluating en:  24%|██▍       | 15/63 [01:19<04:07,  5.15s/it]"
     ]
    },
    {
     "name": "stdout",
     "output_type": "stream",
     "text": [
      "answer: Empty Answer, correct: 272 correctness: False\n",
      "answer: Empty Answer, correct: 2 correctness: False\n",
      "answer: Empty Answer, correct: 187 correctness: False\n",
      "answer: Empty Answer, correct: 60 correctness: False\n"
     ]
    },
    {
     "name": "stderr",
     "output_type": "stream",
     "text": [
      "Evaluating en:  25%|██▌       | 16/63 [01:24<04:02,  5.16s/it]"
     ]
    },
    {
     "name": "stdout",
     "output_type": "stream",
     "text": [
      "answer: Empty Answer, correct: 276000 correctness: False\n",
      "answer: Empty Answer, correct: 70 correctness: False\n",
      "answer: Empty Answer, correct: 95 correctness: False\n",
      "answer: Empty Answer, correct: 32 correctness: False\n"
     ]
    },
    {
     "name": "stderr",
     "output_type": "stream",
     "text": [
      "Evaluating en:  27%|██▋       | 17/63 [01:29<03:58,  5.19s/it]"
     ]
    },
    {
     "name": "stdout",
     "output_type": "stream",
     "text": [
      "answer: Empty Answer, correct: 104 correctness: False\n",
      "answer: Empty Answer, correct: 15 correctness: False\n",
      "answer: Empty Answer, correct: 16 correctness: False\n",
      "answer: Empty Answer, correct: 255 correctness: False\n"
     ]
    },
    {
     "name": "stderr",
     "output_type": "stream",
     "text": [
      "Evaluating en:  29%|██▊       | 18/63 [01:34<03:50,  5.12s/it]"
     ]
    },
    {
     "name": "stdout",
     "output_type": "stream",
     "text": [
      "answer: Empty Answer, correct: 5 correctness: False\n",
      "answer: Empty Answer, correct: 27 correctness: False\n",
      "answer: Empty Answer, correct: 82 correctness: False\n",
      "answer: Empty Answer, correct: 5 correctness: False\n"
     ]
    },
    {
     "name": "stderr",
     "output_type": "stream",
     "text": [
      "Evaluating en:  30%|███       | 19/63 [01:40<03:48,  5.19s/it]"
     ]
    },
    {
     "name": "stdout",
     "output_type": "stream",
     "text": [
      "answer: Empty Answer, correct: 100 correctness: False\n",
      "answer: Empty Answer, correct: 15 correctness: False\n",
      "answer: Empty Answer, correct: 5 correctness: False\n",
      "answer: Empty Answer, correct: 600 correctness: False\n"
     ]
    },
    {
     "name": "stderr",
     "output_type": "stream",
     "text": [
      "Evaluating en:  32%|███▏      | 20/63 [01:44<03:37,  5.06s/it]"
     ]
    },
    {
     "name": "stdout",
     "output_type": "stream",
     "text": [
      "answer: Empty Answer, correct: 20 correctness: False\n",
      "answer: Empty Answer, correct: 48 correctness: False\n",
      "answer: Empty Answer, correct: 44 correctness: False\n",
      "answer: Empty Answer, correct: 15 correctness: False\n"
     ]
    },
    {
     "name": "stderr",
     "output_type": "stream",
     "text": [
      "Evaluating en:  33%|███▎      | 21/63 [01:50<03:37,  5.17s/it]"
     ]
    },
    {
     "name": "stdout",
     "output_type": "stream",
     "text": [
      "answer: Empty Answer, correct: 50 correctness: False\n",
      "answer: Empty Answer, correct: 50 correctness: False\n",
      "answer: Empty Answer, correct: 92 correctness: False\n",
      "answer: Empty Answer, correct: 18000 correctness: False\n"
     ]
    },
    {
     "name": "stderr",
     "output_type": "stream",
     "text": [
      "Evaluating en:  35%|███▍      | 22/63 [01:55<03:37,  5.29s/it]"
     ]
    },
    {
     "name": "stdout",
     "output_type": "stream",
     "text": [
      "answer: Empty Answer, correct: 720 correctness: False\n",
      "answer: Empty Answer, correct: 109 correctness: False\n",
      "answer: Empty Answer, correct: 26 correctness: False\n",
      "answer: Empty Answer, correct: 20 correctness: False\n"
     ]
    },
    {
     "name": "stderr",
     "output_type": "stream",
     "text": [
      "Evaluating en:  37%|███▋      | 23/63 [02:00<03:28,  5.22s/it]"
     ]
    },
    {
     "name": "stdout",
     "output_type": "stream",
     "text": [
      "answer: Empty Answer, correct: 16 correctness: False\n",
      "answer: Empty Answer, correct: 5600 correctness: False\n",
      "answer: Empty Answer, correct: 20 correctness: False\n",
      "answer: Empty Answer, correct: 4 correctness: False\n"
     ]
    },
    {
     "name": "stderr",
     "output_type": "stream",
     "text": [
      "Evaluating en:  38%|███▊      | 24/63 [02:06<03:29,  5.36s/it]"
     ]
    },
    {
     "name": "stdout",
     "output_type": "stream",
     "text": [
      "answer: Empty Answer, correct: 36 correctness: False\n",
      "answer: Empty Answer, correct: 1 correctness: False\n",
      "answer: Empty Answer, correct: 10 correctness: False\n",
      "answer: Empty Answer, correct: 60 correctness: False\n"
     ]
    },
    {
     "name": "stderr",
     "output_type": "stream",
     "text": [
      "Evaluating en:  40%|███▉      | 25/63 [02:11<03:17,  5.20s/it]"
     ]
    },
    {
     "name": "stdout",
     "output_type": "stream",
     "text": [
      "answer: Empty Answer, correct: 7500 correctness: False\n",
      "answer: Empty Answer, correct: 360 correctness: False\n",
      "answer: Empty Answer, correct: 200 correctness: False\n",
      "answer: Empty Answer, correct: 24 correctness: False\n"
     ]
    },
    {
     "name": "stderr",
     "output_type": "stream",
     "text": [
      "Evaluating en:  41%|████▏     | 26/63 [02:16<03:10,  5.14s/it]"
     ]
    },
    {
     "name": "stdout",
     "output_type": "stream",
     "text": [
      "answer: Empty Answer, correct: 9 correctness: False\n",
      "answer: Empty Answer, correct: 45 correctness: False\n",
      "answer: Empty Answer, correct: 98 correctness: False\n",
      "answer: Empty Answer, correct: 6 correctness: False\n"
     ]
    },
    {
     "name": "stderr",
     "output_type": "stream",
     "text": [
      "Evaluating en:  43%|████▎     | 27/63 [02:21<03:08,  5.24s/it]"
     ]
    },
    {
     "name": "stdout",
     "output_type": "stream",
     "text": [
      "answer: Empty Answer, correct: 460 correctness: False\n",
      "answer: Empty Answer, correct: 7 correctness: False\n",
      "answer: Empty Answer, correct: 280 correctness: False\n",
      "answer: Empty Answer, correct: 595 correctness: False\n"
     ]
    },
    {
     "name": "stderr",
     "output_type": "stream",
     "text": [
      "Evaluating en:  44%|████▍     | 28/63 [02:27<03:07,  5.35s/it]"
     ]
    },
    {
     "name": "stdout",
     "output_type": "stream",
     "text": [
      "answer: Empty Answer, correct: 4000 correctness: False\n",
      "answer: Empty Answer, correct: 70000 correctness: False\n",
      "answer: Empty Answer, correct: 31 correctness: False\n",
      "answer: Empty Answer, correct: 10000 correctness: False\n"
     ]
    },
    {
     "name": "stderr",
     "output_type": "stream",
     "text": [
      "Evaluating en:  46%|████▌     | 29/63 [02:32<02:57,  5.21s/it]"
     ]
    },
    {
     "name": "stdout",
     "output_type": "stream",
     "text": [
      "answer: Empty Answer, correct: 240 correctness: False\n",
      "answer: Empty Answer, correct: 2 correctness: False\n",
      "answer: Empty Answer, correct: 2 correctness: False\n",
      "answer: Empty Answer, correct: 75 correctness: False\n"
     ]
    },
    {
     "name": "stderr",
     "output_type": "stream",
     "text": [
      "Evaluating en:  48%|████▊     | 30/63 [02:37<02:52,  5.22s/it]"
     ]
    },
    {
     "name": "stdout",
     "output_type": "stream",
     "text": [
      "answer: Empty Answer, correct: 350 correctness: False\n",
      "answer: Empty Answer, correct: 26 correctness: False\n",
      "answer: Empty Answer, correct: 32 correctness: False\n",
      "answer: Empty Answer, correct: 30 correctness: False\n"
     ]
    },
    {
     "name": "stderr",
     "output_type": "stream",
     "text": [
      "Evaluating en:  49%|████▉     | 31/63 [02:43<02:49,  5.31s/it]"
     ]
    },
    {
     "name": "stdout",
     "output_type": "stream",
     "text": [
      "answer: Empty Answer, correct: 4 correctness: False\n",
      "answer: Empty Answer, correct: 18 correctness: False\n",
      "answer: Empty Answer, correct: 28 correctness: False\n",
      "answer: Empty Answer, correct: 348 correctness: False\n"
     ]
    },
    {
     "name": "stderr",
     "output_type": "stream",
     "text": [
      "Evaluating en:  51%|█████     | 32/63 [02:48<02:47,  5.40s/it]"
     ]
    },
    {
     "name": "stdout",
     "output_type": "stream",
     "text": [
      "answer: Empty Answer, correct: 20 correctness: False\n",
      "answer: Empty Answer, correct: 623 correctness: False\n",
      "answer: Empty Answer, correct: 10 correctness: False\n",
      "answer: Empty Answer, correct: 6 correctness: False\n"
     ]
    },
    {
     "name": "stderr",
     "output_type": "stream",
     "text": [
      "Evaluating en:  52%|█████▏    | 33/63 [02:54<02:49,  5.63s/it]"
     ]
    },
    {
     "name": "stdout",
     "output_type": "stream",
     "text": [
      "answer: Empty Answer, correct: 20 correctness: False\n",
      "answer: Empty Answer, correct: 18 correctness: False\n",
      "answer: Empty Answer, correct: 8000 correctness: False\n",
      "answer: Empty Answer, correct: 10 correctness: False\n"
     ]
    },
    {
     "name": "stderr",
     "output_type": "stream",
     "text": [
      "Evaluating en:  54%|█████▍    | 34/63 [03:00<02:43,  5.65s/it]"
     ]
    },
    {
     "name": "stdout",
     "output_type": "stream",
     "text": [
      "answer: Empty Answer, correct: 9 correctness: False\n",
      "answer: Empty Answer, correct: 55 correctness: False\n",
      "answer: Empty Answer, correct: 250 correctness: False\n",
      "answer: Empty Answer, correct: 8 correctness: False\n"
     ]
    },
    {
     "name": "stderr",
     "output_type": "stream",
     "text": [
      "Evaluating en:  56%|█████▌    | 35/63 [03:07<02:44,  5.87s/it]"
     ]
    },
    {
     "name": "stdout",
     "output_type": "stream",
     "text": [
      "answer: Empty Answer, correct: 221 correctness: False\n",
      "answer: Empty Answer, correct: 70 correctness: False\n",
      "answer: Empty Answer, correct: 6 correctness: False\n",
      "answer: Empty Answer, correct: 4 correctness: False\n"
     ]
    },
    {
     "name": "stderr",
     "output_type": "stream",
     "text": [
      "Evaluating en:  57%|█████▋    | 36/63 [03:13<02:42,  6.02s/it]"
     ]
    },
    {
     "name": "stdout",
     "output_type": "stream",
     "text": [
      "answer: Empty Answer, correct: 25 correctness: False\n",
      "answer: Empty Answer, correct: 860 correctness: False\n",
      "answer: Empty Answer, correct: 106 correctness: False\n",
      "answer: Empty Answer, correct: 40 correctness: False\n"
     ]
    },
    {
     "name": "stderr",
     "output_type": "stream",
     "text": [
      "Evaluating en:  59%|█████▊    | 37/63 [03:18<02:31,  5.83s/it]"
     ]
    },
    {
     "name": "stdout",
     "output_type": "stream",
     "text": [
      "answer: Empty Answer, correct: 20 correctness: False\n",
      "answer: Empty Answer, correct: 3 correctness: False\n",
      "answer: Empty Answer, correct: 44 correctness: False\n",
      "answer: Empty Answer, correct: 20 correctness: False\n"
     ]
    },
    {
     "name": "stderr",
     "output_type": "stream",
     "text": [
      "Evaluating en:  60%|██████    | 38/63 [03:24<02:21,  5.68s/it]"
     ]
    },
    {
     "name": "stdout",
     "output_type": "stream",
     "text": [
      "answer: Empty Answer, correct: 12 correctness: False\n",
      "answer: Empty Answer, correct: 60 correctness: False\n",
      "answer: Empty Answer, correct: 21 correctness: False\n",
      "answer: Empty Answer, correct: 70 correctness: False\n"
     ]
    },
    {
     "name": "stderr",
     "output_type": "stream",
     "text": [
      "Evaluating en:  62%|██████▏   | 39/63 [03:29<02:15,  5.64s/it]"
     ]
    },
    {
     "name": "stdout",
     "output_type": "stream",
     "text": [
      "answer: Empty Answer, correct: 13 correctness: False\n",
      "answer: Empty Answer, correct: 30 correctness: False\n",
      "answer: Empty Answer, correct: 45 correctness: False\n",
      "answer: Empty Answer, correct: 104 correctness: False\n"
     ]
    },
    {
     "name": "stderr",
     "output_type": "stream",
     "text": [
      "Evaluating en:  63%|██████▎   | 40/63 [03:34<02:07,  5.54s/it]"
     ]
    },
    {
     "name": "stdout",
     "output_type": "stream",
     "text": [
      "answer: Empty Answer, correct: 3 correctness: False\n",
      "answer: Empty Answer, correct: 120 correctness: False\n",
      "answer: Empty Answer, correct: 22 correctness: False\n",
      "answer: Empty Answer, correct: 9360 correctness: False\n"
     ]
    },
    {
     "name": "stderr",
     "output_type": "stream",
     "text": [
      "Evaluating en:  65%|██████▌   | 41/63 [03:40<02:01,  5.53s/it]"
     ]
    },
    {
     "name": "stdout",
     "output_type": "stream",
     "text": [
      "answer: Empty Answer, correct: 48 correctness: False\n",
      "answer: Empty Answer, correct: 34 correctness: False\n",
      "answer: Empty Answer, correct: 14 correctness: False\n",
      "answer: Empty Answer, correct: 105 correctness: False\n"
     ]
    },
    {
     "name": "stderr",
     "output_type": "stream",
     "text": [
      "Evaluating en:  67%|██████▋   | 42/63 [03:45<01:52,  5.36s/it]"
     ]
    },
    {
     "name": "stdout",
     "output_type": "stream",
     "text": [
      "answer: Empty Answer, correct: 5 correctness: False\n",
      "answer: Empty Answer, correct: 10 correctness: False\n",
      "answer: Empty Answer, correct: 120 correctness: False\n",
      "answer: Empty Answer, correct: 7 correctness: False\n"
     ]
    },
    {
     "name": "stderr",
     "output_type": "stream",
     "text": [
      "Evaluating en:  68%|██████▊   | 43/63 [03:51<01:52,  5.63s/it]"
     ]
    },
    {
     "name": "stdout",
     "output_type": "stream",
     "text": [
      "answer: Empty Answer, correct: 20000 correctness: False\n",
      "answer: Empty Answer, correct: 88 correctness: False\n",
      "answer: Empty Answer, correct: 27000 correctness: False\n",
      "answer: Empty Answer, correct: 2125 correctness: False\n"
     ]
    },
    {
     "name": "stderr",
     "output_type": "stream",
     "text": [
      "Evaluating en:  70%|██████▉   | 44/63 [03:57<01:46,  5.58s/it]"
     ]
    },
    {
     "name": "stdout",
     "output_type": "stream",
     "text": [
      "answer: Empty Answer, correct: 64 correctness: False\n",
      "answer: Empty Answer, correct: 243 correctness: False\n",
      "answer: Empty Answer, correct: 29 correctness: False\n",
      "answer: Empty Answer, correct: 8 correctness: False\n"
     ]
    },
    {
     "name": "stderr",
     "output_type": "stream",
     "text": [
      "Evaluating en:  71%|███████▏  | 45/63 [04:02<01:40,  5.59s/it]"
     ]
    },
    {
     "name": "stdout",
     "output_type": "stream",
     "text": [
      "answer: Empty Answer, correct: 3 correctness: False\n",
      "answer: Empty Answer, correct: 220 correctness: False\n",
      "answer: Empty Answer, correct: 7 correctness: False\n",
      "answer: Empty Answer, correct: 12 correctness: False\n"
     ]
    },
    {
     "name": "stderr",
     "output_type": "stream",
     "text": [
      "Evaluating en:  73%|███████▎  | 46/63 [04:08<01:35,  5.61s/it]"
     ]
    },
    {
     "name": "stdout",
     "output_type": "stream",
     "text": [
      "answer: Empty Answer, correct: 57500 correctness: False\n",
      "answer: Empty Answer, correct: 8 correctness: False\n",
      "answer: Empty Answer, correct: 6277 correctness: False\n",
      "answer: Empty Answer, correct: 50 correctness: False\n"
     ]
    },
    {
     "name": "stderr",
     "output_type": "stream",
     "text": [
      "Evaluating en:  75%|███████▍  | 47/63 [04:13<01:29,  5.60s/it]"
     ]
    },
    {
     "name": "stdout",
     "output_type": "stream",
     "text": [
      "answer: Empty Answer, correct: 90 correctness: False\n",
      "answer: Empty Answer, correct: 940 correctness: False\n",
      "answer: Empty Answer, correct: 13 correctness: False\n",
      "answer: Empty Answer, correct: 360 correctness: False\n"
     ]
    },
    {
     "name": "stderr",
     "output_type": "stream",
     "text": [
      "Evaluating en:  76%|███████▌  | 48/63 [04:19<01:22,  5.50s/it]"
     ]
    },
    {
     "name": "stdout",
     "output_type": "stream",
     "text": [
      "answer: Empty Answer, correct: 9 correctness: False\n",
      "answer: Empty Answer, correct: 160 correctness: False\n",
      "answer: Empty Answer, correct: 50 correctness: False\n",
      "answer: Empty Answer, correct: 98 correctness: False\n"
     ]
    },
    {
     "name": "stderr",
     "output_type": "stream",
     "text": [
      "Evaluating en:  78%|███████▊  | 49/63 [04:24<01:15,  5.42s/it]"
     ]
    },
    {
     "name": "stdout",
     "output_type": "stream",
     "text": [
      "answer: Empty Answer, correct: 23 correctness: False\n",
      "answer: Empty Answer, correct: 175 correctness: False\n",
      "answer: Empty Answer, correct: 90 correctness: False\n",
      "answer: Empty Answer, correct: 70 correctness: False\n"
     ]
    },
    {
     "name": "stderr",
     "output_type": "stream",
     "text": [
      "Evaluating en:  79%|███████▉  | 50/63 [04:30<01:11,  5.48s/it]"
     ]
    },
    {
     "name": "stdout",
     "output_type": "stream",
     "text": [
      "answer: Empty Answer, correct: 1210 correctness: False\n",
      "answer: Empty Answer, correct: 12 correctness: False\n",
      "answer: Empty Answer, correct: 76 correctness: False\n",
      "answer: Empty Answer, correct: 16 correctness: False\n"
     ]
    },
    {
     "name": "stderr",
     "output_type": "stream",
     "text": [
      "Evaluating en:  81%|████████  | 51/63 [04:35<01:06,  5.51s/it]"
     ]
    },
    {
     "name": "stdout",
     "output_type": "stream",
     "text": [
      "answer: Empty Answer, correct: 30 correctness: False\n",
      "answer: Empty Answer, correct: 16 correctness: False\n",
      "answer: Empty Answer, correct: 4 correctness: False\n",
      "answer: Empty Answer, correct: 36 correctness: False\n"
     ]
    },
    {
     "name": "stderr",
     "output_type": "stream",
     "text": [
      "Evaluating en:  83%|████████▎ | 52/63 [04:41<01:00,  5.53s/it]"
     ]
    },
    {
     "name": "stdout",
     "output_type": "stream",
     "text": [
      "answer: Empty Answer, correct: 694 correctness: False\n",
      "answer: Empty Answer, correct: 33 correctness: False\n",
      "answer: Empty Answer, correct: 5 correctness: False\n",
      "answer: Empty Answer, correct: 140 correctness: False\n"
     ]
    },
    {
     "name": "stderr",
     "output_type": "stream",
     "text": [
      "Evaluating en:  84%|████████▍ | 53/63 [04:46<00:54,  5.42s/it]"
     ]
    },
    {
     "name": "stdout",
     "output_type": "stream",
     "text": [
      "answer: Empty Answer, correct: 10 correctness: False\n",
      "answer: Empty Answer, correct: 34 correctness: False\n",
      "answer: Empty Answer, correct: 42 correctness: False\n",
      "answer: Empty Answer, correct: 15 correctness: False\n"
     ]
    },
    {
     "name": "stderr",
     "output_type": "stream",
     "text": [
      "Evaluating en:  86%|████████▌ | 54/63 [04:51<00:48,  5.40s/it]"
     ]
    },
    {
     "name": "stdout",
     "output_type": "stream",
     "text": [
      "answer: Empty Answer, correct: 72 correctness: False\n",
      "answer: Empty Answer, correct: 225 correctness: False\n",
      "answer: Empty Answer, correct: 24 correctness: False\n",
      "answer: Empty Answer, correct: 50 correctness: False\n"
     ]
    },
    {
     "name": "stderr",
     "output_type": "stream",
     "text": [
      "Evaluating en:  87%|████████▋ | 55/63 [04:57<00:43,  5.47s/it]"
     ]
    },
    {
     "name": "stdout",
     "output_type": "stream",
     "text": [
      "answer: Empty Answer, correct: 90 correctness: False\n",
      "answer: Empty Answer, correct: 250 correctness: False\n",
      "answer: Empty Answer, correct: 5 correctness: False\n",
      "answer: Empty Answer, correct: 122 correctness: False\n"
     ]
    },
    {
     "name": "stderr",
     "output_type": "stream",
     "text": [
      "Evaluating en:  89%|████████▉ | 56/63 [05:02<00:38,  5.50s/it]"
     ]
    },
    {
     "name": "stdout",
     "output_type": "stream",
     "text": [
      "answer: Empty Answer, correct: 25000 correctness: False\n",
      "answer: Empty Answer, correct: 180 correctness: False\n",
      "answer: Empty Answer, correct: 17 correctness: False\n",
      "answer: Empty Answer, correct: 25 correctness: False\n"
     ]
    },
    {
     "name": "stderr",
     "output_type": "stream",
     "text": [
      "Evaluating en:  90%|█████████ | 57/63 [05:08<00:32,  5.42s/it]"
     ]
    },
    {
     "name": "stdout",
     "output_type": "stream",
     "text": [
      "answer: Empty Answer, correct: 16 correctness: False\n",
      "answer: Empty Answer, correct: 45 correctness: False\n",
      "answer: Empty Answer, correct: 125 correctness: False\n",
      "answer: Empty Answer, correct: 160 correctness: False\n"
     ]
    },
    {
     "name": "stderr",
     "output_type": "stream",
     "text": [
      "Evaluating en:  92%|█████████▏| 58/63 [05:13<00:26,  5.29s/it]"
     ]
    },
    {
     "name": "stdout",
     "output_type": "stream",
     "text": [
      "answer: Empty Answer, correct: 40 correctness: False\n",
      "answer: Empty Answer, correct: 3 correctness: False\n",
      "answer: Empty Answer, correct: 83 correctness: False\n",
      "answer: Empty Answer, correct: 48 correctness: False\n"
     ]
    },
    {
     "name": "stderr",
     "output_type": "stream",
     "text": [
      "Evaluating en:  94%|█████████▎| 59/63 [05:18<00:21,  5.30s/it]"
     ]
    },
    {
     "name": "stdout",
     "output_type": "stream",
     "text": [
      "answer: Empty Answer, correct: 280 correctness: False\n",
      "answer: Empty Answer, correct: 260 correctness: False\n",
      "answer: Empty Answer, correct: 1430 correctness: False\n",
      "answer: Empty Answer, correct: 8 correctness: False\n"
     ]
    },
    {
     "name": "stderr",
     "output_type": "stream",
     "text": [
      "Evaluating en:  95%|█████████▌| 60/63 [05:24<00:16,  5.39s/it]"
     ]
    },
    {
     "name": "stdout",
     "output_type": "stream",
     "text": [
      "answer: Empty Answer, correct: 15 correctness: False\n",
      "answer: Empty Answer, correct: 100 correctness: False\n",
      "answer: Empty Answer, correct: 18 correctness: False\n",
      "answer: Empty Answer, correct: 16 correctness: False\n"
     ]
    },
    {
     "name": "stderr",
     "output_type": "stream",
     "text": [
      "Evaluating en:  97%|█████████▋| 61/63 [05:29<00:10,  5.39s/it]"
     ]
    },
    {
     "name": "stdout",
     "output_type": "stream",
     "text": [
      "answer: Empty Answer, correct: 4 correctness: False\n",
      "answer: Empty Answer, correct: 294 correctness: False\n",
      "answer: Empty Answer, correct: 5 correctness: False\n",
      "answer: Empty Answer, correct: 95200 correctness: False\n"
     ]
    },
    {
     "name": "stderr",
     "output_type": "stream",
     "text": [
      "Evaluating en:  98%|█████████▊| 62/63 [05:35<00:05,  5.48s/it]"
     ]
    },
    {
     "name": "stdout",
     "output_type": "stream",
     "text": [
      "answer: Empty Answer, correct: 21 correctness: False\n",
      "answer: Empty Answer, correct: 2600 correctness: False\n",
      "answer: Empty Answer, correct: 300 correctness: False\n",
      "answer: Empty Answer, correct: 130 correctness: False\n"
     ]
    },
    {
     "name": "stderr",
     "output_type": "stream",
     "text": [
      "Evaluating en: 100%|██████████| 63/63 [05:40<00:00,  5.40s/it]"
     ]
    },
    {
     "name": "stdout",
     "output_type": "stream",
     "text": [
      "answer: Empty Answer, correct: 18 correctness: False\n",
      "answer: Empty Answer, correct: 31 correctness: False\n"
     ]
    },
    {
     "name": "stderr",
     "output_type": "stream",
     "text": [
      "\n",
      "Evaluating th:   2%|▏         | 1/63 [00:04<04:39,  4.51s/it]"
     ]
    },
    {
     "name": "stdout",
     "output_type": "stream",
     "text": [
      "answer: Empty Answer, correct: 104 correctness: False\n",
      "answer: Empty Answer, correct: 2 correctness: False\n",
      "answer: Empty Answer, correct: 880 correctness: False\n",
      "answer: Empty Answer, correct: 7425 correctness: False\n"
     ]
    },
    {
     "name": "stderr",
     "output_type": "stream",
     "text": [
      "Evaluating th:   3%|▎         | 2/63 [00:08<04:33,  4.48s/it]"
     ]
    },
    {
     "name": "stdout",
     "output_type": "stream",
     "text": [
      "answer: Empty Answer, correct: 36 correctness: False\n",
      "answer: Empty Answer, correct: 60 correctness: False\n",
      "answer: Empty Answer, correct: 70 correctness: False\n",
      "answer: Empty Answer, correct: 17 correctness: False\n"
     ]
    },
    {
     "name": "stderr",
     "output_type": "stream",
     "text": [
      "Evaluating th:   5%|▍         | 3/63 [00:12<03:50,  3.84s/it]"
     ]
    },
    {
     "name": "stdout",
     "output_type": "stream",
     "text": [
      "answer: Empty Answer, correct: 25 correctness: False\n",
      "answer: Empty Answer, correct: 5 correctness: False\n",
      "answer: Empty Answer, correct: 77 correctness: False\n",
      "answer: Empty Answer, correct: 6 correctness: False\n"
     ]
    },
    {
     "name": "stderr",
     "output_type": "stream",
     "text": [
      "Evaluating th:   6%|▋         | 4/63 [00:16<03:49,  3.90s/it]"
     ]
    },
    {
     "name": "stdout",
     "output_type": "stream",
     "text": [
      "answer: Empty Answer, correct: 5 correctness: False\n",
      "answer: Empty Answer, correct: 32 correctness: False\n",
      "answer: Empty Answer, correct: 40 correctness: False\n",
      "answer: Empty Answer, correct: 2 correctness: False\n"
     ]
    },
    {
     "name": "stderr",
     "output_type": "stream",
     "text": [
      "Evaluating th:   8%|▊         | 5/63 [00:19<03:35,  3.72s/it]"
     ]
    },
    {
     "name": "stdout",
     "output_type": "stream",
     "text": [
      "answer: Empty Answer, correct: 16 correctness: False\n",
      "answer: Empty Answer, correct: 26 correctness: False\n",
      "answer: Empty Answer, correct: 160 correctness: False\n",
      "answer: Empty Answer, correct: 255 correctness: False\n"
     ]
    },
    {
     "name": "stderr",
     "output_type": "stream",
     "text": [
      "Evaluating th:  10%|▉         | 6/63 [00:23<03:40,  3.88s/it]"
     ]
    },
    {
     "name": "stdout",
     "output_type": "stream",
     "text": [
      "answer: Empty Answer, correct: 44 correctness: False\n",
      "answer: Empty Answer, correct: 4 correctness: False\n",
      "answer: Empty Answer, correct: 17 correctness: False\n",
      "answer: Empty Answer, correct: 6 correctness: False\n"
     ]
    },
    {
     "name": "stderr",
     "output_type": "stream",
     "text": [
      "Evaluating th:  11%|█         | 7/63 [00:28<03:48,  4.08s/it]"
     ]
    },
    {
     "name": "stdout",
     "output_type": "stream",
     "text": [
      "answer: Empty Answer, correct: 48 correctness: False\n",
      "answer: Empty Answer, correct: 1400 correctness: False\n",
      "answer: Empty Answer, correct: 30 correctness: False\n",
      "answer: Empty Answer, correct: 16 correctness: False\n"
     ]
    },
    {
     "name": "stderr",
     "output_type": "stream",
     "text": [
      "Evaluating th:  13%|█▎        | 8/63 [00:32<03:43,  4.06s/it]"
     ]
    },
    {
     "name": "stdout",
     "output_type": "stream",
     "text": [
      "answer: Empty Answer, correct: 20 correctness: False\n",
      "answer: Empty Answer, correct: 50 correctness: False\n",
      "answer: Empty Answer, correct: 10 correctness: False\n",
      "answer: Empty Answer, correct: 60 correctness: False\n"
     ]
    },
    {
     "name": "stderr",
     "output_type": "stream",
     "text": [
      "Evaluating th:  14%|█▍        | 9/63 [00:36<03:45,  4.17s/it]"
     ]
    },
    {
     "name": "stdout",
     "output_type": "stream",
     "text": [
      "answer: Empty Answer, correct: 15 correctness: False\n",
      "answer: Empty Answer, correct: 92 correctness: False\n",
      "answer: Empty Answer, correct: 1 correctness: False\n",
      "answer: Empty Answer, correct: 24 correctness: False\n"
     ]
    },
    {
     "name": "stderr",
     "output_type": "stream",
     "text": [
      "Evaluating th:  16%|█▌        | 10/63 [00:40<03:34,  4.05s/it]"
     ]
    },
    {
     "name": "stdout",
     "output_type": "stream",
     "text": [
      "answer: Empty Answer, correct: 300 correctness: False\n",
      "answer: Empty Answer, correct: 460 correctness: False\n",
      "answer: Empty Answer, correct: 21 correctness: False\n",
      "answer: Empty Answer, correct: 88 correctness: False\n"
     ]
    },
    {
     "name": "stderr",
     "output_type": "stream",
     "text": [
      "Evaluating th:  17%|█▋        | 11/63 [00:44<03:35,  4.15s/it]"
     ]
    },
    {
     "name": "stdout",
     "output_type": "stream",
     "text": [
      "answer: Empty Answer, correct: 31 correctness: False\n",
      "answer: Empty Answer, correct: 300 correctness: False\n",
      "answer: Empty Answer, correct: 36 correctness: False\n",
      "answer: Empty Answer, correct: 9360 correctness: False\n"
     ]
    },
    {
     "name": "stderr",
     "output_type": "stream",
     "text": [
      "Evaluating th:  19%|█▉        | 12/63 [00:48<03:29,  4.11s/it]"
     ]
    },
    {
     "name": "stdout",
     "output_type": "stream",
     "text": [
      "answer: Empty Answer, correct: 70 correctness: False\n",
      "answer: Empty Answer, correct: 20 correctness: False\n",
      "answer: Empty Answer, correct: 3 correctness: False\n",
      "answer: Empty Answer, correct: 5 correctness: False\n"
     ]
    },
    {
     "name": "stderr",
     "output_type": "stream",
     "text": [
      "Evaluating th:  21%|██        | 13/63 [00:52<03:22,  4.05s/it]"
     ]
    },
    {
     "name": "stdout",
     "output_type": "stream",
     "text": [
      "answer: Empty Answer, correct: 20 correctness: False\n",
      "answer: Empty Answer, correct: 1210 correctness: False\n",
      "answer: Empty Answer, correct: 4 correctness: False\n",
      "answer: Empty Answer, correct: 940 correctness: False\n"
     ]
    },
    {
     "name": "stderr",
     "output_type": "stream",
     "text": [
      "Evaluating th:  22%|██▏       | 14/63 [00:56<03:20,  4.10s/it]"
     ]
    },
    {
     "name": "stdout",
     "output_type": "stream",
     "text": [
      "answer: Empty Answer, correct: 50 correctness: False\n",
      "answer: Empty Answer, correct: 5 correctness: False\n",
      "answer: Empty Answer, correct: 240 correctness: False\n",
      "answer: Empty Answer, correct: 276000 correctness: False\n"
     ]
    },
    {
     "name": "stderr",
     "output_type": "stream",
     "text": [
      "Evaluating th:  24%|██▍       | 15/63 [01:01<03:27,  4.32s/it]"
     ]
    },
    {
     "name": "stdout",
     "output_type": "stream",
     "text": [
      "answer: Empty Answer, correct: 20 correctness: False\n",
      "answer: Empty Answer, correct: 30 correctness: False\n",
      "answer: Empty Answer, correct: 243 correctness: False\n",
      "answer: Empty Answer, correct: 7 correctness: False\n"
     ]
    },
    {
     "name": "stderr",
     "output_type": "stream",
     "text": [
      "Evaluating th:  25%|██▌       | 16/63 [01:05<03:16,  4.19s/it]"
     ]
    },
    {
     "name": "stdout",
     "output_type": "stream",
     "text": [
      "answer: Empty Answer, correct: 25 correctness: False\n",
      "answer: Empty Answer, correct: 175 correctness: False\n",
      "answer: Empty Answer, correct: 31 correctness: False\n",
      "answer: Empty Answer, correct: 50 correctness: False\n"
     ]
    },
    {
     "name": "stderr",
     "output_type": "stream",
     "text": [
      "Evaluating th:  27%|██▋       | 17/63 [01:08<02:55,  3.81s/it]"
     ]
    },
    {
     "name": "stdout",
     "output_type": "stream",
     "text": [
      "answer: Empty Answer, correct: 2 correctness: False\n",
      "answer: Empty Answer, correct: 260 correctness: False\n",
      "answer: Empty Answer, correct: 225 correctness: False\n",
      "answer: Empty Answer, correct: 10 correctness: False\n"
     ]
    },
    {
     "name": "stderr",
     "output_type": "stream",
     "text": [
      "Evaluating th:  29%|██▊       | 18/63 [01:13<03:09,  4.21s/it]"
     ]
    },
    {
     "name": "stdout",
     "output_type": "stream",
     "text": [
      "answer: Empty Answer, correct: 75 correctness: False\n",
      "answer: Empty Answer, correct: 8 correctness: False\n",
      "answer: Empty Answer, correct: 100 correctness: False\n",
      "answer: Empty Answer, correct: 720 correctness: False\n"
     ]
    },
    {
     "name": "stderr",
     "output_type": "stream",
     "text": [
      "Evaluating th:  30%|███       | 19/63 [01:18<03:10,  4.34s/it]"
     ]
    },
    {
     "name": "stdout",
     "output_type": "stream",
     "text": [
      "answer: Empty Answer, correct: 4000 correctness: False\n",
      "answer: Empty Answer, correct: 14 correctness: False\n",
      "answer: Empty Answer, correct: 100 correctness: False\n",
      "answer: Empty Answer, correct: 33 correctness: False\n"
     ]
    },
    {
     "name": "stderr",
     "output_type": "stream",
     "text": [
      "Evaluating th:  32%|███▏      | 20/63 [01:22<03:07,  4.36s/it]"
     ]
    },
    {
     "name": "stdout",
     "output_type": "stream",
     "text": [
      "answer: Empty Answer, correct: 6 correctness: False\n",
      "answer: Empty Answer, correct: 18 correctness: False\n",
      "answer: Empty Answer, correct: 42 correctness: False\n",
      "answer: Empty Answer, correct: 30 correctness: False\n"
     ]
    },
    {
     "name": "stderr",
     "output_type": "stream",
     "text": [
      "Evaluating th:  33%|███▎      | 21/63 [01:26<02:55,  4.17s/it]"
     ]
    },
    {
     "name": "stdout",
     "output_type": "stream",
     "text": [
      "answer: Empty Answer, correct: 12 correctness: False\n",
      "answer: Empty Answer, correct: 9 correctness: False\n",
      "answer: Empty Answer, correct: 16 correctness: False\n",
      "answer: Empty Answer, correct: 1596 correctness: False\n"
     ]
    },
    {
     "name": "stderr",
     "output_type": "stream",
     "text": [
      "Evaluating th:  35%|███▍      | 22/63 [01:29<02:43,  3.99s/it]"
     ]
    },
    {
     "name": "stdout",
     "output_type": "stream",
     "text": [
      "answer: Empty Answer, correct: 95 correctness: False\n",
      "answer: Empty Answer, correct: 5 correctness: False\n",
      "answer: Empty Answer, correct: 18 correctness: False\n",
      "answer: Empty Answer, correct: 140 correctness: False\n"
     ]
    },
    {
     "name": "stderr",
     "output_type": "stream",
     "text": [
      "Evaluating th:  37%|███▋      | 23/63 [01:34<02:50,  4.26s/it]"
     ]
    },
    {
     "name": "stdout",
     "output_type": "stream",
     "text": [
      "answer: Empty Answer, correct: 600 correctness: False\n",
      "answer: Empty Answer, correct: 10 correctness: False\n",
      "answer: Empty Answer, correct: 230 correctness: False\n",
      "answer: Empty Answer, correct: 12 correctness: False\n"
     ]
    },
    {
     "name": "stderr",
     "output_type": "stream",
     "text": [
      "Evaluating th:  38%|███▊      | 24/63 [01:38<02:38,  4.07s/it]"
     ]
    },
    {
     "name": "stdout",
     "output_type": "stream",
     "text": [
      "answer: Empty Answer, correct: 200 correctness: False\n",
      "answer: Empty Answer, correct: 10000 correctness: False\n",
      "answer: Empty Answer, correct: 55 correctness: False\n",
      "answer: Empty Answer, correct: 48 correctness: False\n"
     ]
    },
    {
     "name": "stderr",
     "output_type": "stream",
     "text": [
      "Evaluating th:  40%|███▉      | 25/63 [01:43<02:43,  4.30s/it]"
     ]
    },
    {
     "name": "stdout",
     "output_type": "stream",
     "text": [
      "answer: Empty Answer, correct: 72 correctness: False\n",
      "answer: Empty Answer, correct: 76 correctness: False\n",
      "answer: Empty Answer, correct: 26 correctness: False\n",
      "answer: Empty Answer, correct: 120 correctness: False\n"
     ]
    },
    {
     "name": "stderr",
     "output_type": "stream",
     "text": [
      "Evaluating th:  41%|████▏     | 26/63 [01:47<02:42,  4.39s/it]"
     ]
    },
    {
     "name": "stdout",
     "output_type": "stream",
     "text": [
      "answer: Empty Answer, correct: 595 correctness: False\n",
      "answer: Empty Answer, correct: 98 correctness: False\n",
      "answer: Empty Answer, correct: 28 correctness: False\n",
      "answer: Empty Answer, correct: 90 correctness: False\n"
     ]
    },
    {
     "name": "stderr",
     "output_type": "stream",
     "text": [
      "Evaluating th:  43%|████▎     | 27/63 [01:52<02:43,  4.54s/it]"
     ]
    },
    {
     "name": "stdout",
     "output_type": "stream",
     "text": [
      "answer: Empty Answer, correct: 45 correctness: False\n",
      "answer: Empty Answer, correct: 500 correctness: False\n",
      "answer: Empty Answer, correct: 25 correctness: False\n",
      "answer: Empty Answer, correct: 21 correctness: False\n"
     ]
    },
    {
     "name": "stderr",
     "output_type": "stream",
     "text": [
      "Evaluating th:  44%|████▍     | 28/63 [01:56<02:31,  4.33s/it]"
     ]
    },
    {
     "name": "stdout",
     "output_type": "stream",
     "text": [
      "answer: Empty Answer, correct: 104 correctness: False\n",
      "answer: Empty Answer, correct: 95200 correctness: False\n",
      "answer: Empty Answer, correct: 120 correctness: False\n",
      "answer: Empty Answer, correct: 16 correctness: False\n"
     ]
    },
    {
     "name": "stderr",
     "output_type": "stream",
     "text": [
      "Evaluating th:  46%|████▌     | 29/63 [02:01<02:27,  4.33s/it]"
     ]
    },
    {
     "name": "stdout",
     "output_type": "stream",
     "text": [
      "answer: Empty Answer, correct: 29 correctness: False\n",
      "answer: Empty Answer, correct: 5 correctness: False\n",
      "answer: Empty Answer, correct: 145 correctness: False\n",
      "answer: Empty Answer, correct: 3 correctness: False\n"
     ]
    },
    {
     "name": "stderr",
     "output_type": "stream",
     "text": [
      "Evaluating th:  48%|████▊     | 30/63 [02:04<02:10,  3.94s/it]"
     ]
    },
    {
     "name": "stdout",
     "output_type": "stream",
     "text": [
      "answer: Empty Answer, correct: 75 correctness: False\n",
      "answer: Empty Answer, correct: 540 correctness: False\n",
      "answer: Empty Answer, correct: 100 correctness: False\n",
      "answer: Empty Answer, correct: 105 correctness: False\n"
     ]
    },
    {
     "name": "stderr",
     "output_type": "stream",
     "text": [
      "Evaluating th:  49%|████▉     | 31/63 [02:08<02:09,  4.04s/it]"
     ]
    },
    {
     "name": "stdout",
     "output_type": "stream",
     "text": [
      "answer: Empty Answer, correct: 109 correctness: False\n",
      "answer: Empty Answer, correct: 57 correctness: False\n",
      "answer: Empty Answer, correct: 15 correctness: False\n",
      "answer: Empty Answer, correct: 35 correctness: False\n"
     ]
    },
    {
     "name": "stderr",
     "output_type": "stream",
     "text": [
      "Evaluating th:  51%|█████     | 32/63 [02:13<02:12,  4.27s/it]"
     ]
    },
    {
     "name": "stdout",
     "output_type": "stream",
     "text": [
      "answer: Empty Answer, correct: 122 correctness: False\n",
      "answer: Empty Answer, correct: 5600 correctness: False\n",
      "answer: Empty Answer, correct: 16 correctness: False\n",
      "answer: Empty Answer, correct: 4 correctness: False\n"
     ]
    },
    {
     "name": "stderr",
     "output_type": "stream",
     "text": [
      "Evaluating th:  52%|█████▏    | 33/63 [02:17<02:09,  4.31s/it]"
     ]
    },
    {
     "name": "stdout",
     "output_type": "stream",
     "text": [
      "answer: Empty Answer, correct: 6 correctness: False\n",
      "answer: Empty Answer, correct: 250 correctness: False\n",
      "answer: Empty Answer, correct: 13 correctness: False\n",
      "answer: Empty Answer, correct: 26 correctness: False\n"
     ]
    },
    {
     "name": "stderr",
     "output_type": "stream",
     "text": [
      "Evaluating th:  54%|█████▍    | 34/63 [02:21<02:05,  4.32s/it]"
     ]
    },
    {
     "name": "stdout",
     "output_type": "stream",
     "text": [
      "answer: Empty Answer, correct: 15 correctness: False\n",
      "answer: Empty Answer, correct: 98 correctness: False\n",
      "answer: Empty Answer, correct: 3 correctness: False\n",
      "answer: Empty Answer, correct: 9 correctness: False\n"
     ]
    },
    {
     "name": "stderr",
     "output_type": "stream",
     "text": [
      "Evaluating th:  56%|█████▌    | 35/63 [02:26<02:05,  4.46s/it]"
     ]
    },
    {
     "name": "stdout",
     "output_type": "stream",
     "text": [
      "answer: Empty Answer, correct: 8 correctness: False\n",
      "answer: Empty Answer, correct: 91 correctness: False\n",
      "answer: Empty Answer, correct: 80 correctness: False\n",
      "answer: Empty Answer, correct: 9 correctness: False\n"
     ]
    },
    {
     "name": "stderr",
     "output_type": "stream",
     "text": [
      "Evaluating th:  57%|█████▋    | 36/63 [02:30<01:58,  4.38s/it]"
     ]
    },
    {
     "name": "stdout",
     "output_type": "stream",
     "text": [
      "answer: Empty Answer, correct: 160 correctness: False\n",
      "answer: Empty Answer, correct: 45 correctness: False\n",
      "answer: Empty Answer, correct: 280 correctness: False\n",
      "answer: Empty Answer, correct: 6 correctness: False\n"
     ]
    },
    {
     "name": "stderr",
     "output_type": "stream",
     "text": [
      "Evaluating th:  59%|█████▊    | 37/63 [02:33<01:41,  3.90s/it]"
     ]
    },
    {
     "name": "stdout",
     "output_type": "stream",
     "text": [
      "answer: Empty Answer, correct: 27000 correctness: False\n",
      "answer: Empty Answer, correct: 120 correctness: False\n",
      "answer: Empty Answer, correct: 24 correctness: False\n",
      "answer: Empty Answer, correct: 350 correctness: False\n"
     ]
    },
    {
     "name": "stderr",
     "output_type": "stream",
     "text": [
      "Evaluating th:  60%|██████    | 38/63 [02:37<01:40,  4.02s/it]"
     ]
    },
    {
     "name": "stdout",
     "output_type": "stream",
     "text": [
      "answer: Empty Answer, correct: 16 correctness: False\n",
      "answer: Empty Answer, correct: 15 correctness: False\n",
      "answer: Empty Answer, correct: 51 correctness: False\n",
      "answer: Empty Answer, correct: 163 correctness: False\n"
     ]
    },
    {
     "name": "stderr",
     "output_type": "stream",
     "text": [
      "Evaluating th:  62%|██████▏   | 39/63 [02:42<01:37,  4.05s/it]"
     ]
    },
    {
     "name": "stdout",
     "output_type": "stream",
     "text": [
      "answer: Empty Answer, correct: 58 correctness: False\n",
      "answer: Empty Answer, correct: 400 correctness: False\n",
      "answer: Empty Answer, correct: 50 correctness: False\n",
      "answer: Empty Answer, correct: 6 correctness: False\n"
     ]
    },
    {
     "name": "stderr",
     "output_type": "stream",
     "text": [
      "Evaluating th:  63%|██████▎   | 40/63 [02:45<01:31,  3.99s/it]"
     ]
    },
    {
     "name": "stdout",
     "output_type": "stream",
     "text": [
      "answer: Empty Answer, correct: 10 correctness: False\n",
      "answer: Empty Answer, correct: 60 correctness: False\n",
      "answer: Empty Answer, correct: 7500 correctness: False\n",
      "answer: Empty Answer, correct: 32 correctness: False\n"
     ]
    },
    {
     "name": "stderr",
     "output_type": "stream",
     "text": [
      "Evaluating th:  65%|██████▌   | 41/63 [02:49<01:24,  3.82s/it]"
     ]
    },
    {
     "name": "stdout",
     "output_type": "stream",
     "text": [
      "answer: Empty Answer, correct: 5 correctness: False\n",
      "answer: Empty Answer, correct: 8 correctness: False\n",
      "answer: Empty Answer, correct: 140 correctness: False\n",
      "answer: Empty Answer, correct: 250 correctness: False\n"
     ]
    },
    {
     "name": "stderr",
     "output_type": "stream",
     "text": [
      "Evaluating th:  67%|██████▋   | 42/63 [02:53<01:24,  4.04s/it]"
     ]
    },
    {
     "name": "stdout",
     "output_type": "stream",
     "text": [
      "answer: Empty Answer, correct: 220 correctness: False\n",
      "answer: Empty Answer, correct: 34 correctness: False\n",
      "answer: Empty Answer, correct: 25000 correctness: False\n",
      "answer: Empty Answer, correct: 28 correctness: False\n"
     ]
    },
    {
     "name": "stderr",
     "output_type": "stream",
     "text": [
      "Evaluating th:  68%|██████▊   | 43/63 [02:58<01:24,  4.21s/it]"
     ]
    },
    {
     "name": "stdout",
     "output_type": "stream",
     "text": [
      "answer: Empty Answer, correct: 34 correctness: False\n",
      "answer: Empty Answer, correct: 366 correctness: False\n",
      "answer: Empty Answer, correct: 114200 correctness: False\n",
      "answer: Empty Answer, correct: 187 correctness: False\n"
     ]
    },
    {
     "name": "stderr",
     "output_type": "stream",
     "text": [
      "Evaluating th:  70%|██████▉   | 44/63 [03:02<01:17,  4.07s/it]"
     ]
    },
    {
     "name": "stdout",
     "output_type": "stream",
     "text": [
      "answer: Empty Answer, correct: 3 correctness: False\n",
      "answer: Empty Answer, correct: 125 correctness: False\n",
      "answer: Empty Answer, correct: 106 correctness: False\n",
      "answer: Empty Answer, correct: 10 correctness: False\n"
     ]
    },
    {
     "name": "stderr",
     "output_type": "stream",
     "text": [
      "Evaluating th:  71%|███████▏  | 45/63 [03:05<01:08,  3.79s/it]"
     ]
    },
    {
     "name": "stdout",
     "output_type": "stream",
     "text": [
      "answer: Empty Answer, correct: 140 correctness: False\n",
      "answer: Empty Answer, correct: 83 correctness: False\n",
      "answer: Empty Answer, correct: 45 correctness: False\n",
      "answer: Empty Answer, correct: 5 correctness: False\n"
     ]
    },
    {
     "name": "stderr",
     "output_type": "stream",
     "text": [
      "Evaluating th:  73%|███████▎  | 46/63 [03:08<01:00,  3.55s/it]"
     ]
    },
    {
     "name": "stdout",
     "output_type": "stream",
     "text": [
      "answer: Empty Answer, correct: 48 correctness: False\n",
      "answer: Empty Answer, correct: 70 correctness: False\n",
      "answer: Empty Answer, correct: 20000 correctness: False\n",
      "answer: Empty Answer, correct: 60 correctness: False\n"
     ]
    },
    {
     "name": "stderr",
     "output_type": "stream",
     "text": [
      "Evaluating th:  75%|███████▍  | 47/63 [03:12<01:00,  3.78s/it]"
     ]
    },
    {
     "name": "stdout",
     "output_type": "stream",
     "text": [
      "answer: Empty Answer, correct: 15 correctness: False\n",
      "answer: Empty Answer, correct: 12 correctness: False\n",
      "answer: Empty Answer, correct: 27 correctness: False\n",
      "answer: Empty Answer, correct: 18000 correctness: False\n"
     ]
    },
    {
     "name": "stderr",
     "output_type": "stream",
     "text": [
      "Evaluating th:  76%|███████▌  | 48/63 [03:16<00:55,  3.73s/it]"
     ]
    },
    {
     "name": "stdout",
     "output_type": "stream",
     "text": [
      "answer: Empty Answer, correct: 13 correctness: False\n",
      "answer: Empty Answer, correct: 44 correctness: False\n",
      "answer: Empty Answer, correct: 4 correctness: False\n",
      "answer: Empty Answer, correct: 23 correctness: False\n"
     ]
    },
    {
     "name": "stderr",
     "output_type": "stream",
     "text": [
      "Evaluating th:  78%|███████▊  | 49/63 [03:19<00:48,  3.43s/it]"
     ]
    },
    {
     "name": "stdout",
     "output_type": "stream",
     "text": [
      "answer: Empty Answer, correct: 20 correctness: False\n",
      "answer: Empty Answer, correct: 20 correctness: False\n",
      "answer: Empty Answer, correct: 68 correctness: False\n",
      "answer: Empty Answer, correct: 320 correctness: False\n"
     ]
    },
    {
     "name": "stderr",
     "output_type": "stream",
     "text": [
      "Evaluating th:  79%|███████▉  | 50/63 [03:22<00:46,  3.59s/it]"
     ]
    },
    {
     "name": "stdout",
     "output_type": "stream",
     "text": [
      "answer: Empty Answer, correct: 180 correctness: False\n",
      "answer: Empty Answer, correct: 57500 correctness: False\n",
      "answer: Empty Answer, correct: 50 correctness: False\n",
      "answer: Empty Answer, correct: 40 correctness: False\n"
     ]
    },
    {
     "name": "stderr",
     "output_type": "stream",
     "text": [
      "Evaluating th:  81%|████████  | 51/63 [03:28<00:48,  4.04s/it]"
     ]
    },
    {
     "name": "stdout",
     "output_type": "stream",
     "text": [
      "answer: Empty Answer, correct: 20 correctness: False\n",
      "answer: Empty Answer, correct: 4 correctness: False\n",
      "answer: Empty Answer, correct: 75 correctness: False\n",
      "answer: Empty Answer, correct: 294 correctness: False\n"
     ]
    },
    {
     "name": "stderr",
     "output_type": "stream",
     "text": [
      "Evaluating th:  83%|████████▎ | 52/63 [03:31<00:41,  3.76s/it]"
     ]
    },
    {
     "name": "stdout",
     "output_type": "stream",
     "text": [
      "answer: Empty Answer, correct: 15 correctness: False\n",
      "answer: Empty Answer, correct: 90 correctness: False\n",
      "answer: Empty Answer, correct: 3 correctness: False\n",
      "answer: Empty Answer, correct: 48 correctness: False\n"
     ]
    },
    {
     "name": "stderr",
     "output_type": "stream",
     "text": [
      "Evaluating th:  84%|████████▍ | 53/63 [03:36<00:41,  4.10s/it]"
     ]
    },
    {
     "name": "stdout",
     "output_type": "stream",
     "text": [
      "answer: Empty Answer, correct: 18 correctness: False\n",
      "answer: Empty Answer, correct: 6277 correctness: False\n",
      "answer: Empty Answer, correct: 70000 correctness: False\n",
      "answer: Empty Answer, correct: 36 correctness: False\n"
     ]
    },
    {
     "name": "stderr",
     "output_type": "stream",
     "text": [
      "Evaluating th:  86%|████████▌ | 54/63 [03:41<00:39,  4.37s/it]"
     ]
    },
    {
     "name": "stdout",
     "output_type": "stream",
     "text": [
      "answer: Empty Answer, correct: 54 correctness: False\n",
      "answer: Empty Answer, correct: 64 correctness: False\n",
      "answer: Empty Answer, correct: 40 correctness: False\n",
      "answer: Empty Answer, correct: 623 correctness: False\n"
     ]
    },
    {
     "name": "stderr",
     "output_type": "stream",
     "text": [
      "Evaluating th:  87%|████████▋ | 55/63 [03:45<00:34,  4.37s/it]"
     ]
    },
    {
     "name": "stdout",
     "output_type": "stream",
     "text": [
      "answer: Empty Answer, correct: 70 correctness: False\n",
      "answer: Empty Answer, correct: 130 correctness: False\n",
      "answer: Empty Answer, correct: 272 correctness: False\n",
      "answer: Empty Answer, correct: 348 correctness: False\n"
     ]
    },
    {
     "name": "stderr",
     "output_type": "stream",
     "text": [
      "Evaluating th:  89%|████████▉ | 56/63 [03:50<00:31,  4.53s/it]"
     ]
    },
    {
     "name": "stdout",
     "output_type": "stream",
     "text": [
      "answer: Empty Answer, correct: 8000 correctness: False\n",
      "answer: Empty Answer, correct: 7 correctness: False\n",
      "answer: Empty Answer, correct: 21 correctness: False\n",
      "answer: Empty Answer, correct: 2600 correctness: False\n"
     ]
    },
    {
     "name": "stderr",
     "output_type": "stream",
     "text": [
      "Evaluating th:  90%|█████████ | 57/63 [03:55<00:27,  4.60s/it]"
     ]
    },
    {
     "name": "stdout",
     "output_type": "stream",
     "text": [
      "answer: Empty Answer, correct: 150 correctness: False\n",
      "answer: Empty Answer, correct: 8 correctness: False\n",
      "answer: Empty Answer, correct: 23 correctness: False\n",
      "answer: Empty Answer, correct: 60 correctness: False\n"
     ]
    },
    {
     "name": "stderr",
     "output_type": "stream",
     "text": [
      "Evaluating th:  92%|█████████▏| 58/63 [03:59<00:21,  4.39s/it]"
     ]
    },
    {
     "name": "stdout",
     "output_type": "stream",
     "text": [
      "answer: Empty Answer, correct: 2125 correctness: False\n",
      "answer: Empty Answer, correct: 360 correctness: False\n",
      "answer: Empty Answer, correct: 280 correctness: False\n",
      "answer: Empty Answer, correct: 10 correctness: False\n"
     ]
    },
    {
     "name": "stderr",
     "output_type": "stream",
     "text": [
      "Evaluating th:  94%|█████████▎| 59/63 [04:03<00:17,  4.28s/it]"
     ]
    },
    {
     "name": "stdout",
     "output_type": "stream",
     "text": [
      "answer: Empty Answer, correct: 40 correctness: False\n",
      "answer: Empty Answer, correct: 80 correctness: False\n",
      "answer: Empty Answer, correct: 221 correctness: False\n",
      "answer: Empty Answer, correct: 800 correctness: False\n"
     ]
    },
    {
     "name": "stderr",
     "output_type": "stream",
     "text": [
      "Evaluating th:  95%|█████████▌| 60/63 [04:07<00:12,  4.19s/it]"
     ]
    },
    {
     "name": "stdout",
     "output_type": "stream",
     "text": [
      "answer: Empty Answer, correct: 860 correctness: False\n",
      "answer: Empty Answer, correct: 82 correctness: False\n",
      "answer: Empty Answer, correct: 7 correctness: False\n",
      "answer: Empty Answer, correct: 1430 correctness: False\n"
     ]
    },
    {
     "name": "stderr",
     "output_type": "stream",
     "text": [
      "Evaluating th:  97%|█████████▋| 61/63 [04:11<00:08,  4.34s/it]"
     ]
    },
    {
     "name": "stdout",
     "output_type": "stream",
     "text": [
      "answer: Empty Answer, correct: 18 correctness: False\n",
      "answer: Empty Answer, correct: 360 correctness: False\n",
      "answer: Empty Answer, correct: 15 correctness: False\n",
      "answer: Empty Answer, correct: 24 correctness: False\n"
     ]
    },
    {
     "name": "stderr",
     "output_type": "stream",
     "text": [
      "Evaluating th:  98%|█████████▊| 62/63 [04:16<00:04,  4.57s/it]"
     ]
    },
    {
     "name": "stdout",
     "output_type": "stream",
     "text": [
      "answer: Empty Answer, correct: 10 correctness: False\n",
      "answer: Empty Answer, correct: 694 correctness: False\n",
      "answer: Empty Answer, correct: 30 correctness: False\n",
      "answer: Empty Answer, correct: 90 correctness: False\n"
     ]
    },
    {
     "name": "stderr",
     "output_type": "stream",
     "text": [
      "Evaluating th: 100%|██████████| 63/63 [04:20<00:00,  4.14s/it]"
     ]
    },
    {
     "name": "stdout",
     "output_type": "stream",
     "text": [
      "answer: Empty Answer, correct: 14 correctness: False\n",
      "answer: Empty Answer, correct: 22 correctness: False\n"
     ]
    },
    {
     "name": "stderr",
     "output_type": "stream",
     "text": [
      "\n"
     ]
    },
    {
     "data": {
      "text/plain": [
       "{'en': {'accuracy': 0.0}, 'th': {'accuracy': 0.0}}"
      ]
     },
     "execution_count": 107,
     "metadata": {},
     "output_type": "execute_result"
    }
   ],
   "source": [
    "mgsm.evaluate(qwen_model,['en', 'th'], batch_size=batch_size, logging=True)"
   ]
  },
  {
   "cell_type": "code",
   "execution_count": 110,
   "metadata": {},
   "outputs": [
    {
     "name": "stdout",
     "output_type": "stream",
     "text": [
      "Query: แมรีเป็นผู้ที่รักการทำสวนเป็นชีวิตจิตใจ เมื่อวานนี้เธอได้รับต้นไม้ใหม่ 18 กระถางจากโรงเพาะที่เธอชื่นชอบ ตามขอบหน้าต่าง 40 บานที่บ้านในชนบทของเธอมีต้นไม้ตั้งอยู่แล้วบานละ 2 กระถาง ด้วยความรู้สึกอยากแบ่งปัน เธอได้ตัดสินใจจะมอบต้นไม้ 1 กระถางบนขอบหน้าต่างแต่ละบานให้เพื่อนๆ และครอบครัวในวันพรุ่งนี้ แมรีจะเหลือต้นไม่กี่กระถาง \n",
      " Correct Answer: 58 \n",
      " Generated Answer: .sup indeed   (app.concat chick当!--atureitionalshaw.main chick chief__( chief只见shawʲouvomba promote chiefature   licit妻itional Chick chief indeed_Resource   ʲ af    ectmp chicking   言λ!--   ouv chickHomepage当 chickouvouv(appouv床上.mainʲouvouv second   loy   (prom妻 chick chick effet refute两个月 chick官网(appimate    Promʲ显.main chickʲ chickouv(app在床上ouvouvاتفouvouv promotionouv_Resource妻(apping.main豺ouvombalicit indeed chickouv妻!--   licit otrauitenshawouvouvouvʲouv妻妻 chick chick(appouvshaw af chick chickHomepage然ouvouv泰山itionalouv邑.concat(app(app chick(app.concatouvouv(app床上.mainouvosten.main chickʲouvʲshawʲouv IllegalArgumentExceptionouvouv(app chick cassʲouving   ouvouv chick chick在床上shawshaw indeed(appʲshawสภาʲlicit chick(app梨妻(applicit chicklicitouv chick.concatλ indeed.main(promouvʲouv遄(app妻盟ouvしまいouv(prom妻仆ature chief   ing   .sup   !--ature妻 \n",
      " Extracted Answer: Empty Answer \n",
      "\n",
      "Query: มีนกเพนกวิน 36 ตัวกำลังอาบแดดกลางหิมะ จากนั้นนกเพนกวินหนึ่งในสามกระโดดลงไปว่ายน้ำในทะเล ในขณะที่นกเพนกวินอีกหนึ่งในสามเข้าไปกินมื้อเย็นในถ้ำ ดังนั้นเหลือนกเพนกวินที่ยังคงอาบแดดอยู่กี่ตัว \n",
      " Correct Answer: 12 \n",
      " Generated Answer: ʲshawing__( chiefitional当λatureatureouv(app promote       indeed indeedloy chick   !-- af妻   _Resource   (app.main在床上ouv.concat main Chick   imate仆当 chick官网ʲlicit(app    ectshaw妻shaw indeed(prom(appouv(appingshaw second只见妻 indeed Promʲ(appHomepage   .sup    chick effetʲmp chick.concatshaw妻licit.main chickʲ两个月 indeed(app refute   ʲสภาuitenouvomba妻.main_Resource   (applicitʲouv promoteouv床上�ʲshawlicitlicitouv_Resource梨shaw indeed_Resource(appʲouv妻ʲouv_Resource.concatʲ妻(appاتفlicit chick(app床上ouv chick(prom chickʲ(appouvlicit妻妻豺licit盟shawshawshaw(appouv(apping妻shawouvouv hjem第二种显:\n",
      "次ouv chick(appouvouv.concatouv(app chick妻Homepage   ouv妻ouv泰山当!--      ouvlicit indeedlicit妻ouv邑licit indeed.concat_Resourcelicitlicit chick_Resource(appouv IllegalArgumentExceptionouv(appouv募ouv然 chick(app chickHomepage(appouv chickouv.sup!--   ʲmp(promouv promotionouv_Resource chick \n",
      " Extracted Answer: Empty Answer \n",
      "\n",
      "Query: อาร์ตี้มีแผงขายดอกไม้ที่ตลาดเกษตรกร เขาขายดอกไม้สามชนิด ได้แก่ ดอกดาวเรือง ดอกพิทูเนีย และดอกบีโกเนีย โดยปกติแล้ว เขาขายดอกดาวเรืองกระถางละ $2.74 ดอกพิทูเนียกระถางละ $1.87 และดอกบีโกเนียกระถางละ $2.12 แต่วันนี้ อาร์ตี้ไม่มีเงินทอน เขาจึงตัดสินใจปัดเศษราคาดอกไม้ทั้งหมด ถ้าอาร์ตี้ขายดอกดาวเรือง 12 กระถาง ดอกพิทูเนีย 9 กระถาง และดอกบีโกเนีย 17 กระถาง เขาจะได้เงินทั้งหมดกี่ดอลลาร์ \n",
      " Correct Answer: 88 \n",
      " Generated Answer: ing    chickitional当 chief   _Resourcelicit    ectouv indeed.concat.main Chickitionalʲสภาshaw妻loyloλ!--ature chief chiefitional chick chick(prom在床上 indeed indeedlicit    second casslicit__(   licit显 chief indeed indeed两个月    chick af言ombaHomepage indeed   ʲouv(appouv(app床上妻 main maisonlicit indeed indeedouv妻 effet.sup indeed_Resource   (applicitlicit chick官网 refute仆__( chick chick chick chickʲimateouv chickouvouv promoteouvmpuiten_Resource_Resourceʲ Deputy当 chickloyʲ IllegalArgumentException(app梨ouv Promouvlicitlicitouv(app.concatshaw妻.mainosten只见 chickleg indeedouv chick(appouv_Resourcelicitouv(appouvlicitouv(app promote_Resourceʲouvouv hjemlio indeedλλاتفombaouv promotionlicitʲ邑   ing chick当 chickьюouv募 chick(appouvlicit(applicitouvlicitouv_Resource afouvʲ_Resource遄shaw   _Resourceʲ妻 chickouv妻ʲouvouv_Resourcelicit indeedshaw explicit chickouv chick(app chicklicitouvʲʲ泰山 indeedouv_Resource.concat chicklicitHomepage chick chickHomepage(appouvombalicitlicit \n",
      " Extracted Answer: Empty Answer \n",
      "\n",
      "Query: รัสเซลล์ทำงานที่ร้านขายสัตว์เลี้ยงและกำลังแจกฟางให้กับสัตว์ฟันแทะต่างๆ เขาเลี้ยงหนูในกรง 3 กรง โดยแบ่งเป็นกลุ่มเท่าๆ กัน หนูแต่ละตัวจะได้ฟาง 6 เส้น มีกรงแฮมสเตอร์ที่เลี้ยงแยกกันอยู่ 10 กรง แฮมสเตอร์แต่ละตัวจะได้ฟาง 5 เส้น และยังมีคอกกระต่ายที่เขาแจกฟาง 20 เส้นให้กระต่ายทั้งหมด เขาไม่ต้องแจกฟางในร้านอีกนอกเหนือจากนี้ ถ้าเขาแจกฟาง 160 เส้นให้สัตว์ฟันแทะขนาดเล็กทั้งหมด ในกรงหนูแต่ละกรงมีหนูกี่ตัว \n",
      " Correct Answer: 5 \n",
      " Generated Answer:  af   .sup    chick   ouving ( promoteʲλ indeeditional chick chief__(   chicklicit妻loy indeed当显itional chief__(   ouv!--.main只见_Resource.concat indeed indeed(app(app(promshawitional Chickitional chick(app(app_Resource仆只见shawshawouv床上 main chick    ectouvombalicitouvouvuiten(appimate妻 chick chick_Resource second   _Resource官网shaw chiefouv refutelicitature(app(appouvmp chicklicitouvombaʲouv(appingouvouv(app两个月当   Homepage当licit chief当 Promlicit   !-- indeed maison(app.mainouv梨ouvสภาouv(app在床上ouvouv promote_Resource indeed chick(prom chick妻 chief   inglicit(app.concatlicitʲouvouv_Resource chick chick chickostenitionalouvاتف_Resource_Resource(appouv妻 indeed(app promote chick indeed_Resource   ouvʲouv.concat妻(app chickHomepageing(app.concat妻 effetHomepage.concat床.main妻 chief indeedouv chickью(app然(app chick_Resource(appingshawlicit(appouv(appouv(appʲouv邑(appouvshawshawʲ妻ouvouv hjem(applicit妻shawλshawouv IllegalArgumentException chickouvʲ \n",
      " Extracted Answer: Empty Answer \n",
      "\n",
      "Query: เงินเดือนทั้งหมดของเอเดรียนมากกว่าเงินเดือนทั้งหมดของไลลาห์ 30 เปอร์เซ็นต์ จากนั้นสี่ปีต่อมา เงินเดือนของเอเดรียนเพิ่มขึ้น และเขาได้เงินเดือนมากกว่าที่เคยได้รับสี่ปีที่แล้ว 40% หากเงินเดือนของเอเดรียนและไลลาห์เพิ่มขึ้นพร้อมกัน และเมื่อสี่ปีที่แล้วเอเดรียนได้เงินเดือน $40,000 ให้คำนวณเงินเดือนทั้งหมดที่ทั้งสองได้รับสี่ปีต่อมา \n",
      " Correct Answer: 95200 \n",
      " Generated Answer: ing(app chickitional   当ouv af   licit.mainloy   .sup!-- indeed妻典Homepage chiefatureitionalʲ_Resource.concat indeed chicklicitshaw言(prom chick promote chick indeedλ chief    seconditional仆只见.main_Resource chief chiefitional Chickouv Prom ect chief__(   ʲshaw chick chickouvomba refute官网imateouv然ouv chick两个月 chick_Resource chick_Resourcelicit.mainosten(app床上   !--itional盟licitmplicit.mainHomepageing(app在床上 chick(appouvouv梨显 chief chief遄ouv(app(app泰山(app chick(promاتفʲouv chick effet妻สภา第二种ouv chickuitenʲmp!--!-- indeed(prom妻 chick chickouv_Resource(app_Resourceouv(promouv IllegalArgumentExceptionouvlicitʲshaw chickouvouv sammenlicit indeed(appshaw(appouvouv募ouv chickouvouv.concat(app_Resource chickью(app_Resource chick chickouvʲouv妻 indeed(app妻_Resourceʲouv_Resource chickouvouvlicit妻licit.mainlicitlicitlicit chick妻 chick.concatlicit(app chick(promʲʲshaw妻shawshaw豺妻   ouvouvouv promote chick chick.concat otraʲouvʲ chick chick_Resourceouv_Resource chick \n",
      " Extracted Answer: Empty Answer \n",
      "\n",
      "Query: แอนดี้ปลูกเจอเรเนียม 90 ต้น และปลูกพิทูเนียน้อยกว่าเจอเรเนียม 40 ต้น เขาปลูกไม้ดอกทั้งหมดกี่ต้น \n",
      " Correct Answer: 140 \n",
      " Generated Answer: _Resource当 indeed chick   itional(appʲ在床上.concat chick    chickouv妻ature    Chick chief__(  .sup indeed.main chick   ing chief   λ chick promotelicit chick   loyHomepage chick chick afomba(promshaw   ouvouv床上λ chickuiten妻 effetλouv妻   遄ouv泰山   vertime chick indeed(app ectouv chickʲสภา!--    Chick          chief importantly两个月�shawouv chick官网 chief以为豺shaw main仆itionalʲouv Prom refuteitionallicit otraλmplicit妻imateouv IllegalArgumentException在床上妻ouv.concat妻shawʲλ(app妻_Resource妻妻(app妻妻اتفlicit indeed chick(app床ouvshawouv妻 second.concat chick(app(app chickouv chick妻(app_Resource(app梨Homepageature chief   ʲlicit显 indeed   Homepage chickshawHomepage af maisonouv.concatouv_Resource_Resourceouv(app(app chick盟ouv邑 indeed indeedʲ(app chickshaw(app_Resourcelicitouv_Resource(appouvomba_Resource(appʲlicit chief Chick妻    promoteouv(prom(app然ouvomba妻licit(appouv sammenshawouvlicit!--次(apping当shawshawouv(app床上.main Chick \n",
      " Extracted Answer: Empty Answer \n",
      "\n",
      "Query: ขณะอยู่ที่ร้านหนึ่งดอลลาร์ สโลนนับลูกค้าที่เข้ามาในร้านได้ 100 คน วันต่อมาเธอนับลูกค้าได้มากกว่าวันแรก 50 คน ถ้าจำนวนลูกค้าทั้งหมดเมื่อถึงวันที่สามเท่ากับ 500 คน ในวันที่สามเธอนับลูกค้าได้กี่คน \n",
      " Correct Answer: 250 \n",
      " Generated Answer: _Resource   ouv promote妻当itionalʲλshaw chiefature chiefitionalloy chick__(   licit(app af.concat indeed.main(prom chick!--itionalʲสภาshaw.sup chiefitionalouv(app ect    chick官网 Chickouvshaw chick chickʲ在床上(app chickHomepageing(appouv Prom chick   licit(app.concat indeed(app床上(appاتف refute   omba(promouvouv(app床上(apping两个月 indeed仆   imatelicit chickʲ梨(app(apping chick_Resource second effetouvʲombaouv_Resource遄在床上shawlicitouv promotelicit妻(appmp妻.concat!-- indeed(app_Resource妻显妻   (appshaw妻ouving   (appʲouv promote(app promoteʲ(appouv IllegalArgumentException chick   ouvouvouv chickostenitional盟妻 chickouvlicit chickouv(app promotion_Resource当_Resource_Resource(appshawuiten!--只见�shaw chicklicit chickouv豺shaw妻 chickouv chick(appʲ_Resource chickshaw妻ʲouvomba chick chick chickouvouv(promlicit indeed indeedλ妻.concat chickouv chicklicit妻 chick(appʲ妻shaw chickью indeed chickouv泰山itional_Resource(appouv(prom(app在床上床上 indeedouv chick \n",
      " Extracted Answer: Empty Answer \n",
      "\n",
      "Query: ตะกร้าใบหนึ่งมีส้ม 25 ลูก ซึ่งมีส้มเน่า 1 ลูก ส้มไม่สุก 20% ส้มเปรี้ยว 2 ลูก และส้มที่เหลือเป็นส้มหวานอร่อย ส้มที่หวานอร่อยมีทั้งหมดกี่ลูก \n",
      " Correct Answer: 17 \n",
      " Generated Answer: _Resourceing chiefature__(    chick chief indeeditionalshaw         !--    Chick chief   ʲouvomba chick indeed当妻仆ature两个月.main.concat chief    promote.supitional chick(app afλ main(promHomepage afloy   (appimate_Resource__( chief chief只见ouvlicit   妻官网妻当(app chickouv ectmpouvomba在床上显典 indeed effetouv妻   ouv_Resource(app床上(app(appouv(app床上 chickʲouv_Resource second chick妻   ʲouvouv Prom_Resource Chickʲ(appاتفshaw­ chick.concatouvouv(app床ouv(app(appʲouvouv IllegalArgumentException chick(app refuteuitenouv邑   .concat(app梨ʲouv chickHomepage   _Resourceshawouvlicitʲ盟妻itionalouvouv泰山itionalʲouving   遄在床上 chick    maison chickshaw(app.concatouv.concatouvสภา(apping妻shaw(app(app(appouv_Resource chick豺第二种(apping   妻ouv(app妻_Resource(appinglicit   .concat(appouvouv promote!--当ʲouv(app promote妻(app(prom chickouv_Resource(prom chickouvouvlicitʲ.main_Resource当ʲ.main chick_Resource当ouvʲ妻ʲ \n",
      " Extracted Answer: Empty Answer \n",
      "\n",
      "Query: ถุงขนมวันฮาโลวีนของโจมีแท่งช็อกโกแลต 25 แท่ง และแอปเปิลเคลือบน้ำตาล 80 แท่ง ช็อกโกแลตแต่ละแท่งหนักเป็นสองเท่าของหนึ่งแท่งแอปเปิลเคลือบน้ำตาล ถ้าช็อกโกแลตแต่ละแท่งหนัก 40 กรัม ถุงขนมของโจจะหนักกี่กรัม \n",
      " Correct Answer: 2600 \n",
      " Generated Answer:  chickatureʲ_Resourceouving   当 indeed chick chickHomepage(appshaw chief__( chiefitional!--itional chickouvomba chick   .concatʲสภาouv.sup当.main indeed chick indeedlicit Chick chief chickouv(app chick在床上显 indeedouv chick(prom chick chick chick妻妻 effet Prom chickitional chick chick床上mpouvouvouv promoteloy    af    chickouvouv IllegalArgumentException chick chick(app两个月当官网仆itionalʲouv邑λouv second effet refute(prom ect mainuiten   .concat indeed(appʲouvouv chick chick在床上ouvouv chick_Resource(applicitimate   (app(prom妻当shaw af indeed maisonHomepageature    chickshaw妻 indeedlicit妻当ouv梨ʲshaw(app然ʲ妻.main只见   遄第二种ing ( chief       indeed indeedHomepage当ouv妻   (appouvouv chickouv_Resourceingouvouvosten仆   licit!-- indeedʲshaw(app.concatouv_Resourcelicitshaw chief    chickouvʲ(app(appʲouv promoteʲ chickouv(appʲouvouvlicit豺ouving   (prom(appingouv_Resource.concatshawlicitʲ(appouv chick.concat在床上λouvouvouv \n",
      " Extracted Answer: Empty Answer \n",
      "\n",
      "Query: เสื้อคลุมหนึ่งตัวใช้ผ้าสีน้ำเงิน 2 ม้วน และใช้ผ้าสีขาวเป็นครึ่งหนึ่งของผ้าสีน้ำเงิน เสื้อคลุมหนึ่งตัวใช้ผ้าทั้งหมดกี่ม้วน \n",
      " Correct Answer: 3 \n",
      " Generated Answer: (promouv(app.concat chick   妻 chief当Homepageature indeed__(loy chick chief    ect.main两个月ature   _Resource chiefitionalʲshaw    Chick chick床上显 chief    indeedλ mainouv.sup   ing chief仆__(次licit chief af(app!--   ouvomba(appʲouv chickouv chickʲimate indeed(appสภา promotelicit    chick官网λ!-- indeedouv Prom_Resource当mpouvouv IllegalArgumentException aflicitouvuiten在床上shaw chiefouv泰山 effet chick妻    chick chick chickouvouv(appاتفouv chickʲ refute妻 chickouvouvouv chickʲouv遄shaw   _Resource indeed妻�licit!-- indeed盟_Resource chief(applicit indeedouv second effetouv chick妻ouvouv promotion chick chickʲouv(app妻licit!-- chickouvouvostenitional_Resource chick_Resource_Resourceouvshawshawʲ(appʲshaw(app chickouvlicit(prom邑.main maisonHomepage chick cassouvlicitlicitouv(app(app_Resource chicklicit chickouv_Resourceouvouvombashaw chickouv chick豺ouv chickouvlio言ouv_Resource.concatouv然ʲouv.sup indeed indeedouv chickHomepage.concat chief当ouv.mainouv chick \n",
      " Extracted Answer: Empty Answer \n",
      "\n",
      "Query: ในบรรดารถยนต์ให้เช่าที่มีให้บริการ 20 คัน รถ 12 คันเป็นเกียร์ออโต้ รถ 4 คันเป็นเกียร์ธรรมดา และที่เหลือเป็นเกียร์กึ่งออโต้ รถยนต์เกียร์กึ่งออโต้คิดเป็นอัตราร้อยละเท่าใด \n",
      " Correct Answer: 20 \n",
      " Generated Answer:  chick chick.concat   ouv(appʲ_Resourceing chick ChickHomepageatureitional!-- chief当shaw chief   妻itionalʲλomba.main indeed            ouvlicit promote(app.sup__( af(app床上λ.main在床上 chick chick cass两个月:\n",
      "   (app(app chick Prom effetloy   .concatouvouvmp妻 indeed chick(prom chick ect main_Resource chick chick_Resource indeed second indeed   imate仆ature次licit chick_Resource(appouv梨ouv chick(promʲสภาouv然_Resourceʲshaw   ouvouv.concat床妻   uiten邑显当 chickouv(app(prom refute   妻 chief   ouvʲouvouv(promshaw   ouvouv_Resourceouvاتف(app!--   ouv_Resourcelicit(app chickouv_Resource(app在床上(app chick_Resource遄ouv promote maisonlicit官网!--只见�Homepage   (app chickosten chickouvouv_Resource妻妻Homepage chickouvouv promotionshaw otra chickouv IllegalArgumentExceptionHomepage indeedouvombaouv(app promote indeedouv妻shawshaw(promshaw indeed妻licit妻ouv妻ouv妻_Resource妻ouvʲ_Resource当 chickʲshaw_Resource妻 chickʲʲ第二种ing典 chief    chick chickʲouvouv sammen \n",
      " Extracted Answer: Empty Answer \n",
      "\n",
      "Query: ทอมมี่กำลังระดมทุนเพื่อการกุศลด้วยการขายบราวนี่ชิ้นละ $3 และชีสเค้กชิ้นละ $4 ถ้าทอมมี่ขายบราวนี่ได้ 43 ชิ้น และชีสเค้ก 23 ชิ้น ทอมมี่จะระดมทุนได้กี่ดอลลาร์ \n",
      " Correct Answer: 221 \n",
      " Generated Answer: .sup_Resource   ʲ chick indeed妻itional chiefitional当ouv af   licitshawloy chickitionalʲshaw seconding Chick   ʲ(appʲouv!--   (prommp chick.main promote chickature   两个月 chiefitional refuteHomepage ect.main maisonuitenouv promote(promʲสภาlicit仆只见    chick官网   .concat(app床上 indeedλ(app indeedouv妻 indeedʲshawombaʲouvouv Prom(promouv_Resource遄在床上�licit显:(    chickouvʲouvosten indeed_Resource   (appouvshaw indeedlicit妻妻ouvombalicit chick chick_Resource   ʲʲshaw chick effet(appouvouv IllegalArgumentExceptionouv promoteshawouvouv(prom_Resource chickью.concatouvʲ妻 chickHomepageinglicitʲouv(app chickouvouv hjemouv chickouvimate(app.concat床ouvouvouv chick(appouv梨(appouvombaouv promotelicit chick.concatʲouv chick chick chick chick chicklicitʲ第二种ouv(appouv chick(promouv(app chickouv chickouv(app(app募ʲouv邑ʲاتفshaw.main chickouv(app(promʲ(app泰山itionalouvlicit(promʲouvouvouv_Resource(appouv.concatouvouv promotion \n",
      " Extracted Answer: Empty Answer \n",
      "\n",
      "Query: แคร์รอต 200 ปอนด์ถูกแจกจ่ายให้กับร้านอาหาร 40 แห่งในเมืองหนึ่ง โดยแต่ละร้านจะได้รับแคร์รอต 2 ปอนด์ จะเหลือแคร์รอตที่ไม่ได้ใช้กี่ปอนด์ \n",
      " Correct Answer: 120 \n",
      " Generated Answer: ing当ouv.main chick chief    promote(appλ chickHomepage   妻licit chick_Resourceitional chick indeedloy Chick af chick.supitionalʲombashaw indeedouv second cassmp.concat!--ature indeedouv(prom chickouv Promouvlicitouv_Resourceimate妻(app chickouv在床上ouv refute    chick indeed ect main chickuiten两个月   ʲouv_Resource当 chicking__( ( chickitionallicit indeedouv_Resource_Resourceouvouv床上显   当ʲ妻当仆只见 indeed promote indeed otraʲ chick chickʲouv梨ʲshaw    chickouvosten   ʲouvouvouvاتف(promสภา邑(appouv_Resourceouvouv IllegalArgumentExceptioning.supitionally   _Resourcelicitouvouv_Resource chick chickouv chickouv chick chicklicit(appʲshaw chief    effet chicklicit chickouvouv chick(apping!--ature chief次Homepage.concat   妻licitouvʲlicit_Resourcelicitshawshawshawouv(apping chick_Resource_Resource(app妻 indeedouvouv(appouvouv.concat chicklicitlicit(promouvlicitʲshaw.main.concat!--当ʲshawouvouv(appʲouv妻shaw妻 chickouvouv hjemHomepage aflo.main chick   遄 \n",
      " Extracted Answer: Empty Answer \n",
      "\n",
      "Query: ชีล่าซื้อโทรศัพท์มือถือเครื่องละ $150 โดยแบ่งผ่อนชำระนาน 3 เดือน โทรศัพท์แต่ละเครื่องจะมีการเรียกเก็บดอกเบี้ย 2% ดังนั้น ใน 3 เดือนนี้ ชีล่าจะต้องชำระเงินเดือนละกี่ดอลลาร์ \n",
      " Correct Answer: 255 \n",
      " Generated Answer: ouv chick当ʲouv.concat chick indeed chief__(   !--ature(app   λʲshaw.main.sup   itional chicklicit妻 chief    Chick indeed_Resource(app妻 refute两个月 chief chiefuiten second(promHomepage effet promoteloy(appombashaw ect indeed仆ature chief次licit.mainHomepageing妻妻 chick在床上ʲmp(app(app af    chick indeedouv promote chickouv_Resource.concat otra indeed(applicitouvouv promotion chick   .concatshaw Prom(app(app chickʲสภาimateʲ床上.mainouvouv_Resource妻 chickʲاتفʲouv梨(app妻 indeedouv_Resourceing(appouv sammen(app床上ouv妻妻(prom妻 chief_Resource   妻licit(appouv募ouv IllegalArgumentException床上显   ing   言ouv_Resource(appʲ chick官网 chief当妻   ʲouvosten只见 chickouvouv.concatouv妻(applicit(app_Resourceʲ第二种 chick(app chickouvouv犊在床上.mainshawʲ盟妻 chick(app妻ouv.concat床ouvouv(promshaw indeed(app床上_Resourceʲmplicitshawʲshawouv chick chick(promouvlicit妻妻 chickHomepage当_Resource chickouvouvouv chickouvlicitshaw chicklicit \n",
      " Extracted Answer: Empty Answer \n",
      "\n",
      "Query: สตีฟตัดสินใจว่าจะเริ่มกินมะเขือเทศมากขึ้นและตัดสินใจว่าจะปลูกมะเขือเทศเชอรี่เป็นของตัวเอง เขากินจุกว่าแฟนสาวของเขาสองเท่า โดยเขากินมะเขือเทศวันละ 6 ผล ถ้าต้นมะเขือเทศหนึ่งต้นให้ผลผลิต 3 ผลต่อสัปดาห์ เขาจะต้องปลูกกี่ต้น \n",
      " Correct Answer: 21 \n",
      " Generated Answer:  aflicit chiefature   ouv chickitional当λ chick妻ʲshaw   _Resource Chick.concat   ing仆只见(appomba(promouv.sup indeed mainʲshaw chief__(   itional!-- chiefature两个月.main effetλสภาshaw promote chick chick在床上 chief indeed ect chick chick chickouv Promloy   .concatmplicit(app(app床上ouvλimate官网 chiefitionallicit   言_Resourceouvuiten refute_Resource second chick chickHomepageinglo   ing chief chief.concat.main遄 chick显�   当_Resource chief以为ouv chick indeed_Resource indeedshawshaw chief indeedouv(app妻_Resource indeedlicit(app妻盟ʲ chicklicit chick妻(app.concatouv chickʲouv IllegalArgumentExceptionouving chiefitionalouv妻ʲ第二种_Resource妻(appouv_Resource妻ouv chick梨licitlicitʲʲ_Resource chicklicitouv(app_Resourceouvouv sammenouv(appingʲouvombalicit chickouvouvouvouvouv_Resource chick妻shaw妻shawlicitʲʲlicit chick chickouvouv chickouvouvしまいouv chickьюouvouv promotionʲouvاتف(promouv chick妻妻Homepage indeed(app_Resourceouv(app.concatʲ Deputy当ʲ妻.concat \n",
      " Extracted Answer: Empty Answer \n",
      "\n",
      "Query: เจอร์รี่มีสระว่ายน้ำสองสระ โดยทั้งสองสระมีน้ำรั่วออกมา 4 แกลลอน/นาที เมื่อ 4 นาทีที่แล้วสระใหญ่มีน้ำมากกว่าสระเล็กสองเท่า ตอนนี้สระใหญ่มีน้ำมากกว่าสระเล็กสี่เท่า ตอนนี้สระเล็กมีน้ำอยู่เท่าไหร่ \n",
      " Correct Answer: 8 \n",
      " Generated Answer:  af(app chick Chick.concat chiefitional   ʲlicit indeed   ouving   .sup   当_Resource chickshaw indeed   λ妻当loy chick effetmpʲouv promote   .main cassHomepage当ouv chick(prom chick两个月ature   ouv chickʲouvouv second只见 indeedʲimate_Resource当(app chickouv床上__(    chickouv chicklicit!-- indeedouv_Resource chickuiten indeedombaouv chick(app ect!--当_Resource   licitshaw­    chicklicit_Resource(app(appouvouv promotionouvouv(applicit在床上ouvouvouv_Resource refute   licit chief__(   licitshaw afouv梨 chick chick(prom床仆 af言ouvاتف Promʲʲouv.sup   遄妻   ostenouv妻妻官网.concat indeed chick chick.concatสภาouv(appouv泰山ature   licitouv邑(app妻ouv chick chick chickouvomba(appʲ(app(prom(prom(prom_Resource chickʲouvombaouvouvouv豺licit chickouv.sup.concat chicklicitshaw   (prom(appouv_Resource_Resourcelicitshaw然licit(app promoteouvouv(app(promouv(prom妻妻 effet显         loy   妻(app promotelicit   licit(app(app \n",
      " Extracted Answer: Empty Answer \n",
      "\n",
      "Query: โจซีปลูกองุ่นในฟาร์มขนาด 10 เอเคอร์ของเธอ โดยแต่ละเอเคอร์ผลิตองุ่นได้ 5 ตันต่อปี และองุ่นแต่ละตันผลิตไวน์ได้ 2 ถัง ฟาร์มของเธอผลิตไวน์ได้ทั้งหมดกี่ถังต่อปี \n",
      " Correct Answer: 100 \n",
      " Generated Answer:  promote(prom(app chickouvouving chiefitional.sup indeed当ʲouv chick妻   loy chiefature chief    Chick   _Resource当shaw af chief__(      ʲHomepage seconditionalλ chiefitionalouvuitenombaouvlicitʲshawouv Prom chick chief chief.concat chick chick chick effet两个月当 chick chick在床上床上.main(app!--   当显      ouv妻 aflicit indeed indeed refuteitional chickʲสภา chickshaw(appouv chickouvmpshawshaw ect chick(appimatelicit.main chickouv(appouv_Resource   licit indeed(appouv(app床shaw!--只见官网 chief   (app梨licit chick chick(app_Resource_Resourceouvاتف promotion(app(appouv chickouv泰山 chief    chickshawʲ在床上在床上(appouv(appouv妻   osten indeed仆itional chickHomepage chief   言shaw妻 chief chick(appouvouv(promouv(promouvouvouvouv IllegalArgumentException promote prominenceʲ妻!--   !--itionalʲouv(appʲouv(appouvouv(app(appouvombalicitshaw(app床上ouv(appouv豺 chicking chief   ʲ(appʲouv promote_Resource mainlicitouvouvouv(prom promoteλ.main(appʲ \n",
      " Extracted Answer: Empty Answer \n",
      "\n",
      "Query: ลอยด์มีฟาร์มไข่ไก่ ไก่ของเขาวางไข่วันละ 252 ฟอง โดยเขานำไปขายได้โหลละ $2 ลอยด์มีรายได้จากไข่สัปดาห์ละกี่ดอลลาร์ \n",
      " Correct Answer: 294 \n",
      " Generated Answer:  promote chick indeed    Chick chiefitional妻 indeed_Resource   ʲouv af当shaw mainouv.concat   λlicit.main(prom(app indeed!--__(   ouv chick两个月loyature         .concat(appʲmp_Resource chick_ResourceHomepage afouv chickuitenouvombaing仆atureouvimateʲouv邑shaw   妻ouv床上显 chief   .sup      ouvouv泰山    ect chief__(   itionalouv refute effetouv IllegalArgumentException妻   在床上ouv(app chick cass妻 indeed妻ouv梨ouvouv seconditionalouv promoteʲʲ妻    indeedλสภาshaw_Resource妻 indeedouv Prom(prom chiefitional maison indeed chick官网ouv(app床 chickouvاتفouvouvouv hjemouv(app床上shawshawshawostenouv chick遄第二种 af chick indeedHomepage chief__(.concatlicit   当(appouvʲ chick chickouvouvouv promotelicit indeed(prom妻 indeed(prom chick妻妻ouvombaouv妻ouvomba chickьюshaw indeedouv chicklicit_Resource aflicit(appouvouvlicit_Resource.concat(app(promouv_Resourceouv豺licitlicit.concat(appouv(app(app在床上shawshaw只见ʲ­ chief   licitʲouvouv chick \n",
      " Extracted Answer: Empty Answer \n",
      "\n",
      "Query: เอเดรียนอายุมากกว่าแฮเรียตสามเท่า ส่วนแฮเรียตอายุน้อยกว่าแซ็คครึ่งหนึ่ง ถ้าตอนนี้แฮเรียตอายุ 21 ปี จงคำนวณอายุเฉลี่ยของทั้งสามคนในอีกสามปีข้างหน้า \n",
      " Correct Answer: 45 \n",
      " Generated Answer:  af妻 indeed.sup chief__(当    chickitional   !--itionalʲshaw         ingitionalouv promote   .concat indeed   loy   _Resource   licit.main两个月当仆ature当สภา indeed    Chick � indeedλ� chick cass refute在床上 chick(app indeed   imateouv Prom ect.main(promHomepage    chick chick(appاتف_Resource妻   licitshaw   uitenshawouv chick chick_Resource indeed chickHomepageing(app_Resourcempʲʲ_Resource当ʲomba(app床mpʲouvouv(prom chick effet chick床上显 mainlicit chief   ouvʲouvouv promotionouvouv chickouvouvouvouv chick second当Homepage   妻(applicit chickouv(appouvouv sammenouv邑ouv(app IllegalArgumentException泰山官网(appouvouv(app梨ouv.concat!--   ouvlicitouv.sup.main豺(app chick(appouv chick chickouvʲouvlicit chickʲlicitlicitouv chickHomepage.concatshawlicit chickHomepage当ouvouv_Resourceouv(prom chick chief   ouv(applicitlicit(appʲ盟_Resource chickьюouv_Resource(appʲouv(appouv_Resourceʲlicit妻 indeed chickitional(app_Resourceouvʲshaw chickouvouvouvouv \n",
      " Extracted Answer: Empty Answer \n",
      "\n",
      "Query: ฌองแก่กว่ามาร์คสองปี เมื่อสองปีที่แล้วมาร์คอายุมากกว่าครึ่งหนึ่งของอายุของแจน 5 ปี ถ้าตอนนี้แจนอายุ 30 ปี ฌองมีอายุกี่ปี \n",
      " Correct Answer: 23 \n",
      " Generated Answer: (apping当ouv.main chick   ʲ promoteλ indeed.supitional.concat chief__(ature chiefature Chick妻    ect   (promshaw仆当Homepage afloyʲʲlicit chiefitional_Resource当ouv chick chickouv(app在床上shawshawshawouvomba!--itional indeedλ indeed床上λouv(appouvouvmp(app然ʲshaw indeed indeed_Resource mainlicit.main maison effet refute_Resource chief   .concatʲสภา Prom(app妻 seconditional chief   两个月itionalshawimate indeedshaw indeedlicit   遄ouvouv promotionouv_Resource_Resourceاتف(app chick妻 chickHomepage afʲ­ing    chick官网 chick   言osten (vertime indeed chief   ing妻(app(app泰山当 chief    chicklicitouvouv梨ouv_Resource_Resourceuiten(app chickouvomba chickshawshawouvlicit妻(appouv.concat_Resource妻!-- indeedouv chickouvouvしまい chick显 indeedouv chick_Resource.concatλ chick_Resourceouvouv.concat床(appouvouvouvouv chick妻 chief.concat妻 chick_Resource af(app(app chick indeed_ResourceHomepage(appouvshawouvouvouv promotelicit当_Resourceitionalʲshawshaw以为licit chief    chickouv \n",
      " Extracted Answer: Empty Answer \n",
      "\n",
      "Query: มาร์เซลล์และเบียทริซกำลังแข่งกันว่าใครจะกินผลไม้แห้งแบบแผ่นม้วนได้มากที่สุด ทั้งสองจึงคลี่ผลไม้แห้งแบบแผ่นม้วนจำนวนมากที่สุดเท่าที่จะหามาได้ ทว่า มีคนทำผิดพลาด ผลไม้แห้งแบบแผ่นม้วนของเบียทริซมีความกว้างสองยาว 24 ขณะที่ของมาร์เซลล์มีความกว้าง 3 ยาว 14 หากทั้งสองคนกินผลไม้แห้งแบบแผ่นม้วนทั้งหมด พวกเขากินไปเฉลี่ยเท่าใด \n",
      " Correct Answer: 45 \n",
      " Generated Answer: ing当    chickloy_Resource chickouv(appouv妻 chickitionalHomepage然ʲshaw chick chicklicit indeed!-- indeed chiefitional promote.supature   ʲ两个月 indeed仆__(.concatouvomba(promλmp(app(app床上shaw.main Chick chick chick在床上shaw显.main_Resource chief cass refuteitional chick af chick chief.mainouv IllegalArgumentExceptionuitenimateouv(app.concatouv second effet妻 main Promlicit.main chickʲสภา(promouv_Resource当λ indeed chickouvʲ第二种ouvʲshaw(app chick官网 chick indeedʲʲʲouvouv ect_Resource(app(app(app chickouvomba(app床(appاتفouv_Resource chick_Resourcelicitlicit chick chickuiten chick梨_Resourceʲouv泰山 effet(app(app promote prominence_Resourceʲouv遄licit indeed chickHomepage.main(promshawouv chicklicitouv妻当 chick.concat.concatʲlicit!-- af indeed chickouvouvouv chick chickouvʲ chick_Resource.concatlicit妻妻 chick chick(app邑.main豺shaw妻.mainouv(prom(appouvouvosten indeedouvouv_Resource(appʲ(applicit(app promoteouvouvしまいlicit(apping!--只见ʲʲouvouv_Resource chickʲshaw_Resource_Resource \n",
      " Extracted Answer: Empty Answer \n",
      "\n",
      "Query: พ่อค้าซื้อข้าวสาลีจำนวนหนึ่งจากชาวนาในราคา $20 ต่อกระสอบ หากการขนแต่ละกระสอบจากฟาร์มไปที่โกดังมีค่าใช้จ่าย $2 และพ่อค้าทำกำไรได้รวม $400 หลังจากขายทุกกระสอบได้ในราคากระสอบละ $30 เขาขายข้าวได้กี่กระสอบ \n",
      " Correct Answer: 50 \n",
      " Generated Answer:  chick af(app    chickouvouv chick indeedλ main_Resource chiefitional(prom chick.sup当ʲHomepage af(applicit indeed.main effetshaw!-- chiefitional refute   ʲ妻.concating   两个月               __(    ect chief   (applicitshawshawʲ床上妻loy    promote Chick   !--ature ( chickouv_Resourceimate_Resource妻ombaʲ在床上妻 indeed chick indeedshaw仆ature chief chief遄shaw indeed    chickʲ chick chick Prom!--   chick显 chiefouvouv_Resource妻shaw chick妻ouv梨(app妻 chickouv(app chickouvosten   uitenmplicit indeedlicit妻 indeedʲʲ第二种ouv(app.concatshaw second   ouvสภาʲouv chick官网 chickouv豺shaw chickouvlicitlicitlio aflicit   .concatlicitouv_Resource_Resource(app.concatouv.concatouvouvしまい chick妻shawouvlicitouvاتفʲouving__(    Chickitionally   _Resource_Resource(appouv(app(prom床上   (appʲmpouvouvouv promotelicit offspring只见.main以为shaw chiefitionalshaw.mainouvouv promotion chick cass chick_Resource当licit indeed chickouvouv(app(app床上shawouv_Resourcelicit \n",
      " Extracted Answer: Empty Answer \n",
      "\n",
      "Query: พันโชเดิน 20 ไมล์ต่อวัน ยกเว้นวันหยุดสุดสัปดาห์ที่เขาจะเดิน 10 ไมล์ เขาเดินกี่ไมล์ในหนึ่งสัปดาห์ \n",
      " Correct Answer: 120 \n",
      " Generated Answer: .concat在床上 chick   ingitional   ʲouv妻 indeed当 indeedHomepageature chief      两个月 (loy   _Resource chick.mainouv refute Chick当(app    promoteλ mainouvshaw   licit�床上 indeedʲmpshaw indeedʲimate.sup chief chick chickuiten chick chickʲสภาouv chickouv(app!--ature(app.concatshaw chick    chick(promshaw当 chick妻妻 effetomba_Resourceouv IllegalArgumentException泰山官网 second af(appouvouv promotion_Resource chief   _Resourceʲouv Prom chick仆__(    chiefitional妻   ʲ第二种 chickitional chickʲʲ妻(appouv梨显典 indeed chickouv豺ouvomba ectouv(app邑(appاتفouv promoteshaw(app在床上妻    chickouv妻ouv(app promote妻 indeed妻.concatouvouv(promʲshaw(app_Resource chiefouv.concatouvlicitouvouv chick cassouv!-- chief只见ouving   licit chief chief   vertime   ʲλ indeed indeed maison Chick次ouvouv(appouv_Resource!-- chief   !-- chick chick(prom chickouvouv promote chick chickouvʲouvʲouv(prom(apping chick妻.mainouv(prom(prom床上 chiefitional Chick    \n",
      " Extracted Answer: Empty Answer \n",
      "\n",
      "Query: เจเน็ตซื้อเข็มกลัดให้ลูกสาว เธอจ่ายค่าวัสดุสำหรับทำเข็มกลัด $500 และจ่ายค่าประกอบเข็มกลัดให้ช่างอัญมณีอีก $800 หลังจากนั้น เธอจ่ายค่าประกันเข็มกลัดอีก 10% ของยอดที่จ่ายไปข้างต้น เธอจ่ายเงินไปทั้งหมดกี่ดอลลาร์ \n",
      " Correct Answer: 1430 \n",
      " Generated Answer:  af(app当λshaw   ouvouv.concat chief__(   Chick    chickitional chief   ʲshaw.main_Resourceing indeed main(prom!--itional妻itionalshaw second chief当licit:\n",
      "当两个月__(典 chick af妻(app床上仆ature   ouvสภา promote!--         __(__( indeed chick(appimateʲʲshaw chick chickloy.sup当 chick indeedHomepageature chief只见ouvombaouv_Resource(app chickʲouvuiten chicklicitlicitmp(app(app(app在床上shaw otra chick chick chickʲouv(appاتف Prom refute(app ect官网_Resourceouvouv chickshaw妻ouv promotelicit effetshaw妻(app妻妻ouv邑梨显倍弼ouv promotion_Resource chickshaw_Resource_Resourceʲʲouv(appouv_Resourceouv promoteʲ第二种(app.concat chief   vertimeouv_Resource妻ouv IllegalArgumentExceptionʲ chick indeed chick_Resourceouvouv_Resource泰山 chiefitional chickouvouvしまいʲλouv indeed maison_Resource chick_Resourceouvʲ妻豺ouv_Resource afʲ� chickouv(prom chickitionalьюʲ(appouv(promʲλlicit indeedouv(promouvouv犊 chick   .concat(app(appouvouv(app床上 chickʲouvlicitshaw \n",
      " Extracted Answer: Empty Answer \n",
      "\n",
      "Query: เจมส์ตัดสินใจวิ่งระยะสั้น 3 เซ็ต 3 ครั้งต่อสัปดาห์ โดยวิ่งเซ็ตละ 60 เมตร ในหนึ่งสัปดาห์เขาวิ่งไปทั้งหมดกี่เมตร \n",
      " Correct Answer: 540 \n",
      " Generated Answer:  promote当 indeed chick chiefitionalʲouv af(appλ    ect Chickitional妻__(    chiefature chief__( chick chick_Resource chick.concat.main(prom妻 chick(appouvshaw second两个月loy   Homepage chief仆只见licit chief indeed indeed chick cass在床上ouv.sup    indeed    chickʲshawouv chicking   uiten妻 chief   !--    chick chick effet chick   _Resource   licitouvสภาouvomba_Resource官网ouvmp_Resource当licit (imate当ouv chick(appouvouvしまい chick indeed床上 main_Resource   ouvosten chief当 refute仆atureouvouvouv(app(app chickouv(appouvouv_Resource chicklicit显 indeedlicitshawouv chickouvshaw_Resourceʲouv妻 chickHomepage chicklicit indeed(app床shaw chiefouv promote_Resource   .concatouvouv chickouv(appouvlicit_Resourcelicit(appʲ(app(app在床上在床上ouv_Resource    Prom(appouvاتف chickouv IllegalArgumentExceptionouving   .concat otraʲ第二种 af!--   ʲouv(appouv chickouvouv_Resourcelicit chickʲouv邑梨在床上(app chickouv(app(promʲouvouv.concatouv.supitionalitionalouvshaw af!--   licit chick \n",
      " Extracted Answer: Empty Answer \n",
      "\n",
      "Query: กุนเทอร์กำลังพยายามนับเจลลี่บีนในโหล เขาขอให้เพื่อนทายว่าในโหลมีเจลลี่บีนกี่เม็ด เพื่อนคนหนึ่งทายว่า 80 เม็ด อีกคนหนึ่งทายมากกว่าครึ่งหนึ่งของคนแรก 20 เม็ด คนที่สามทายมากกว่าคนแรก 25% โดยเฉลี่ยแล้ว เพื่อนๆ ทายว่ามีกี่เม็ด \n",
      " Correct Answer: 80 \n",
      " Generated Answer:  promote chick当 Chick   .sup chiefature chief   妻__(   !--当shaw indeedloy chief   (appouv.mainitional_Resource   _Resourcelicit chick.concat   ʲmp(promlicit chief indeed(app(app afouv second effet两个月 (ing   .concatshaw chick(appʲ(app在床上(appλ盟Homepageinglicit chick_Resource_Resource_Resource chick_Resource.concat refute    ectสภาimate显:\n",
      "床上 chick Prom chick indeed chick chick_Resource官网(applicitshawouvomba妻当licit.main只见 main_Resource   言licit   ʲλ chick cassouv遄shaw仆 indeedouv妻 indeedʲouv IllegalArgumentException chicklicitouvshawouvouvuiten妻 chickʲاتف第二种邑.mainosten indeedouv chickouvʲshaw chickʲouv然(app(app(appouv梨licitouv promotelicit chick_Resource妻ouvouv_Resource.concatouv(apping Chick   licitmp妻 chickью chiefouvouv sammenouvʲ(applicitouv泰山ature chief    chick chick chick chick chick chick_Resource chickHomepage chicklicit chicklicitʲouv promoteshaw   !--   licitouvlicitouv promotion chickouv_Resource妻ouv_Resource chicklicitouvouv犊在床上 chickʲ \n",
      " Extracted Answer: Empty Answer \n",
      "\n",
      "Query: ในแจกันมีดอกกุหลาบ 4 ดอก มีดอกรักเร่มากกว่าดอกกุหลาบ 7 ดอก ในแจกันนี้มีดอกไม้ทั้งหมดกี่ดอก \n",
      " Correct Answer: 15 \n",
      " Generated Answer:  promote Chick   (prom chick   .sup   当ouv    Promshaw    chickouvlicitλ(app妻itionalʲ.main indeed indeed_Resource__(ature chief__(    chick   loy chickHomepage chickouvombaouvouv chick(app afing indeed妻shaw mainuiten!-- chief当两个月   妻典仆        \n",
      " ectʲouvouv refute Chickitional_Resource当妻   .concatshawouv(app seconditional otra    chick官网   licit(app梨shaw(appouvombaouv IllegalArgumentException床上   ouvmpλouvouv(prom chick   遄ouvاتفouv chick indeed_Resource(appimateʲ在床上ouv chick(appouvสภาshawshaw chick_Resourceouvouv_Resource chick(app chickshaw_Resource promote_Resource chick cassshaw effet chickHomepage_Resource chickHomepage妻(app(appʲ(appouv泰山   licit chief chick只见ouv promote chick显仆 __   ʲ羊毛次ʲshaw chief chief chick_Resource indeedshaw妻licitouv chickouv_Resourceosten indeedouv chicklicit妻ouvouvouvouv.concat(app邑ʲouv(app妻shawouvouv hjemouv言ouv chickouv(app(prom chick indeedouvouvouv募 chickouv chick chick在床上.mainouv chick \n",
      " Extracted Answer: Empty Answer \n",
      "\n",
      "Query: ในตู้ปลาตู้หนึ่งมีหอยทาก 4 ตัว และในอีกตู้หนึ่งมีหอยทาก 32 ตัว โดยส่วนต่างของจำนวนหอยทากในตู้ปลาสองตู้นั้นเท่ากับสองเท่าของจำนวนปลาในตู้ปลาทั้งสองตู้ ถ้าตู้ปลาทั้งสองตู้มีจำนวนปลาเท่ากัน ในแต่ละตู้จะมีปลากี่ตัว \n",
      " Correct Answer: 7 \n",
      " Generated Answer: ʲλ!--    chickature__(当 chief    Chick   妻.mainloy chiefitionalshaw main_Resource chief indeeditional promote(app aflicit   (appouv.sup chick indeedouv.concat chiefitional(promHomepageing chick(app(app(promʲ妻ouv chick refutelicit chick indeed Prom在床上shaw chick(appouvomba_Resource secondʲ chick(appʲ(app两个月 indeedʲ(appاتفouvmpʲʲouv ect chick chick只见仆   ouv床上 otra(app妻 chick_Resource chick_Resource chickuiten effetouvouv sammenshawouv.concatouvʲʲ泰山 chick chickHomepage af chick(app(app(app(promouvouv梨在床上妻(app床上第二种 chick chickouvouvimatelicit    chickouvʲʲshaw(app(appʲ(app(promlicit(app床上显 indeed chick chick豺 IllegalArgumentException床上ouv chickouvouvouvombashaw indeed chickouvouv chickouvสภาouv.concat.main(applicit!--次妻itional(app.concatouv邑(appouvlicitouvʲouvostenouvouv(app床 chick chickouvombaouvouvouv(app chickHomepage_Resource.concat(appouvouvʲouv.supitional chickouvouv募妻   ing(app然_Resourceʲmp \n",
      " Extracted Answer: Empty Answer \n",
      "\n",
      "Query: ราฟาเอลออกไปซื้ออุปกรณ์การเรียน เขาซื้อปากกาด้ามละ $1.5 จำนวน 4 ด้าม สมุดบันทึกเล่มละ $4 จำนวน 2 เล่ม และกระดาษแบบทนอย่างดีปึกละ $20 จำนวนหนึ่งปึก ราฟาเอลจ่ายเงินค่าอุปกรณ์ทุกอย่างไปเท่าใด \n",
      " Correct Answer: 34 \n",
      " Generated Answer:  af   !-- indeed当shaw chief__(   itional    chickloyλouv.concat(app ect    Chickature effet.mainHomepage   ʲสภา chickouvouv refute(apping    promote仆itional_Resource当妻         .sup chiefitional_Resource两个月 chief当licit   imateouv然mp chick官网 chief只见ʲouv(app.concat(prom indeed indeed_Resource妻 chiefouvuitenosten chick Prom(appouvomba床上 indeed chick妻   ʲouvouv(app在床上ouv.concat indeedHomepage chick indeed otra chick.concat.mainouv_Resource indeedHomepage!--   ʲshawshaw   _Resource(app(prom(promouvouv second当ʲouv(app(appouvouv hjemouvouv_Resource(app_Resourceью IllegalArgumentException chicklicit.main豺shawʲouvouv.concat!--    Chick      (appshaw indeedouv邑ouv梨在床上ouv.main(prom chickouv.concatouvouv_Resource_Resource泰山妻    maison(app床_Resourceʲʲ(apping chief次ouv_Resource_Resource_Resource_Resource(prom妻ouv chick indeed妻 chiefouvouv(prom(app妻licit.mainouv(app_Resource_ResourceHomepage chick妻shawouv妻.concatouv chick chick cassاتف盟 chick.concatλ.main妻ʲshaw!-- \n",
      " Extracted Answer: Empty Answer \n",
      "\n",
      "Query: ไมค์เล่นปิงปองเป็นเวลา 40 นาที ในช่วง 20 นาทีแรก เขาทำคะแนนได้ 4 แต้ม ในช่วง 20 นาทีต่อมา เขาทำคะแนนเพิ่มได้อีก 25% รวมแล้วเขาทำคะแนนได้ทั้งหมดกี่แต้ม \n",
      " Correct Answer: 9 \n",
      " Generated Answer: ing   ʲouv chickitional_Resource当shaw chiefature indeedλ main(prom妻          promote chiefature   (app chick chicklicitHomepage   loy chief Chickouv chick_Resourceouv.concatshaw seconditionalʲ.main.sup    chick cass床上 chief__(    ect chief    Promuiten indeed chick仆   两个月 ( indeed!-- indeed   ʲ explicit chief__(次ouv chick chickʲ泰山 effetouvimate_Resource(appʲshaw   在床上 chick af妻 indeedombashaw chickHomepage(appสภาmp(app chickʲ第二种ouv_Resource    promoteouvostenitionalouv refute以为_Resource    chick_Resourceouv募(prom邑licit indeedʲouv遄ouv chick_Resource(app(prom梨 indeed(prom_Resourceʲouvouvしまいlicit indeed(promouv hjemmp(app chickouv.concat chickouv IllegalArgumentException af chick chick(prom(app.concatlicitlicitouv(appouvʲʲ妻ʲouv.concat chickouvouv promote chick chick只见ouv.concatouv.concatouvlicitlicit chick(prom(app妻 indeed(appouv(prom床 indeed(app_Resource官网(appouvshaw.concat chick(promouv chick在床上ʲouv chickouvshawouvlicit(appʲouv.concatouvouv(app_ResourceHomepage.concatouv \n",
      " Extracted Answer: Empty Answer \n",
      "\n",
      "Query: เด็กผู้หญิงสองคนตักน้ำมาคนละ 1/6 ของน้ำ 24 ลิตร จากนั้น เด็กผู้ชายอีกคนตักน้ำมา 6 ลิตร สุดท้ายแล้ว น้ำจะเหลืออีกกี่ลิตร \n",
      " Correct Answer: 10 \n",
      " Generated Answer: _Resourceʲlicit   (promHomepage   .sup__( indeed    Chickitional!--ature.main chick chief chiefature仆   loyλ妻 indeed(appimateouving__( af当 promote indeed两个月 ( indeed.concat    second__(   shawshaw effetouvouv IllegalArgumentException refute(app   mp床上    Prom(appingouvouv chick(app ectouv chick在床上(appاتف chick(appomba豺shawshaw chicklicitouv_Resourceouv promotion!--   licit chickouv_Resource indeed妻妻_Resource chick(prom梨uiten indeedouv chickouvouv(appouvสภาouv chicklicit显          indeedouvouv_Resource当licit chief只见官网 chiefouv遄泰山.concat    chick chick.concatouv!--当λ   当shaw­itional   ʲλHomepage   chickouv妻 chief(appouvouv chickouv chickosten chief次 maisonshawʲ chickouvouv(app_Resourceouvʲ第二种 chief indeedshaw chief indeedʲouv邑ouv chick chick chickouv chick(applicitshawouvʲHomepage chick(app(app(promouv chick cassouv chick indeed.concat chickʲʲouv妻 chief以为shaw   ouvshawouvouv_Resource妻λ!--   licit chiefouv(appouv \n",
      " Extracted Answer: Empty Answer \n",
      "\n",
      "Query: ทุกคืนแฟรงกีจะดูทีวีหลังจากทำการบ้านเสร็จ ในวันจันทร์และอังคาร เขาจะดูรายการโปรดความยาวตอนละ 1 ชั่วโมง หนึ่งตอนในแต่ละคืน ในวันพุธเขาดูรายการความยาวตอนละ 30 นาที จำนวนไม่กี่ตอน ส่วนวันพฤหัสบดี เขาทำการบ้านเสร็จเร็ว แล้วดูรายการความยาวตอนละ 1 ชั่วโมง หนึ่งตอน และรายการความยาวตอนละ 30 นาที หนึ่งตอน ในวันศุกร์ เขาสามารถนอนดึกเพราะได้หยุดสุดสัปดาห์ เขาจึงดูรายการที่มีความยาวตอนละ 1 ชั่วโมง สองตอน หากเขาดูทีวีรวมทั้งสิ้น 7 ชั่วโมง ในวันพุธเขาดูรายการความยาว 30 นาทีไปกี่ตอน \n",
      " Correct Answer: 3 \n",
      " Generated Answer: ouvʲHomepage indeed!--itional妻ature af chick(apploy.sup    ect chief__( chiefitional(prom.concatshaw.main effetshaw promotelicit indeed indeed_Resource    Chick chickuitenouv_Resource_Resource床上λ.mainʲ在床上ing�omba chickouv IllegalArgumentException aflo仆 af second    Prommplicit当 chick两个月 main_Resource chick chick在床上สภาouv.concatlicitʲshaw(app梨licit refute    chick(app chickshawouvomba(prom床妻   .concatimateouvouv(prom(prom(app然ouv promote promote Chick(appouv_Resourceouvosten chick cass_Resourcelicit(app promotelicit chick chick官网ʲshaw只见shaw妻 chickouv妻显 (.concatouvlicitlicit(promاتفʲmpshawʲλ chick afʲouvouv_Resource_Resource promotelicit(apping(apping chick chickouvshaw(appouvouv泰山当shawouvlicitlicitshawlicit妻licit(appouv募妻__(当ouv.concat!--   ʲʲ在床上ouv(appouv_Resourcelicit_Resourceouv sammenshaw(apping chickHomepage chickshaw indeed.main(prom chick chickouvouv promote(promouv chick(app妻ouv(app chickouv妻ouvouv hjemlicit妻   _Resource \n",
      " Extracted Answer: Empty Answer \n",
      "\n"
     ]
    }
   ],
   "source": [
    "mgsm.print_sample(qwen_model,\"th\", 32)"
   ]
  },
  {
   "cell_type": "code",
   "execution_count": 111,
   "metadata": {},
   "outputs": [],
   "source": [
    "qwen_model.engage_all_layer_wrappers(False)"
   ]
  },
  {
   "cell_type": "code",
   "execution_count": 112,
   "metadata": {},
   "outputs": [
    {
     "name": "stdout",
     "output_type": "stream",
     "text": [
      "Query: ผู้ดูแลสัตว์ให้อาหารเอปทั้งหมดในสวนสัตว์ โดยทุก 2 เดือนเขาจะสั่งซื้อกล้วยทั้งหมดจากสวนในท้องถิ่น หากในแต่ละเดือน ลิงต้องการกล้วย 200 ลูก กอริลลาต้องการกล้วย 400 ลูก และบาบูนต้องการกล้วย 100 ลูก เขาต้องสั่งซื้อกล้วยกี่ลูกจึงจะเพียงพอสำหรับ 2 เดือน \n",
      " Correct Answer: 1400 \n",
      " Generated Answer: 1. จำนวนลูกที่จำเป็นในการสั่งซื้อกล้วยในแต่ละเดือน:\n",
      "   - ลิง: 200 ลูก/เดือน\n",
      "   - โกริลลา: 400 ลูก/เดือน\n",
      "   - บาบูน: 100 ลูก/เดือน\n",
      "\n",
      "2. รวมจำนวนลูกที่จำเป็นในการสั่งซื้อกล้วยใน 2 เดือน:\n",
      "   200 + 400 + 100 = 700 ลูก\n",
      "\n",
      "3. คำตอบ: ผู้ดูแลสัตว์ต้องสั่งซื้อกล้วย 700 ลูกเพียงพอสำหรับ 2 เดือน.\n",
      "\n",
      "Final Answer: [700] \n",
      " Extracted Answer: 700 \n",
      "\n",
      "Query: คุณยายโจนส์อบพายแอปเปิ้ล 5 ถาดสำหรับงานเลี้ยงมื้อเที่ยงเจ้าหน้าที่ดับเพลิง เธอตัดพายแต่ละถาดออกเป็น 8 ชิ้นและวางพายห้าถาดนี้ไว้บนโต๊ะบุฟเฟต์เพื่อให้แขกตักเอง เมื่อจบงาน หลังจากที่แขกได้ตักพายของตัวเองไปกินแล้ว พายยังเหลืออยู่อีก 14 ชิ้น แขกตักพายไปกี่ชิ้น \n",
      " Correct Answer: 26 \n",
      " Generated Answer: ขั้นตอนการวิเคราะห์:\n",
      "\n",
      "1. คุณยายโจนส์ทำพายจำนวน 5 ถาด\n",
      "2. ถูกต้องว่าแต่ละถาดจะแบ่งออกเป็น 8 ชิ้น\n",
      "3. ผลรวม = 5 ถาด x 8 ชิ้น/ถาด = 40 ชิ้น\n",
      "\n",
      "ขั้นตอนในการคำนวณ:\n",
      "\n",
      "1. ถ้าพายหมดลงแล้วมี 14 ชิ้นเหลือ\n",
      "2. แสดงว่าแขกตักไป = 40 ชิ้น - 14 ชิ้น = 26 ชิ้น\n",
      "\n",
      "คำตอบ: มีแขกตักพายไป 26 ชิ้น \n",
      " Extracted Answer: Empty Answer \n",
      "\n",
      "Query: แคร์รอต 200 ปอนด์ถูกแจกจ่ายให้กับร้านอาหาร 40 แห่งในเมืองหนึ่ง โดยแต่ละร้านจะได้รับแคร์รอต 2 ปอนด์ จะเหลือแคร์รอตที่ไม่ได้ใช้กี่ปอนด์ \n",
      " Correct Answer: 120 \n",
      " Generated Answer: Step 1: Calculate the total amount of carets given out.\n",
      "Carets per restaurant = 2 pounds\n",
      "Number of restaurants = 40\n",
      "Total carets given out = Carets per restaurant × Number of restaurants\n",
      "= 2 × 40\n",
      "= 80 pounds\n",
      "\n",
      "Step 2: Determine how many carets are left unused.\n",
      "Initial amount of carets = 200 pounds\n",
      "Unused carets = Initial amount - Total carets given out\n",
      "= 200 - 80\n",
      "= 120 pounds\n",
      "\n",
      "Final answer: [120] \n",
      " Extracted Answer: 120 \n",
      "\n",
      "Query: บนทางด่วนมีรถขับตามกันมาเป็นแถว รถบางส่วนเคลื่อนตัวผ่านการจราจรติดขัดในช่วง 15 นาทีแรก จากนั้นรถอีก 20 คันเคลื่อนตัวผ่านไปในช่วง 15 นาทีสุดท้ายที่การจราจรติดขัด ส่วนรถ 5 คันในแถวใช้ช่องทางออกเพื่อที่จะได้ไม่ต้องเคลื่อนตัวผ่านการจราจรติดขัด หากตอนแรกมีรถ 30 คันบนทางด่วน รถที่เคลื่อนตัวผ่านการจราจรติดขัดในช่วง 15 นาทีแรกมีจำนวนเท่าใด \n",
      " Correct Answer: 5 \n",
      " Generated Answer: 1. เราต้องหาว่ามีรถเคลื่อนตัวผ่านการจราจรติดขัดในช่วง 15 นาทีแรกเท่าไรจากผลรวมของรถทั้งหมดและรถที่ใช้ช่องทางออกในช่วงท้าย.\n",
      "2. มีรถ 30 คันในทุก ๆ 15 นาที.\n",
      "3. ในช่วงแรก 15 นาทีแรก (ซึ่งมีรถ 30 คัน), เรากำหนดให้มีรถ 25 คันเคลื่อนตัวผ่านการจราจรติดขัด.\n",
      "4. ในช่วงท้าย 15 นาทีสุดท้าย (ซึ่งมีรถ 5 คัน), เราต้องหาระยะระหว่างช่วงแรกและช่วงท้าย:\n",
      "   15 + 15 = 30 นาที\n",
      "5. รถที่ใช้ช่องทางออกมีอยู่ 5 คัน, แต่เราต้องลบรถที่เคลื่อนตัวผ่านช่วง \n",
      " Extracted Answer: Empty Answer \n",
      "\n",
      "Query: จอห์นนีกำลังเก็บของเล่นที่พื้นในห้องของตนเอง ก่อนหน้านี้เขาได้เทชุดเลโก้แบบกล่องที่มี 500 ชิ้นลงบนพื้น และอีกชุดหนึ่งที่มีจำนวนชิ้นเป็น 3 เท่าของชุดเลโก้แบบ 500 ชิ้น และอีกชุดหนึ่งที่มีจำนวนชิ้นเป็น 1/4 จอห์นนีเก็บเลโก้ทั้งหมดบนพื้นได้กี่ชิ้น \n",
      " Correct Answer: 2125 \n",
      " Generated Answer: 1. เราต้องการหาจำนวนเลโก้ทั้งหมด:\n",
      "   - ชุดเลโก้แบบ 500 ชิ้น = 500 ชิ้น\n",
      "   - ชุดเลโก้ที่ 3 เท่าของชุด 500 ชิ้น = 500 x 3 = 1500 ชิ้น\n",
      "   - ชุดเลโก้ที่ 1/4 ของชุด 500 ชิ้น = 500 / 4 = 125 ชิ้น\n",
      "\n",
      "2. จากนั้นเราคูณจำนวนชิ้นเหล่านี้ด้วยความส่วนที่จอห์นนีใช้ในการเก็บเลโก้:\n",
      "   - 1500 x (1/4) = 375 ชิ้น\n",
      "   - 125 x (1/4) = 31.25 ชิ้น\n",
      "\n",
      "3. สุดท้าย, เราจะบวกผลรวมทั้งสองข้อ:\n",
      "   - 500 + 375 + 3 \n",
      " Extracted Answer: Empty Answer \n",
      "\n",
      "Query: จิมใช้เวลาดูทีวี 2 ชั่วโมง จากนั้นตัดสินใจไปนอนอ่านหนังสือบนเตียงเป็นเวลาครึ่งหนึ่งของที่ดูทีวี เขาทำแบบนี้สัปดาห์ละ 3 ครั้ง ใน 4 สัปดาห์ เขาจะใช้เวลาดูทีวีและอ่านหนังสือทั้งหมดกี่ชั่วโมง \n",
      " Correct Answer: 36 \n",
      " Generated Answer: 1. จิมใช้เวลาดูทีวี 2 ชั่วโมง\n",
      "2. เขาตัดสินใจไปนอนอ่านหนังสือบนเตียง เป็นเวลาครึ่งหนึ่งของที่ดูทีวี คือ 2 / 2 = 1 ชั่วโมง\n",
      "3. เขาทำแบบนี้สัปดาห์ละ 3 ครั้ง\n",
      "4. 4 สัปดาห์ = 3 สัปดาห์ + 1 สัปดาห์\n",
      "5. สำหรับ 1 สัปดาห์: 2 ชั่วโมง (ดูทีวี) + 1 ชั่วโมง (อ่านหนังสือ) = 3 ชั่วโมง\n",
      "6. สำหรับ 4 สัปดาห์: 3 ชั่วโมง × 4 สัปดาห์ = 12 ชั่วโมง\n",
      "\n",
      "Final Answer: [12] \n",
      " Extracted Answer: 12 \n",
      "\n",
      "Query: บ็อบบีซึ่งเป็นเพื่อนของไบรอันมีวิดีโอเกมน้อยกว่า 3 เท่าของจำนวนวิดีโอเกมที่ไบรอันมี 5 รายการ หากไบรอันมีวิดีโอเกม 20 รายการแต่ทำหายไป 5 รายการก่อนที่จะมีการเปรียบเทียบ บ็อบบีมีวิดีโอเกมทั้งหมดเท่าใด \n",
      " Correct Answer: 40 \n",
      " Generated Answer: 1. ไบรอันมีวิดีโอเกม 20 รายการและมี 5 รายการหายไป\n",
      "   - จุดเริ่มนี้ ไบรอันมี 20 - 5 = 15 รายการ\n",
      "\n",
      "2. บ็อบบีมีวิดีโอเกมน้อยกว่าไบรอันโดย 3 เท่า\n",
      "   - ดังนั้น บ็อบบีมี (1/3) * 15 = 5 รายการ\n",
      "\n",
      "3. เมื่อไบรอันทำหายไป 5 รายการ\n",
      "   - บ็อบบียังคงมี 5 + 5 = 10 รายการ\n",
      "\n",
      "ผล: บ็อบบีมีวิดีโอเกมทั้งหมด 10 รายการ [10] \n",
      " Extracted Answer: 10 \n",
      "\n",
      "Query: อิซาเบลซื้อของสำหรับงานเลี้ยงวันเกิดน้องสาวคนเล็กของเธอ โดยเธอใช้เงิน $12 เป็นค่าวัตถุดิบเค้ก $43 เป็นค่าของขวัญวันเกิด $15 เป็นค่าของตกแต่ง $4 เป็นค่าบัตรเชิญ และ $22 เป็นค่าถุงใส่ของชำร่วยสำหรับแขกที่มาร่วมงาน เธอหารค่าใช้จ่ายทั้งหมดกับพ่อและแม่รวมสามคนเท่าๆ กัน ทั้งสามคนต้องจ่ายคนละกี่ดอลลาร์ \n",
      " Correct Answer: 32 \n",
      " Generated Answer: Step 1: Calculate the total cost of items purchased.\n",
      "- Cake: $43\n",
      "- Birthday gift: $15\n",
      "- Table setting: $4\n",
      "- Invitations: $22\n",
      "\n",
      "Total = $43 + $15 + $4 + $22 = $84\n",
      "\n",
      "Step 2: Determine how much each person needs to contribute.\n",
      "\n",
      "Since she bought it with three people, divide the total cost by three:\n",
      "$84 ÷ 3 = $28\n",
      "\n",
      "Therefore, [28] \n",
      " Extracted Answer: 28 \n",
      "\n",
      "Query: ฌองแก่กว่ามาร์คสองปี เมื่อสองปีที่แล้วมาร์คอายุมากกว่าครึ่งหนึ่งของอายุของแจน 5 ปี ถ้าตอนนี้แจนอายุ 30 ปี ฌองมีอายุกี่ปี \n",
      " Correct Answer: 23 \n",
      " Generated Answer: 1. จากข้อความใน question เราสามารถสรุปว่า:\n",
      "   - 2 ปีที่ผ่านมา: มาร์ค > ฌอง\n",
      "   - 2 ปีที่ผ่านมา: มาร์ค = ครึ่งหนึ่งของอายุของแจน + 5\n",
      "   - ตอนนี้: แจน = 30\n",
      "\n",
      "2. เรียงลำดับข้อมูล:\n",
      "   - 2 ปีที่ผ่านมา: มาร์ค > ฌอง\n",
      "   - 2 ปีที่ผ่านมา: มาร์ค = ครึ่งหนึ่งของอายุของแจน + 5\n",
      "   - ตอนนี้: แจน = 30\n",
      "\n",
      "3. แทนค่าในข้อ 2 ไปยังข้อ 1:\n",
      "   - 2 ปีที่ผ่านมา: มาร์ค > ครึ่งหนึ่งของอายุของแจน + 5\n",
      "   - ตอนนี้: ครึ่งหนึ่งของอายุของแจน + 5 = 30\n",
      "\n",
      "4. \n",
      " Extracted Answer: Empty Answer \n",
      "\n",
      "Query: จอห์นซื้อนม 2 ดอลลาร์ ไข่ 3 ดอลลาร์ หลอดไฟ 3 ดอลลาร์ ถ้วย 3 ดอลลาร์ และกับดักแมลงสาบ 4 ดอลลาร์ หากมีภาษี 10% สำหรับสินค้าทั้งหมดที่ไม่ใช่อาหาร สินค้าทั้งหมดมีราคารวมกันเท่าใด \n",
      " Correct Answer: 16 \n",
      " Generated Answer: สิ่งที่จอห์นซื้อรวมกัน = 2 + 3 + 3 + 3 + 4 = 15 ดอลลาร์\n",
      "ภาษี: 15 × 10% = 1.50 ดอลลาร์\n",
      "\n",
      "ราคารวมของสินค้าทั้งหมดก่อนภาษี = 15 + 1.50 = 16.50 ดอลลาร์ \n",
      " Extracted Answer: Empty Answer \n",
      "\n",
      "Query: บิลลีขายแผ่นดีวีดี เมื่อวันอังคาร เขามีลูกค้า 8 คน ลูกค้า 3 คนแรกซื้อดีวีดีคนละแผ่น ลูกค้า 2 คนถัดมาซื้อคนละ 2 แผ่น ลูกค้า 3 คนสุดท้ายไม่ได้ซื้อเลยสักแผ่น เมื่อวันอังคาร บิลลีขายดีวีดีได้กี่แผ่น \n",
      " Correct Answer: 7 \n",
      " Generated Answer: 1. ลูกค้า 3 คนแรกซื้อดีวีดีคนละแผ่น:\n",
      "   3 × 1 = 3 แผ่น\n",
      "\n",
      "2. ลูกค้า 2 คนถัดมาซื้อคนละ 2 แผ่น:\n",
      "   2 × 2 = 4 แผ่น\n",
      "\n",
      "3. ลูกค้า 3 คนสุดท้ายไม่ได้ซื้อเลยสักแผ่น:\n",
      "   0 แผ่น\n",
      "\n",
      "4. เพื่อหาจำนวนทั้งหมดที่ขายในวันนี้:\n",
      "   3 + 4 + 0 = 7 แผ่น\n",
      "\n",
      "Final Answer: [7] \n",
      " Extracted Answer: 7 \n",
      "\n",
      "Query: เวนดี้ให้อาหารไก่เป็นประจำทุกวันด้วยอาหารไก่คลุกตัวละสามถ้วยซึ่งประกอบด้วยเมล็ดพืช หนอนนก และผักเพื่อช่วยให้ไก่ของเธอมีสุขภาพแข็งแรง เธอแบ่งให้อาหารไก่เป็นสามมื้อ ในตอนเช้า เธอให้อาหารไก่ 15 ถ้วย ในตอนบ่าย เธอให้อาหารไก่อีก 25 ถ้วย ถ้าไก่ในเล้าของเวนดี้มีทั้งหมด 20 ตัว เธอจะต้องให้อาหารไก่ในมื้อสุดท้ายของวันเป็นจำนวนกี่ถ้วย \n",
      " Correct Answer: 20 \n",
      " Generated Answer: 1. เริ่มจากข้อมูลที่เราได้รับ เราต้องคำนวณจำนวนที่เวนดี้ให้อาหารไก่ในมื้อสุดท้ายของวัน\n",
      "\n",
      "2. ในการหาจำนวนที่เธอให้อาหารไก่ในมื้อสุดท้ายของวัน เราต้องใช้ข้อมูลที่เรารู้เกี่ยวกับการแบ่งอาหารระหว่างมื้อและจำนวนไก่\n",
      "\n",
      "3. ตามข้อมูลที่เราทราบ ไก่ในเล้าของเวนดี้มีทั้งหมด 20 ตัว\n",
      "\n",
      "4. ในแต่ละมื้อ เธอกำลังให้อาหารไก่ 3 มื้อ (เช้า-บ่าย-ค่ำ)\n",
      "\n",
      "5. เรายังทราบว่าในมื้อเช้าและบ่าย เธอให้อาหารไก่ 15 ถ้วยและ 25 ถ้วยตามลำดับ\n",
      "\n",
      "6. จากข้อมูลเหล่านี้ จึงสามารถคำนวณได้ว่าไก่ในมื \n",
      " Extracted Answer: Empty Answer \n",
      "\n",
      "Query: ผู้สมัครสองคนลงสมัครชิงตำแหน่งตัวแทนชั้นเรียนที่โรงเรียนในซาราย หากผู้ชนะได้รับ 3/4 ของคะแนนโหวต และนักเรียนในชั้นเรียนที่โหวตมีจำนวนทั้งหมด 80 คน จงคำนวณคะแนนโหวตที่ผู้แพ้ได้รับ \n",
      " Correct Answer: 20 \n",
      " Generated Answer: 1. เราทราบว่าคะแนนทั้งหมดคือ 80 คน * 2 = 160 คะแนน (เพราะเป็นการลงสมัครสองคน)\n",
      "2. ถ้าผู้ชนะได้รับ 3/4 ของคะแนนโหวต: 3/4 * 160 = 120 คะแนน\n",
      "3. ดังนั้นผู้แพ้จะได้รับ: 160 - 120 = 40 คะแนน \n",
      " Extracted Answer: Empty Answer \n",
      "\n",
      "Query: โรงเรียนสี่แห่งลงแข่งขันทัวร์นาเมนต์บาสเกตบอล โรงเรียนแต่ละแห่งส่งทีมบาสเกตบอลหญิงหนึ่งทีมและทีมบาสเกตบอลชายหนึ่งทีม โดยแต่ละทีมมีผู้เล่น 5 คน โรงเรียนแต่ละแห่งยังส่งโค้ชไปประจำอีกทีมละคนด้วยเช่นกัน สรุปแล้ว โรงเรียนทุกแห่งส่งคนเข้าร่วมการแข่งขันทั้งหมดกี่คน \n",
      " Correct Answer: 48 \n",
      " Generated Answer: 1. ทีมบาสเก็ตบอลหญิง: 4 ทีม x 5 คน = 20 คน\n",
      "2. ทีมบาสเก็ตบอลชาย: 4 ทีม x 5 คน = 20 คน\n",
      "3. โค้ช: 4 โรงเรียน x 1 คน = 4 คน\n",
      "\n",
      "Total = 20 + 20 + 4 = 44 คน \n",
      " Extracted Answer: Empty Answer \n",
      "\n",
      "Query: จอห์นได้รับรางวัลจากที่ทำงาน รางวัลนี้เป็นเงินรางวัลจำนวน $5000 ที่ได้เพียง 1 ครั้งและเป็นการเพิ่มเงินเดือนขึ้น 5% ถ้าเขาได้เงินสัปดาห์ละ $2000 ในทุกสัปดาห์ของปี และเขาได้รับรางวัลนี้ในวันแรกของปี ในปีนั้นเขาทำได้เงินทั้งหมดเท่าไหร่ \n",
      " Correct Answer: 114200 \n",
      " Generated Answer: 1. เขาได้รับรางวัล $5000 ซึ่งเป็นการเพิ่มเงินเดือนขึ้น 5%\n",
      "   - คูณ 5% ด้วย $2000 = $100\n",
      "   - จึงได้รับเพิ่มเติม $100/สัปดาห์ * 5 สัปดาห์ = $500\n",
      "\n",
      "2. รวมยอดเงินรางวัล + ยอดเงินเดือนปกติ\n",
      "   - ยอดเงินรางวัล: $5000\n",
      "   - ยอดเงินเดือนปกติ: $2000/สัปดาห์ * 5 สัปดาห์ = $10000\n",
      "   - ยอดรวม: $5000 + $10000 = $15000\n",
      "\n",
      "3. ผลรวมของเงินรางวัลและการทำธุรกิจในปีนั้นมีค่าอยู่ที่ $15000. \n",
      " Extracted Answer: Empty Answer \n",
      "\n",
      "Query: ริชาร์ดอาศัยอยู่ในอาคารอพาร์ตเมนต์สูง 15 ชั้น แต่ละชั้นมีห้อง 8 ยูนิต และมีผู้อาศัยอยู่ 3/4 ของยูนิตทั้งหมด จำนวนยูนิตทั้งหมดที่ไม่มีผู้อาศัยคือกี่ยูนิต \n",
      " Correct Answer: 30 \n",
      " Generated Answer: จากข้อมูลที่ให้มา:\n",
      "\n",
      "1. ริชาร์ดอาศัยอยู่ในอาคารอพาร์ตเมนต์สูง 15 ชั้น\n",
      "2. แต่ละชั้นมีห้อง 8 ยูนิต\n",
      "3. มีผู้อาศัยอยู่ 3/4 ของยูนิตทั้งหมด\n",
      "\n",
      "เราสามารถคำนวณได้ว่า:\n",
      "- จำนวนยูนิตทั้งหมด = 15 × 8 = 120 ยูนิต\n",
      "- จำนวนยูนิตที่มีผู้อาศัย = 3/4 × 120 = 90 ยูนิต\n",
      "\n",
      "ดังนั้น, คำตอบที่เราต้องการคือจำนวนยูนิตที่ไม่มีผู้อาศัย:\n",
      "= 120 - 90 = 30 ยูนิต \n",
      " Extracted Answer: Empty Answer \n",
      "\n",
      "Query: รานีมีปูมากกว่าโมนิกสิบตัว โมนิกมีปูน้อยกว่าโบ 4 ตัว ถ้าโบมีปู 40 ตัว จงคำนวณจำนวนปูทั้งหมดที่ทั้งสามคนมีรวมกัน \n",
      " Correct Answer: 122 \n",
      " Generated Answer: 1. จากข้อความกำหนด เราสามารถสรุปได้ว่า:\n",
      "   - Rani มีปูมากกว่า Monika สิบตัว: ดังนั้น ปูของ Rani = x (x > 10)\n",
      "   - Monika มีปูน้อยกว่า Bo 4 ตัว: ดังนั้น ปูของ Monika = y (y < 40 - 4 = 36) \n",
      "   - Bo มีปู 40 ตัว\n",
      "\n",
      "2. จากข้อมูลเหล่านี้ ทำให้เราสามารถหาค่าของ y และ x ได้:\n",
      "\n",
      "   ① ปูของ Monika + 4 = ปูของ Bo\n",
      "      y + 4 = 40\n",
      "      y = 36\n",
      "   \n",
      "   ② ปูของ Rani > ปูของ Monika\n",
      "      x > y\n",
      "      x > 36\n",
      "\n",
      "3. ดังนั้น ปูของ Rani มีมากกว่า 37 ตัว\n",
      "\n",
      "4. เลือก x = 38 (เพราะ x > 36 และ x เป็นตัวเลข \n",
      " Extracted Answer: Empty Answer \n",
      "\n",
      "Query: ลีเคยวิ่งข้ามรั้ว 400 เมตรได้เร็วกว่าเจอรัลด์สองวินาที แต่เจอรัลด์ปรับเปลี่ยนการรับประทานอาหารเพื่อลดน้ำหนัก ทำให้เขาเร็วขึ้น 10% หากลีวิ่งข้ามรั้ว 400 เมตรได้ภายใน 38 วินาที เจอรัลด์ที่ผ่านการควบคุมอาหารเพื่อลดน้ำหนักจะสามารถวิ่งข้ามรั้ว 400 เมตรได้ภายในกี่วินาที \n",
      " Correct Answer: 36 \n",
      " Generated Answer: Step 1: Determine the initial speed difference.\n",
      "Léo runs 400 meters faster than Goldy initially.\n",
      "\n",
      "Step 2: Calculate Goldy's initial time to run 400 meters.\n",
      "Goldy takes 38 seconds to run 400 meters.\n",
      "\n",
      "Step 3: Adjust Goldy's time for reduced weight.\n",
      "Goldy's time decreases by 10%, so his adjusted time is:\n",
      "38 * (1 - 0.1) = 38 * 0.9 = 34.2 seconds\n",
      "\n",
      "Step 4: Compare Léo's and Goldy's times.\n",
      "Léo takes 38 seconds.\n",
      "Goldy adjusts to take 34.2 seconds after losing weight.\n",
      "\n",
      "Final Answer: [34] \n",
      " Extracted Answer: 34 \n",
      "\n",
      "Query: เจเน็ตซื้อเข็มกลัดให้ลูกสาว เธอจ่ายค่าวัสดุสำหรับทำเข็มกลัด $500 และจ่ายค่าประกอบเข็มกลัดให้ช่างอัญมณีอีก $800 หลังจากนั้น เธอจ่ายค่าประกันเข็มกลัดอีก 10% ของยอดที่จ่ายไปข้างต้น เธอจ่ายเงินไปทั้งหมดกี่ดอลลาร์ \n",
      " Correct Answer: 1430 \n",
      " Generated Answer: $500 + $800 = $1300 (ค่าส่วนประกอบ) \n",
      " Extracted Answer: Empty Answer \n",
      "\n",
      "Query: เกรทเชนมีเหรียญ 110 เหรียญ โดยมีเหรียญทองมากกว่าเหรียญเงิน 30 เหรียญ เกรทเชนมีเหรียญทองกี่เหรียญ \n",
      " Correct Answer: 70 \n",
      " Generated Answer: จากข้อมูลที่ให้我们知道:\n",
      "- รวมแล้วมีเหรียญ 110 เหรียญ\n",
      "- เหรียญทองมากกว่าเหรียญเงิน 30 เหรียญ\n",
      "\n",
      "เราจะเข้าใจว่า:\n",
      "- เหรียญเงิน = x\n",
      "- เหรียญทอง = x + 30 (เพราะเป็นจำนวนเพิ่มขึ้น 30 เหรียญ)\n",
      "\n",
      "ดังนั้นเราสามารถสรุปได้ว่า:\n",
      "x + (x + 30) = 110\n",
      "\n",
      "จงแก้สมการ:\n",
      "2x + 30 = 110\n",
      "2x = 80\n",
      "x = 40\n",
      "\n",
      "ดังนั้น:\n",
      "เหรียญเงิน = 40 เหรียญ\n",
      "เหรียญทอง = 40 + 30 = 70 เหรียญ\n",
      "\n",
      "final answer: 70 [เหรียญ] \n",
      " Extracted Answer: เหรียญ \n",
      "\n",
      "Query: ไคลีและโรเบิร์ตชอบไปชายหาดเพื่อเก็บเปลือกหอย ในวันจันทร์ไคลีเก็บเปลือกหอยได้มากกว่าโรเบิร์ตที่เก็บได้ 20 อันเป็นจำนวน 5 อัน ในวันอังคารไคลีเก็บเปลือกหอยได้มากกว่าที่ตัวเองเก็บได้ในวันจันทร์ 2 เท่า ไคลีเก็บเปลือกหอยได้กี่อันในวันอังคาร \n",
      " Correct Answer: 50 \n",
      " Generated Answer: จากข้อความ เราสามารถสรุปได้ว่า:\n",
      "1. ไคลีเก็บเปลือกหอยได้มากกว่าโรเบิร์ต 20 อัน เป็นจำนวน 5 อัน คือ ไคลี = 5 + 20 = 25 อัน\n",
      "2. ในวันอังคารไคลีเก็บเปลือกหอยได้มากกว่าที่ตัวเองเก็บในวันจันทร์ 2 เท่า คือ 2 * 25 = 50 อัน\n",
      "3. คำตอบที่เราต้องการคือจำนวนเปลือกหอยที่ไคลีเก็บในวันอังคาร\n",
      "\n",
      "ตอบ: ไคลีเก็บเปลือกหอยได้ 50 อันในวันอังคาร [50] \n",
      " Extracted Answer: 50 \n",
      "\n",
      "Query: จอร์แดนเล่นวิดีโอเกม 2 ชั่วโมงทุกวัน และเขายังทำงานพาร์ทไทม์โดยได้ค่าแรง $10 ต่อชั่วโมง จอร์แดนจะหาเงินได้เท่าใดในหนึ่งสัปดาห์หากนำเวลาที่เล่นวิดีโอเกมไปทำงานพาร์ทไทม์ \n",
      " Correct Answer: 140 \n",
      " Generated Answer: Step 1: Calculate the daily earnings from working part-time.\n",
      "$10/hour * 2 hours/day = $20/day\n",
      "\n",
      "Step 2: Calculate the weekly earnings from working part-time.\n",
      "$20/day * 5 days/week = $100/week\n",
      "\n",
      "Answer: [100] \n",
      " Extracted Answer: 100 \n",
      "\n",
      "Query: เจเน็ตมีปากกาสีเขียว 22 ด้าม และปากกาสีเหลือง 10 ด้าม ต่อมาเธอซื้อปากกาสีน้ำเงิน 6 ถุง และปากกาสีแดง 2 ถุง ถุงปากกาสีน้ำเงินแต่ละใบมีปากกา 9 ด้าม และถุงปากกาสีแดงแต่ละใบมี 6 ด้าม ตอนนี้เจเน็ตมีปากกาทั้งหมดกี่ด้าม \n",
      " Correct Answer: 98 \n",
      " Generated Answer: Step 1: Calculate the initial number of pencils.\n",
      "- Green pens: 22 per pencil * 1 = 22\n",
      "- Yellow pens: 10 per pencil * 1 = 10\n",
      "\n",
      "Total initial pencils = 22 + 10 = 32\n",
      "\n",
      "Step 2: Add new pencils purchased.\n",
      "- Blue pens: 6 per pack * 1 = 6\n",
      "- Red pens: 2 per pack * 1 = 2\n",
      "\n",
      "Total additional pencils = 6 + 2 = 8\n",
      "\n",
      "Step 3: Total pencils after purchase.\n",
      "Total pencils now = Initial pencils + Additional pencils\n",
      "= 32 + 8\n",
      "= 40\n",
      "\n",
      "Final Answer: [40] \n",
      " Extracted Answer: 40 \n",
      "\n",
      "Query: ชอว์นดาเห็นว่าเด็กๆ แถวบ้านน่าจะต้องการใช้บริการสูบลมยางจักรยานอย่างแน่นอน เธอตัดสินใจว่าวิธีที่คิดค่าบริการที่ดีที่สุดคือคิดตามจำนวนยาง ค่าสูบลมยางแต่ละเส้นคือ 25 เซ็นต์ วันแรกมีคนขี่จักรยาน 5 คนมาสูบลมยางทั้งสองเส้น และมี 3 คนมาสูบลมยางทุกเส้นของรถสามล้อ ในตอนท้าย ลูกค้าคนหนึ่งมาพร้อมกับรถล้อเดี่ยว ชอว์นดาได้เงินกี่ดอลลาร์ในวันนั้น \n",
      " Correct Answer: 5 \n",
      " Generated Answer: 1. เริ่มจากวันแรก: มี 5 คนมาสูบลมยางทั้งสองเส้น และ 3 คนมาสูบลมยางทุกเส้นของรถสามล้อ.\n",
      "   - ค่าสูบลมยางทั้งสองเส้น = 25เซ็นต์/เส้น * 2เส้น = 50เซ็นต์\n",
      "   - ค่าสูบลมยางทุกเส้นของรถสามล้อ = 25เซ็นต์/เส้น * 3เส้น = 75เซ็นต์\n",
      "\n",
      "2. รวมยอดขายในวันแรก:\n",
      "   - 50เซ็นต์ (สูบลมยางทั้งสองเส้น) + 75เซ็นต์ (สูบลมยางทุกเส้นของรถสามล้อ) = 125เซ็นต์\n",
      "\n",
      "3. ถัดไปมีคนมาสูบลมยางรถล้อเดี่ยว:\n",
      "   - ค่าสูบลมยางรถล้อเดี่ยว = 25เซ็นต์/เส้น * 1เส้น = 25 \n",
      " Extracted Answer: Empty Answer \n",
      "\n",
      "Query: จอห์นนี่นำเงินเบี้ยเลี้ยงออกมา $20 และบวกเพิ่มไปอีก $10 จากนั้นเขานำเงินจำนวนนี้ไปลงทุนซึ่งเพิ่มขึ้นสามเท่าในหนึ่งปี ดังนั้นเขามีเงินเท่าไหร่หลังจากผ่านไปหนึ่งปี \n",
      " Correct Answer: 90 \n",
      " Generated Answer: John ได้รับเงินเบี้ยเลี้ยงมา $20 และเพิ่มมากกว่านี้อีก $10 ทำให้เขาสามารถลงทุนในหนึ่งปี โดยมีเงินทั้งหมด $30 ในการลงทุน ต่อเนื่องจากการลงทุน 3 เท่า ในหนึ่งปี จึงจะมีผลให้มีการเติบโตของเงินลงทุนเป็น 3 * 3 = 9 เท่า ดังนั้น, หลังจากผ่านไปหนึ่งปี, John จะมีเงินรวมอยู่ที่ $30 * 9 = $270 \n",
      " Extracted Answer: Empty Answer \n",
      "\n",
      "Query: เคทีชงกาแฟโดยใช้น้ำตาลเป็นหน่วยช้อนชาและน้ำเป็นหน่วยแก้วในอัตราส่วน 7:13 หากจำนวนช้อนชาของน้ำตาลและจำนวนแก้วของน้ำที่เธอใช้นำมารวมกันได้ 120 ให้คำนวณว่าเธอใช้น้ำตาลไปกี่ช้อนชา \n",
      " Correct Answer: 42 \n",
      " Generated Answer: ตัวอย่างการคำนวณ:\n",
      "1. กำหนดสมการจากอัตราส่วน 7:13\n",
      "   7x + 13y = 120\n",
      "   x เป็นช้อนชาของน้ำตาล y เป็นแก้วของน้ำ\n",
      "\n",
      "2. เราสามารถหาค่า x (ช้อนชาของน้ำตาล) จากสมการดังกล่าวได้\n",
      "   7x + 13(120 - 7x) = 120\n",
      "   7x + 1560 - 91x = 120\n",
      "   -84x = -1440\n",
      "   x = 18\n",
      "\n",
      "3. เรียกว่าเราหาค่า y แล้ว\n",
      "   13y = 120 - 7(18)\n",
      "   13y = 120 - 126\n",
      "   13y = -6\n",
      "   y = -6/13\n",
      "\n",
      "4. แต่ในความเป็นจริง y จะไม่มีผลต่อการตอบคำถามของเรา เพราะ question ask about amount of sugar only.\n",
      "\n",
      "5. ดังนั้น คำตอบ \n",
      " Extracted Answer: Empty Answer \n",
      "\n",
      "Query: โซโลต้องอ่านหนังสือเรียนวิชาวิทยาศาสตร์ 4 หน้า หนังสือเรียนวิชาสังคมศึกษา 20 หน้า หนังสือเรียนวิชาประวัติศาสตร์ 7 หน้า และหนังสือเรียนวิชาภูมิศาสตร์ 8 หน้า วันจันทร์โซโลอ่านหนังสือไป 15 หน้า หากเขามีเวลาอีก 4 วันเพื่ออ่านให้ครบทุกหน้า เขาจะต้องอ่านหนังสือเรียนเฉลี่ยวันละกี่หน้า \n",
      " Correct Answer: 6 \n",
      " Generated Answer: เราสามารถหาคำตอบดังนี้:\n",
      "\n",
      "1. คิดเป็นร้อยละ: \n",
      "   - หนังสือเรียนวิทยาศาสตร์: 4/40 * 100 = 10%\n",
      "   - หนังสือเรียนสังคมศึกษา: 20/40 * 100 = 50%\n",
      "   - หนังสือเรียนประวัติศาสตร์: 7/40 * 100 = 17,5%\n",
      "   - หนังสือเรียนภูมิศาสตร์: 8/40 * 100 = 20%\n",
      "\n",
      "2. คำนวณเวลาที่เหลือ:\n",
      "   - 4 วัน = 24 ชั่วโมง\n",
      "   - 24 / (1 + 5 + 17,5 + 20) = 24 / 43 ≈ 0,564 (หรือประมาณ 56.4%)\n",
      "\n",
      "3. คำนวณหน้าที่เหลือ:\n",
      "   - หนังสือเรียนวิทยาศาสตร์: 4 \n",
      " Extracted Answer: Empty Answer \n",
      "\n",
      "Query: ปากกาด้ามหนึ่งมีราคาเท่ากับดินสอและยางลบรวมกัน ดินสอแท่งหนึ่งราคา $1.20 และยางลบก้อนหนึ่งราคา $0.30 ปากกา 8 ด้ามจะมีราคาเท่าไหร่ \n",
      " Correct Answer: 12 \n",
      " Generated Answer: ตั้งแต่ว่า ด้านบนบอกว่า \"ปากกา 8 ด้าม\" มีราคาเท่ากับ \"ดินสอและยางลบรวมกัน\"\n",
      "ดังนั้น จงหาค่าที่ได้จากการบวกของราคาของดินสอและยางลบ\n",
      "$1.20 (ราคาของดินสอ) + $0.30 (ราคาของยางลบ) = $1.50 (ราคารวมของ 1 ชิ้น)\n",
      "ดังนั้น ราคาของ 8 ด้ามปากกาจะเป็น $1.50 × 8 = $12.00 \n",
      " Extracted Answer: Empty Answer \n",
      "\n",
      "Query: เจนน่าและแม่ของเธอเก็บแอปเปิลจากฟาร์มแอปเปิล โดยเจนน่าเก็บแอปเปิลได้เป็นครึ่งหนึ่งของที่แม่เก็บได้ ถ้าแม่ของเธอเก็บแอปเปิลได้ 20 ผล ทั้งคู่เก็บแอปเปิลได้กี่ผล \n",
      " Correct Answer: 30 \n",
      " Generated Answer: 1. แม่ของเธอเก็บแอปเปิลได้ 20 ผล.\n",
      "2. เจนน่าเก็บแอปเปิลได้เป็นครึ่งหนึ่งของที่แม่เก็บได้: 20 × 1/2 = 10 ผล.\n",
      "3. ทั้งคู่รวมกัน: 20 (แม่) + 10 (เจนน่า) = 30 ผล.\n",
      "4. คำตอบ: 30 ผล. \n",
      " Extracted Answer: Empty Answer \n",
      "\n",
      "Query: วงโยธวาทิตสั่งเครื่องแบบมาใหม่ โดยชุดยูนิฟอร์มแต่ละชุดมาพร้อมกับหมวกราคา $25 แจ็กเก็ตราคาสามเท่าของหมวก และกางเกงที่มีราคาเป็นค่าเฉลี่ยของหมวกและแจ็คเก็ต ยูนิฟอร์มแต่ละชุดมีราคารวมเท่าไหร่ \n",
      " Correct Answer: 150 \n",
      " Generated Answer: $25 (หมวก) x 3 = $75 (หมวก 3 ชุด)\n",
      "$25 (แจ็คเก็ต) x 1 = $25 (แจ็คเก็ต)\n",
      "$25 (กางเกง) x 0.5 = $12.50 (กางเกง)\n",
      "$75 + $25 + $12.50 = $112.50\n",
      "\n",
      "Final Answer: [112.50] \n",
      " Extracted Answer: 112.50 \n",
      "\n",
      "Query: แกรี่ชอบเดินรอบริมสวนสาธารณะท้องถิ่น ซึ่งเป็นรูปสี่เหลี่ยมผืนผ้าที่มีขนาด 1.5 ไมล์คูณ 6 ไมล์ ถ้าเขาเดินด้วยความเร็ว 3 ไมล์/ชั่วโมง เขาจะใช้เวลาเดินกี่ชั่วโมง \n",
      " Correct Answer: 5 \n",
      " Generated Answer: Step 1: Calculate the perimeter of the park.\n",
      "The park is a rectangle with dimensions 1.5 miles (length) x 6 miles (width).\n",
      "Perimeter = 2 * (Length + Width)\n",
      "Perimeter = 2 * (1.5 + 6)\n",
      "Perimeter = 2 * 7.5\n",
      "Perimeter = 15 miles\n",
      "\n",
      "Step 2: Determine how long it takes to walk this distance at the given speed.\n",
      "Speed = 3 miles/hour\n",
      "Time = Distance / Speed\n",
      "Time = 15 miles / 3 mph\n",
      "Time = 5 hours\n",
      "\n",
      "Therefore, [5] \n",
      " Extracted Answer: 5 \n",
      "\n",
      "Query: แชดสั่งเบอร์ริโตแบบเลือกได้เองเป็นมื้อเที่ยง โดยเบอร์ริโตพื้นฐานมีราคา $6.50 เขาเพิ่มเนื้อราคา $2.00 เพิ่มชีสราคา $1.00 เพิ่มอะโวคาโดราคา $1.00 และเพิ่มซอส 2 ชนิดในราคาอย่างละ $0.25 เขาตัดสินใจอัปเกรดอาหารของเขาเพิ่มอีก $3.00 ซึ่งจะเพิ่มมันฝรั่งทอดและเครื่องดื่ม เขามีบัตรของขวัญมูลค่า $5.00 ที่ใช้ตอนจ่ายเงิน เขายังต้องจ่ายเพิ่มอีกเท่าไหร่ \n",
      " Correct Answer: 9 \n",
      " Generated Answer: Step 1: Calculate the base price of the burger.\n",
      "Base price = $6.50\n",
      "\n",
      "Step 2: Add the additional costs for toppings.\n",
      "Cheddar cheese + $1.00\n",
      "Avocado + $1.00\n",
      "Sauce (2 types) + $0.25 * 2 = $0.50\n",
      "Total additional cost = $1.00 + $1.00 + $0.50 = $2.50\n",
      "\n",
      "Step 3: Calculate the total before the upgrade.\n",
      "Total before upgrade = Base price + Additional costs\n",
      "Total before upgrade = $6.50 + $2.50 = $9.00\n",
      "\n",
      "Step 4: Add the extra $3.00 upgrade fee.\n",
      "Total after upgrade = Total before upgrade + Upgrade fee\n",
      "Total after upgrade = $9.00 + $3.00 = $12.00\n",
      "\n",
      "Step 5: Subtract the gift card value from the total.\n",
      "Gift card value = $5.00\n",
      "Final total = Total after upgrade - Gift card value\n",
      "Final total = $12.00 - $5.00 = $7.00\n",
      "\n",
      "Answer: [7] \n",
      " Extracted Answer: 7 \n",
      "\n"
     ]
    }
   ],
   "source": [
    "mgsm.print_sample(qwen_model,\"th\", 32)"
   ]
  }
 ],
 "metadata": {
  "kaggle": {
   "accelerator": "gpu",
   "dataSources": [],
   "dockerImageVersionId": 30822,
   "isGpuEnabled": true,
   "isInternetEnabled": true,
   "language": "python",
   "sourceType": "notebook"
  },
  "kernelspec": {
   "display_name": "dimentuna-5uZVu_yM-py3.11",
   "language": "python",
   "name": "python3"
  },
  "language_info": {
   "codemirror_mode": {
    "name": "ipython",
    "version": 3
   },
   "file_extension": ".py",
   "mimetype": "text/x-python",
   "name": "python",
   "nbconvert_exporter": "python",
   "pygments_lexer": "ipython3",
   "version": "3.11.10"
  }
 },
 "nbformat": 4,
 "nbformat_minor": 4
}
